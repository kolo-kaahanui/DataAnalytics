{
 "cells": [
  {
   "cell_type": "markdown",
   "metadata": {},
   "source": [
    "# Project 8: Viame's Frame Level Classifier on MNIST"
   ]
  },
  {
   "cell_type": "markdown",
   "metadata": {},
   "source": [
    "Viame's Frame Level Classifier uses Machine Learning to classify images. MNIST's Handwritten Digits is a famous dataset that I have already looked at in a previous project. In the prveious projct I used fundamental Deep Learning strategies to create and test a model. In this project I look to use the Viame app. It's a bit of a step backwards to use Viame given the MNIST dataset because I need to convert the pixelated columnn based data into a directory of images in order to train and test the model. To get viame see the following link: https://github.com/VIAME/VIAME, and once you have it, we will be working out of this directory: **Viame/examples/frame_level_classifier/**."
   ]
  },
  {
   "cell_type": "code",
   "execution_count": 1,
   "metadata": {},
   "outputs": [],
   "source": [
    "import pandas as pd\n",
    "import numpy as np\n",
    "from PIL import Image"
   ]
  },
  {
   "cell_type": "markdown",
   "metadata": {},
   "source": [
    "This is a great place to get the dataset: https://www.kaggle.com/c/digit-recognizer/data"
   ]
  },
  {
   "cell_type": "code",
   "execution_count": 2,
   "metadata": {},
   "outputs": [],
   "source": [
    "df = pd.read_csv(\"train.csv\")"
   ]
  },
  {
   "cell_type": "markdown",
   "metadata": {},
   "source": [
    "We can look at the data"
   ]
  },
  {
   "cell_type": "code",
   "execution_count": 7,
   "metadata": {},
   "outputs": [
    {
     "data": {
      "text/plain": [
       "<matplotlib.image.AxesImage at 0x28e10278388>"
      ]
     },
     "execution_count": 7,
     "metadata": {},
     "output_type": "execute_result"
    },
    {
     "data": {
      "image/png": "[encoded data removed]",
      "text/plain": [
       "<Figure size 432x288 with 1 Axes>"
      ]
     },
     "metadata": {
      "needs_background": "light"
     },
     "output_type": "display_data"
    }
   ],
   "source": [
    "import matplotlib.pyplot as plt\n",
    "%matplotlib inline\n",
    "\n",
    "aPre = df.iloc[0]\n",
    "aPost = np.array(aPre[1:])\n",
    "aMat = aPost.reshape(28,28)\n",
    "\n",
    "plt.imshow(aMat, cmap=\"gray\")"
   ]
  },
  {
   "cell_type": "markdown",
   "metadata": {},
   "source": [
    "This view is dandy but the image need to be exported as previously mentoned."
   ]
  },
  {
   "cell_type": "markdown",
   "metadata": {},
   "source": [
    "## Training"
   ]
  },
  {
   "cell_type": "markdown",
   "metadata": {},
   "source": [
    "In order to use a model capable of classifying images it first must be trained. To train with Viame we need four things. A **directory of training images**, a **list of the image names** in a txt file, **labels.txt**, and a **specially formatted csv file**. I'm not gonna create the csv file here, however, here is a reference to an example: https://github.com/VIAME/VIAME/blob/master/examples/frame_level_classification/fish_no_fish.csv. The far left column in the example is the image name, all of the columns that say 544 need to be replaced with 28 (pixel dimensions), and the third column from the right is the classifying label for the corresponding image (so probably 0,1,2,3...8 or 9). The column on the far right should have 28 replace all values of 544 and everything else stays the same. The following code will go over how to create the **directory of images** and the **image list**. Please create a directory called \"training_data\" on your desktop, a directory called \"800images/\" within that, and make sure to replace YOUR_USER_NAME with your unique Windows user name. "
   ]
  },
  {
   "cell_type": "code",
   "execution_count": 8,
   "metadata": {},
   "outputs": [],
   "source": [
    "# Creating a directory of images \n",
    "dfX = df.drop(\"label\", axis=1)\n",
    "\n",
    "# This function takes a row of pixels and writes an images to a directory on the Desktop \n",
    "def exportImage(someIndex):\n",
    "    temp = dfX.iloc[someIndex]\n",
    "    temp=np.reshape(np.array(temp),(28,28))\n",
    "    im = Image.fromarray(temp.astype(np.uint8),\"L\")\n",
    "    # REMEMBER to create a directory called \"training_data\" and replace YOUR_USER_NAME\n",
    "    im.save(\"C:/Users/YOUR_USER_NAME/Desktop/training_data/800images/imgTrain{}.png\".format(str(someIndex)))\n",
    "        \n",
    "for i in range(800): # 42000\n",
    "    exportImage(i)"
   ]
  },
  {
   "cell_type": "code",
   "execution_count": null,
   "metadata": {},
   "outputs": [],
   "source": [
    "# Creating input_list.txt\n",
    "\n",
    "x = open(\"C:/Users/YOUR_USER_NAME/Dekstop/input_list.txt\",\"w\")\n",
    "out = \"\"\n",
    "template = \"training_data/800images/imgTrain{}.png\"\n",
    "\n",
    "for i in range(800): # 42000\n",
    "    temp = template.format(str(i))\n",
    "    temp += \"\\n\"\n",
    "    out += temp\n",
    "\n",
    "x.write(out)\n",
    "x.close()"
   ]
  },
  {
   "cell_type": "markdown",
   "metadata": {},
   "source": [
    "The last thing you need is \"labels.txt\". Its just a file with 10 lines, each like will be a different label. One line for each number digit (ie 1,2,3,4...8,9), no commas. Here is an example if your data has two labels: https://github.com/VIAME/VIAME/blob/master/examples/frame_level_classification/labels.txt. Now you have everything you need to train the classifier. First place the csv file you created in \"800images/\", place \"labels.txt\" in \"training_data/\", then place \"training_data/\", and \"input_list.txt\" in the Viames frame_level_classifier directory (\"Viame/examples/frame_level_classifier/\"). Now all that is left to do is run the \"train_csv_resnet_viame_csv\" bat file. This might take a while, especially if you are training a lot of photos or aren't using a GPU. "
   ]
  },
  {
   "cell_type": "markdown",
   "metadata": {},
   "source": [
    "## Testing"
   ]
  },
  {
   "cell_type": "markdown",
   "metadata": {},
   "source": [
    "Now that you have a trained model. To test it you just need the direcectory of images called \"testing_data\" and \"input_list.txt\" reflecting your test data. Get rid of the previous \"input_list.txt\", create a folder called \"testing_data/\" on your Desktop, and run the following code (and don't forget to replace YOUR_USER_NAME)"
   ]
  },
  {
   "cell_type": "code",
   "execution_count": 3,
   "metadata": {},
   "outputs": [],
   "source": [
    "# Create a directory of test images\n",
    "df = pd.read_csv(\"test.csv\")\n",
    "\n",
    "def exportImage(someIndex):\n",
    "    temp = df.iloc[someIndex]\n",
    "    temp=np.reshape(np.array(temp),(28,28))\n",
    "    im = Image.fromarray(temp.astype(np.uint8),\"L\")\n",
    "    # REMINDER to replace YOUR_USER_NAME and create the directory on your Desktop\n",
    "    im.save(\"C:/Users/YOUR_USER_NAME/Desktop/testing_data/imgTest{}.png\".format(str(someIndex)))\n",
    "    \n",
    "for i in range(28000):\n",
    "    exportImage(i)"
   ]
  },
  {
   "cell_type": "markdown",
   "metadata": {},
   "source": [
    "Now you need \"input_list.txt\", a line by line list of every single image that lives in the \"testing_data\" directory. This is shown below (but there is also a way to do this in CMD)."
   ]
  },
  {
   "cell_type": "code",
   "execution_count": null,
   "metadata": {},
   "outputs": [],
   "source": [
    "out = \"\"\n",
    "template = \"testing_data/imgTest{}.png\"\n",
    "\n",
    "for i in range(28000):\n",
    "    temp = template.format(str(i))\n",
    "    temp += \"\\n\"\n",
    "    out += temp\n",
    "    \n",
    "x = open(\"input_list.txt\",\"w\")\n",
    "x.write(out)\n",
    "x.close()"
   ]
  },
  {
   "cell_type": "markdown",
   "metadata": {},
   "source": [
    "Now I just drag and drop \"testing_data\" and \"input_list.txt\" to the directory, \"Viame/examples/frame_level_classifier/\" and run \"run_trained_model.bat\". This will produce a excel/csv file with the predictions. The left furthermost label column is the predicted values. These predictions can be isolated by copy and pasting the column into another excel/csv file."
   ]
  },
  {
   "cell_type": "markdown",
   "metadata": {},
   "source": [
    "# Conclusion"
   ]
  },
  {
   "cell_type": "markdown",
   "metadata": {},
   "source": [
    "Apparently, the csv file should be named groundtruth.csv but mine wasn't and worked fine. I just trained it with 800 images, achieving a classification rate of 92%. Its a little out of the way to create images from pixels then train a model but it works."
   ]
  }
 ],
 "metadata": {
  "kernelspec": {
   "display_name": "Python 3",
   "language": "python",
   "name": "python3"
  },
  "language_info": {
   "codemirror_mode": {
    "name": "ipython",
    "version": 3
   },
   "file_extension": ".py",
   "mimetype": "text/x-python",
   "name": "python",
   "nbconvert_exporter": "python",
   "pygments_lexer": "ipython3",
   "version": "3.7.6"
  }
 },
 "nbformat": 4,
 "nbformat_minor": 4
}

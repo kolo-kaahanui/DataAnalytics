{
 "cells": [
  {
   "cell_type": "markdown",
   "metadata": {},
   "source": [
    "# Volcano Cleaning\n"
   ]
  },
  {
   "cell_type": "markdown",
   "metadata": {},
   "source": [
    "A data cleaning project"
   ]
  },
  {
   "cell_type": "code",
   "execution_count": 110,
   "metadata": {},
   "outputs": [],
   "source": [
    "#import numpy as np\n",
    "import pandas as pd\n",
    "\n",
    "import seaborn as sns\n",
    "import matplotlib.pyplot as plt\n",
    "\n",
    "%matplotlib inline"
   ]
  },
  {
   "cell_type": "code",
   "execution_count": 111,
   "metadata": {},
   "outputs": [],
   "source": [
    "df = pd.read_csv('volcano_data_2010.csv')"
   ]
  },
  {
   "cell_type": "code",
   "execution_count": 112,
   "metadata": {},
   "outputs": [
    {
     "name": "stdout",
     "output_type": "stream",
     "text": [
      "<class 'pandas.core.frame.DataFrame'>\n",
      "RangeIndex: 63 entries, 0 to 62\n",
      "Data columns (total 36 columns):\n",
      " #   Column                              Non-Null Count  Dtype  \n",
      "---  ------                              --------------  -----  \n",
      " 0   Year                                63 non-null     int64  \n",
      " 1   Month                               63 non-null     int64  \n",
      " 2   Day                                 57 non-null     float64\n",
      " 3   TSU                                 2 non-null      object \n",
      " 4   EQ                                  1 non-null      object \n",
      " 5   Name                                63 non-null     object \n",
      " 6   Location                            63 non-null     object \n",
      " 7   Country                             63 non-null     object \n",
      " 8   Latitude                            63 non-null     float64\n",
      " 9   Longitude                           63 non-null     float64\n",
      " 10  Elevation                           63 non-null     int64  \n",
      " 11  Type                                63 non-null     object \n",
      " 12  Status                              63 non-null     object \n",
      " 13  Time                                63 non-null     object \n",
      " 14  VEI                                 19 non-null     float64\n",
      " 15  Agent                               23 non-null     object \n",
      " 16  DEATHS                              29 non-null     float64\n",
      " 17  DEATHS_DESCRIPTION                  29 non-null     float64\n",
      " 18  MISSING                             2 non-null      float64\n",
      " 19  MISSING_DESCRIPTION                 2 non-null      float64\n",
      " 20  INJURIES                            18 non-null     float64\n",
      " 21  INJURIES_DESCRIPTION                21 non-null     float64\n",
      " 22  DAMAGE_MILLIONS_DOLLARS             4 non-null      float64\n",
      " 23  DAMAGE_DESCRIPTION                  41 non-null     float64\n",
      " 24  HOUSES_DESTROYED                    7 non-null      float64\n",
      " 25  HOUSES_DESTROYED_DESCRIPTION        16 non-null     float64\n",
      " 26  TOTAL_DEATHS                        29 non-null     float64\n",
      " 27  TOTAL_DEATHS_DESCRIPTION            29 non-null     float64\n",
      " 28  TOTAL_MISSING                       2 non-null      float64\n",
      " 29  TOTAL_MISSING_DESCRIPTION           2 non-null      float64\n",
      " 30  TOTAL_INJURIES                      18 non-null     float64\n",
      " 31  TOTAL_INJURIES_DESCRIPTION          21 non-null     float64\n",
      " 32  TOTAL_DAMAGE_MILLIONS_DOLLARS       4 non-null      float64\n",
      " 33  TOTAL_DAMAGE_DESCRIPTION            39 non-null     float64\n",
      " 34  TOTAL_HOUSES_DESTROYED              5 non-null      float64\n",
      " 35  TOTAL_HOUSES_DESTROYED_DESCRIPTION  14 non-null     float64\n",
      "dtypes: float64(24), int64(3), object(9)\n",
      "memory usage: 17.8+ KB\n"
     ]
    }
   ],
   "source": [
    "df.info() "
   ]
  },
  {
   "cell_type": "markdown",
   "metadata": {},
   "source": [
    "Assuming with have a target of 'deaths', we HOPE to have 29 rows. We could start cutting down the dataframe around this neccesary value, but we have another column called 'total_deaths'. Maybe we could merge the two to create a dataframe with more than 29 rows? Hopefully the null values, are not one-to-one."
   ]
  },
  {
   "cell_type": "code",
   "execution_count": 113,
   "metadata": {},
   "outputs": [
    {
     "data": {
      "text/html": [
       "<div>\n",
       "<style scoped>\n",
       "    .dataframe tbody tr th:only-of-type {\n",
       "        vertical-align: middle;\n",
       "    }\n",
       "\n",
       "    .dataframe tbody tr th {\n",
       "        vertical-align: top;\n",
       "    }\n",
       "\n",
       "    .dataframe thead th {\n",
       "        text-align: right;\n",
       "    }\n",
       "</style>\n",
       "<table border=\"1\" class=\"dataframe\">\n",
       "  <thead>\n",
       "    <tr style=\"text-align: right;\">\n",
       "      <th></th>\n",
       "      <th>DEATHS</th>\n",
       "      <th>TOTAL_DEATHS</th>\n",
       "    </tr>\n",
       "  </thead>\n",
       "  <tbody>\n",
       "    <tr>\n",
       "      <th>0</th>\n",
       "      <td>NaN</td>\n",
       "      <td>NaN</td>\n",
       "    </tr>\n",
       "    <tr>\n",
       "      <th>1</th>\n",
       "      <td>2.0</td>\n",
       "      <td>2.0</td>\n",
       "    </tr>\n",
       "    <tr>\n",
       "      <th>2</th>\n",
       "      <td>1.0</td>\n",
       "      <td>1.0</td>\n",
       "    </tr>\n",
       "    <tr>\n",
       "      <th>3</th>\n",
       "      <td>NaN</td>\n",
       "      <td>NaN</td>\n",
       "    </tr>\n",
       "    <tr>\n",
       "      <th>4</th>\n",
       "      <td>4.0</td>\n",
       "      <td>4.0</td>\n",
       "    </tr>\n",
       "    <tr>\n",
       "      <th>5</th>\n",
       "      <td>2.0</td>\n",
       "      <td>2.0</td>\n",
       "    </tr>\n",
       "    <tr>\n",
       "      <th>6</th>\n",
       "      <td>367.0</td>\n",
       "      <td>367.0</td>\n",
       "    </tr>\n",
       "    <tr>\n",
       "      <th>7</th>\n",
       "      <td>NaN</td>\n",
       "      <td>NaN</td>\n",
       "    </tr>\n",
       "    <tr>\n",
       "      <th>8</th>\n",
       "      <td>NaN</td>\n",
       "      <td>NaN</td>\n",
       "    </tr>\n",
       "    <tr>\n",
       "      <th>9</th>\n",
       "      <td>1.0</td>\n",
       "      <td>1.0</td>\n",
       "    </tr>\n",
       "  </tbody>\n",
       "</table>\n",
       "</div>"
      ],
      "text/plain": [
       "   DEATHS  TOTAL_DEATHS\n",
       "0     NaN           NaN\n",
       "1     2.0           2.0\n",
       "2     1.0           1.0\n",
       "3     NaN           NaN\n",
       "4     4.0           4.0\n",
       "5     2.0           2.0\n",
       "6   367.0         367.0\n",
       "7     NaN           NaN\n",
       "8     NaN           NaN\n",
       "9     1.0           1.0"
      ]
     },
     "execution_count": 113,
     "metadata": {},
     "output_type": "execute_result"
    }
   ],
   "source": [
    "df[['DEATHS','TOTAL_DEATHS']].head(10)"
   ]
  },
  {
   "cell_type": "markdown",
   "metadata": {},
   "source": [
    "They look identical but we double check"
   ]
  },
  {
   "cell_type": "code",
   "execution_count": 114,
   "metadata": {},
   "outputs": [
    {
     "data": {
      "text/plain": [
       "1.0"
      ]
     },
     "execution_count": 114,
     "metadata": {},
     "output_type": "execute_result"
    }
   ],
   "source": [
    "# Check the correlation\n",
    "df['TOTAL_DEATHS'].corr(df['DEATHS']) "
   ]
  },
  {
   "cell_type": "markdown",
   "metadata": {},
   "source": [
    "We have a perfect correlation and duplicate values so these columns are identical. Let's do this another way."
   ]
  },
  {
   "cell_type": "code",
   "execution_count": 115,
   "metadata": {},
   "outputs": [
    {
     "data": {
      "text/plain": [
       "<matplotlib.axes._subplots.AxesSubplot at 0x2dceb927ac8>"
      ]
     },
     "execution_count": 115,
     "metadata": {},
     "output_type": "execute_result"
    },
    {
     "data": {
      "image/png": "[encoded data removed]",
      "text/plain": [
       "<Figure size 432x288 with 2 Axes>"
      ]
     },
     "metadata": {
      "needs_background": "light"
     },
     "output_type": "display_data"
    }
   ],
   "source": [
    "sns.heatmap(df[['DEATHS','TOTAL_DEATHS']].isnull().corr(), annot=True) \n",
    "# checking that there are no cases that a 'Deaths' of non-null, does \n",
    "# not correspont to a null in 'total_deaths', which could help\n",
    "# to expand the number of rows"
   ]
  },
  {
   "cell_type": "markdown",
   "metadata": {},
   "source": [
    "The columns are identical, so we drop 'Total_deaths' and dramatically start reducing the data frame. We cannot combine info from 'total_deaths' and 'deaths' columns, to keep rows."
   ]
  },
  {
   "cell_type": "code",
   "execution_count": 116,
   "metadata": {},
   "outputs": [],
   "source": [
    "df.drop('TOTAL_DEATHS', axis=1,inplace=True)"
   ]
  },
  {
   "cell_type": "code",
   "execution_count": 117,
   "metadata": {},
   "outputs": [],
   "source": [
    "df = df[df['DEATHS'].isnull()==False]"
   ]
  },
  {
   "cell_type": "code",
   "execution_count": 118,
   "metadata": {},
   "outputs": [
    {
     "name": "stdout",
     "output_type": "stream",
     "text": [
      "<class 'pandas.core.frame.DataFrame'>\n",
      "Int64Index: 29 entries, 1 to 62\n",
      "Data columns (total 35 columns):\n",
      " #   Column                              Non-Null Count  Dtype  \n",
      "---  ------                              --------------  -----  \n",
      " 0   Year                                29 non-null     int64  \n",
      " 1   Month                               29 non-null     int64  \n",
      " 2   Day                                 27 non-null     float64\n",
      " 3   TSU                                 0 non-null      object \n",
      " 4   EQ                                  0 non-null      object \n",
      " 5   Name                                29 non-null     object \n",
      " 6   Location                            29 non-null     object \n",
      " 7   Country                             29 non-null     object \n",
      " 8   Latitude                            29 non-null     float64\n",
      " 9   Longitude                           29 non-null     float64\n",
      " 10  Elevation                           29 non-null     int64  \n",
      " 11  Type                                29 non-null     object \n",
      " 12  Status                              29 non-null     object \n",
      " 13  Time                                29 non-null     object \n",
      " 14  VEI                                 10 non-null     float64\n",
      " 15  Agent                               11 non-null     object \n",
      " 16  DEATHS                              29 non-null     float64\n",
      " 17  DEATHS_DESCRIPTION                  29 non-null     float64\n",
      " 18  MISSING                             1 non-null      float64\n",
      " 19  MISSING_DESCRIPTION                 1 non-null      float64\n",
      " 20  INJURIES                            14 non-null     float64\n",
      " 21  INJURIES_DESCRIPTION                16 non-null     float64\n",
      " 22  DAMAGE_MILLIONS_DOLLARS             2 non-null      float64\n",
      " 23  DAMAGE_DESCRIPTION                  12 non-null     float64\n",
      " 24  HOUSES_DESTROYED                    3 non-null      float64\n",
      " 25  HOUSES_DESTROYED_DESCRIPTION        7 non-null      float64\n",
      " 26  TOTAL_DEATHS_DESCRIPTION            29 non-null     float64\n",
      " 27  TOTAL_MISSING                       1 non-null      float64\n",
      " 28  TOTAL_MISSING_DESCRIPTION           1 non-null      float64\n",
      " 29  TOTAL_INJURIES                      14 non-null     float64\n",
      " 30  TOTAL_INJURIES_DESCRIPTION          16 non-null     float64\n",
      " 31  TOTAL_DAMAGE_MILLIONS_DOLLARS       2 non-null      float64\n",
      " 32  TOTAL_DAMAGE_DESCRIPTION            12 non-null     float64\n",
      " 33  TOTAL_HOUSES_DESTROYED              2 non-null      float64\n",
      " 34  TOTAL_HOUSES_DESTROYED_DESCRIPTION  6 non-null      float64\n",
      "dtypes: float64(23), int64(3), object(9)\n",
      "memory usage: 8.2+ KB\n"
     ]
    }
   ],
   "source": [
    "df.info()"
   ]
  },
  {
   "cell_type": "code",
   "execution_count": 119,
   "metadata": {},
   "outputs": [],
   "source": [
    "# Make a script that creates a list of columns to keep\n",
    "# Based on %70 non-null\n",
    "\n",
    "def filter70(cols):\n",
    "    toKeep = []\n",
    "    \n",
    "    for col in cols:\n",
    "        if (len(df[df[col].notnull()])/29) > 0.7:\n",
    "            toKeep.append(col)\n",
    "            \n",
    "    return toKeep"
   ]
  },
  {
   "cell_type": "code",
   "execution_count": 120,
   "metadata": {},
   "outputs": [],
   "source": [
    "toKeep = filter70(df.columns)"
   ]
  },
  {
   "cell_type": "code",
   "execution_count": 121,
   "metadata": {},
   "outputs": [],
   "source": [
    "df = df[toKeep]"
   ]
  },
  {
   "cell_type": "code",
   "execution_count": 122,
   "metadata": {},
   "outputs": [
    {
     "name": "stdout",
     "output_type": "stream",
     "text": [
      "<class 'pandas.core.frame.DataFrame'>\n",
      "Int64Index: 29 entries, 1 to 62\n",
      "Data columns (total 15 columns):\n",
      " #   Column                    Non-Null Count  Dtype  \n",
      "---  ------                    --------------  -----  \n",
      " 0   Year                      29 non-null     int64  \n",
      " 1   Month                     29 non-null     int64  \n",
      " 2   Day                       27 non-null     float64\n",
      " 3   Name                      29 non-null     object \n",
      " 4   Location                  29 non-null     object \n",
      " 5   Country                   29 non-null     object \n",
      " 6   Latitude                  29 non-null     float64\n",
      " 7   Longitude                 29 non-null     float64\n",
      " 8   Elevation                 29 non-null     int64  \n",
      " 9   Type                      29 non-null     object \n",
      " 10  Status                    29 non-null     object \n",
      " 11  Time                      29 non-null     object \n",
      " 12  DEATHS                    29 non-null     float64\n",
      " 13  DEATHS_DESCRIPTION        29 non-null     float64\n",
      " 14  TOTAL_DEATHS_DESCRIPTION  29 non-null     float64\n",
      "dtypes: float64(6), int64(3), object(6)\n",
      "memory usage: 3.6+ KB\n"
     ]
    }
   ],
   "source": [
    "df.info()"
   ]
  },
  {
   "cell_type": "code",
   "execution_count": 123,
   "metadata": {},
   "outputs": [
    {
     "data": {
      "text/html": [
       "<div>\n",
       "<style scoped>\n",
       "    .dataframe tbody tr th:only-of-type {\n",
       "        vertical-align: middle;\n",
       "    }\n",
       "\n",
       "    .dataframe tbody tr th {\n",
       "        vertical-align: top;\n",
       "    }\n",
       "\n",
       "    .dataframe thead th {\n",
       "        text-align: right;\n",
       "    }\n",
       "</style>\n",
       "<table border=\"1\" class=\"dataframe\">\n",
       "  <thead>\n",
       "    <tr style=\"text-align: right;\">\n",
       "      <th></th>\n",
       "      <th>Year</th>\n",
       "      <th>Month</th>\n",
       "      <th>Day</th>\n",
       "      <th>Name</th>\n",
       "      <th>Location</th>\n",
       "      <th>Country</th>\n",
       "      <th>Latitude</th>\n",
       "      <th>Longitude</th>\n",
       "      <th>Elevation</th>\n",
       "      <th>Type</th>\n",
       "      <th>Status</th>\n",
       "      <th>Time</th>\n",
       "      <th>DEATHS</th>\n",
       "      <th>DEATHS_DESCRIPTION</th>\n",
       "      <th>TOTAL_DEATHS_DESCRIPTION</th>\n",
       "    </tr>\n",
       "  </thead>\n",
       "  <tbody>\n",
       "    <tr>\n",
       "      <th>41</th>\n",
       "      <td>2015</td>\n",
       "      <td>10</td>\n",
       "      <td>NaN</td>\n",
       "      <td>Okataina</td>\n",
       "      <td>New Zealand</td>\n",
       "      <td>New Zealand</td>\n",
       "      <td>-38.12</td>\n",
       "      <td>176.50</td>\n",
       "      <td>1111</td>\n",
       "      <td>Lava dome</td>\n",
       "      <td>Historical</td>\n",
       "      <td>D1</td>\n",
       "      <td>1.0</td>\n",
       "      <td>1.0</td>\n",
       "      <td>1.0</td>\n",
       "    </tr>\n",
       "    <tr>\n",
       "      <th>62</th>\n",
       "      <td>2018</td>\n",
       "      <td>4</td>\n",
       "      <td>NaN</td>\n",
       "      <td>Aoba</td>\n",
       "      <td>Vanuatu-SW Pacific</td>\n",
       "      <td>Vanuatu</td>\n",
       "      <td>-15.40</td>\n",
       "      <td>167.83</td>\n",
       "      <td>1496</td>\n",
       "      <td>Shield volcano</td>\n",
       "      <td>Historical</td>\n",
       "      <td>D1</td>\n",
       "      <td>4.0</td>\n",
       "      <td>1.0</td>\n",
       "      <td>1.0</td>\n",
       "    </tr>\n",
       "  </tbody>\n",
       "</table>\n",
       "</div>"
      ],
      "text/plain": [
       "    Year  Month  Day      Name            Location      Country  Latitude  \\\n",
       "41  2015     10  NaN  Okataina         New Zealand  New Zealand    -38.12   \n",
       "62  2018      4  NaN      Aoba  Vanuatu-SW Pacific      Vanuatu    -15.40   \n",
       "\n",
       "    Longitude  Elevation            Type      Status Time  DEATHS  \\\n",
       "41     176.50       1111       Lava dome  Historical   D1     1.0   \n",
       "62     167.83       1496  Shield volcano  Historical   D1     4.0   \n",
       "\n",
       "    DEATHS_DESCRIPTION  TOTAL_DEATHS_DESCRIPTION  \n",
       "41                 1.0                       1.0  \n",
       "62                 1.0                       1.0  "
      ]
     },
     "execution_count": 123,
     "metadata": {},
     "output_type": "execute_result"
    }
   ],
   "source": [
    "df[df['Day'].isnull()] # the table is almost rectangular, we are\n",
    "# missing two values in the 'day' column"
   ]
  },
  {
   "cell_type": "markdown",
   "metadata": {},
   "source": [
    "We could research these events and fill in the exact \"Day\" value. We could also use this to create a datetime column. Instead, however, we will assume that day and month time periods are too specific and not neccesary. We will only save the \"Year\" column."
   ]
  },
  {
   "cell_type": "code",
   "execution_count": 124,
   "metadata": {},
   "outputs": [],
   "source": [
    "df.drop(axis=1,columns=['Day','Month'],inplace=True)\n",
    "df.set_index(pd.Index([i for i in range(1,30)]),inplace=True)"
   ]
  },
  {
   "cell_type": "code",
   "execution_count": 125,
   "metadata": {},
   "outputs": [
    {
     "name": "stdout",
     "output_type": "stream",
     "text": [
      "<class 'pandas.core.frame.DataFrame'>\n",
      "Int64Index: 29 entries, 1 to 29\n",
      "Data columns (total 13 columns):\n",
      " #   Column                    Non-Null Count  Dtype  \n",
      "---  ------                    --------------  -----  \n",
      " 0   Year                      29 non-null     int64  \n",
      " 1   Name                      29 non-null     object \n",
      " 2   Location                  29 non-null     object \n",
      " 3   Country                   29 non-null     object \n",
      " 4   Latitude                  29 non-null     float64\n",
      " 5   Longitude                 29 non-null     float64\n",
      " 6   Elevation                 29 non-null     int64  \n",
      " 7   Type                      29 non-null     object \n",
      " 8   Status                    29 non-null     object \n",
      " 9   Time                      29 non-null     object \n",
      " 10  DEATHS                    29 non-null     float64\n",
      " 11  DEATHS_DESCRIPTION        29 non-null     float64\n",
      " 12  TOTAL_DEATHS_DESCRIPTION  29 non-null     float64\n",
      "dtypes: float64(5), int64(2), object(6)\n",
      "memory usage: 3.2+ KB\n"
     ]
    }
   ],
   "source": [
    "df.info()"
   ]
  },
  {
   "cell_type": "markdown",
   "metadata": {},
   "source": [
    "Looks pretty good, we have a rectangular dataframe. Now, let's compare 'deaths_description' and 'total_deaths_description' and see if one is a perfect predictor of the other."
   ]
  },
  {
   "cell_type": "code",
   "execution_count": 126,
   "metadata": {},
   "outputs": [
    {
     "data": {
      "text/html": [
       "<div>\n",
       "<style scoped>\n",
       "    .dataframe tbody tr th:only-of-type {\n",
       "        vertical-align: middle;\n",
       "    }\n",
       "\n",
       "    .dataframe tbody tr th {\n",
       "        vertical-align: top;\n",
       "    }\n",
       "\n",
       "    .dataframe thead th {\n",
       "        text-align: right;\n",
       "    }\n",
       "</style>\n",
       "<table border=\"1\" class=\"dataframe\">\n",
       "  <thead>\n",
       "    <tr style=\"text-align: right;\">\n",
       "      <th></th>\n",
       "      <th>DEATHS_DESCRIPTION</th>\n",
       "      <th>TOTAL_DEATHS_DESCRIPTION</th>\n",
       "    </tr>\n",
       "  </thead>\n",
       "  <tbody>\n",
       "    <tr>\n",
       "      <th>1</th>\n",
       "      <td>1.0</td>\n",
       "      <td>1.0</td>\n",
       "    </tr>\n",
       "    <tr>\n",
       "      <th>2</th>\n",
       "      <td>1.0</td>\n",
       "      <td>1.0</td>\n",
       "    </tr>\n",
       "    <tr>\n",
       "      <th>3</th>\n",
       "      <td>1.0</td>\n",
       "      <td>1.0</td>\n",
       "    </tr>\n",
       "    <tr>\n",
       "      <th>4</th>\n",
       "      <td>1.0</td>\n",
       "      <td>1.0</td>\n",
       "    </tr>\n",
       "    <tr>\n",
       "      <th>5</th>\n",
       "      <td>3.0</td>\n",
       "      <td>3.0</td>\n",
       "    </tr>\n",
       "  </tbody>\n",
       "</table>\n",
       "</div>"
      ],
      "text/plain": [
       "   DEATHS_DESCRIPTION  TOTAL_DEATHS_DESCRIPTION\n",
       "1                 1.0                       1.0\n",
       "2                 1.0                       1.0\n",
       "3                 1.0                       1.0\n",
       "4                 1.0                       1.0\n",
       "5                 3.0                       3.0"
      ]
     },
     "execution_count": 126,
     "metadata": {},
     "output_type": "execute_result"
    }
   ],
   "source": [
    "df[['DEATHS_DESCRIPTION','TOTAL_DEATHS_DESCRIPTION']].head()"
   ]
  },
  {
   "cell_type": "code",
   "execution_count": 127,
   "metadata": {},
   "outputs": [
    {
     "data": {
      "text/plain": [
       "0.9999999999999999"
      ]
     },
     "execution_count": 127,
     "metadata": {},
     "output_type": "execute_result"
    }
   ],
   "source": [
    "df['DEATHS_DESCRIPTION'].corr(df[\"TOTAL_DEATHS_DESCRIPTION\"])"
   ]
  },
  {
   "cell_type": "code",
   "execution_count": 128,
   "metadata": {},
   "outputs": [],
   "source": [
    "# Yes, the two columns are linearly dependent, so we drop a column\n",
    "df.drop('TOTAL_DEATHS_DESCRIPTION', axis=1, inplace=True)"
   ]
  },
  {
   "cell_type": "code",
   "execution_count": 129,
   "metadata": {},
   "outputs": [
    {
     "data": {
      "text/html": [
       "<div>\n",
       "<style scoped>\n",
       "    .dataframe tbody tr th:only-of-type {\n",
       "        vertical-align: middle;\n",
       "    }\n",
       "\n",
       "    .dataframe tbody tr th {\n",
       "        vertical-align: top;\n",
       "    }\n",
       "\n",
       "    .dataframe thead th {\n",
       "        text-align: right;\n",
       "    }\n",
       "</style>\n",
       "<table border=\"1\" class=\"dataframe\">\n",
       "  <thead>\n",
       "    <tr style=\"text-align: right;\">\n",
       "      <th></th>\n",
       "      <th>Year</th>\n",
       "      <th>Name</th>\n",
       "      <th>Location</th>\n",
       "      <th>Country</th>\n",
       "      <th>Latitude</th>\n",
       "      <th>Longitude</th>\n",
       "      <th>Elevation</th>\n",
       "      <th>Type</th>\n",
       "      <th>Status</th>\n",
       "      <th>Time</th>\n",
       "      <th>DEATHS</th>\n",
       "      <th>DEATHS_DESCRIPTION</th>\n",
       "    </tr>\n",
       "  </thead>\n",
       "  <tbody>\n",
       "    <tr>\n",
       "      <th>1</th>\n",
       "      <td>2010</td>\n",
       "      <td>Eyjafjallajokull</td>\n",
       "      <td>Iceland-S</td>\n",
       "      <td>Iceland</td>\n",
       "      <td>63.630</td>\n",
       "      <td>-19.620</td>\n",
       "      <td>1666</td>\n",
       "      <td>Stratovolcano</td>\n",
       "      <td>Historical</td>\n",
       "      <td>D1</td>\n",
       "      <td>2.0</td>\n",
       "      <td>1.0</td>\n",
       "    </tr>\n",
       "    <tr>\n",
       "      <th>2</th>\n",
       "      <td>2010</td>\n",
       "      <td>Pacaya</td>\n",
       "      <td>Guatemala</td>\n",
       "      <td>Guatemala</td>\n",
       "      <td>14.381</td>\n",
       "      <td>-90.601</td>\n",
       "      <td>2552</td>\n",
       "      <td>Complex volcano</td>\n",
       "      <td>Historical</td>\n",
       "      <td>D1</td>\n",
       "      <td>1.0</td>\n",
       "      <td>1.0</td>\n",
       "    </tr>\n",
       "    <tr>\n",
       "      <th>3</th>\n",
       "      <td>2010</td>\n",
       "      <td>Karangetang [Api Siau]</td>\n",
       "      <td>Sangihe Is-Indonesia</td>\n",
       "      <td>Indonesia</td>\n",
       "      <td>2.780</td>\n",
       "      <td>125.480</td>\n",
       "      <td>1784</td>\n",
       "      <td>Stratovolcano</td>\n",
       "      <td>Historical</td>\n",
       "      <td>D1</td>\n",
       "      <td>4.0</td>\n",
       "      <td>1.0</td>\n",
       "    </tr>\n",
       "    <tr>\n",
       "      <th>4</th>\n",
       "      <td>2010</td>\n",
       "      <td>Sinabung</td>\n",
       "      <td>Sumatra</td>\n",
       "      <td>Indonesia</td>\n",
       "      <td>3.170</td>\n",
       "      <td>98.392</td>\n",
       "      <td>2460</td>\n",
       "      <td>Stratovolcano</td>\n",
       "      <td>Holocene</td>\n",
       "      <td>U</td>\n",
       "      <td>2.0</td>\n",
       "      <td>1.0</td>\n",
       "    </tr>\n",
       "    <tr>\n",
       "      <th>5</th>\n",
       "      <td>2010</td>\n",
       "      <td>Merapi</td>\n",
       "      <td>Java</td>\n",
       "      <td>Indonesia</td>\n",
       "      <td>-7.542</td>\n",
       "      <td>110.442</td>\n",
       "      <td>2947</td>\n",
       "      <td>Stratovolcano</td>\n",
       "      <td>Historical</td>\n",
       "      <td>D1</td>\n",
       "      <td>367.0</td>\n",
       "      <td>3.0</td>\n",
       "    </tr>\n",
       "  </tbody>\n",
       "</table>\n",
       "</div>"
      ],
      "text/plain": [
       "   Year                    Name              Location    Country  Latitude  \\\n",
       "1  2010        Eyjafjallajokull             Iceland-S    Iceland    63.630   \n",
       "2  2010                  Pacaya             Guatemala  Guatemala    14.381   \n",
       "3  2010  Karangetang [Api Siau]  Sangihe Is-Indonesia  Indonesia     2.780   \n",
       "4  2010                Sinabung               Sumatra  Indonesia     3.170   \n",
       "5  2010                  Merapi                  Java  Indonesia    -7.542   \n",
       "\n",
       "   Longitude  Elevation             Type      Status Time  DEATHS  \\\n",
       "1    -19.620       1666    Stratovolcano  Historical   D1     2.0   \n",
       "2    -90.601       2552  Complex volcano  Historical   D1     1.0   \n",
       "3    125.480       1784    Stratovolcano  Historical   D1     4.0   \n",
       "4     98.392       2460    Stratovolcano    Holocene    U     2.0   \n",
       "5    110.442       2947    Stratovolcano  Historical   D1   367.0   \n",
       "\n",
       "   DEATHS_DESCRIPTION  \n",
       "1                 1.0  \n",
       "2                 1.0  \n",
       "3                 1.0  \n",
       "4                 1.0  \n",
       "5                 3.0  "
      ]
     },
     "execution_count": 129,
     "metadata": {},
     "output_type": "execute_result"
    }
   ],
   "source": [
    "df.head() "
   ]
  },
  {
   "cell_type": "markdown",
   "metadata": {},
   "source": [
    "### Let's take a deeper look at column 'Time'"
   ]
  },
  {
   "cell_type": "code",
   "execution_count": 130,
   "metadata": {},
   "outputs": [
    {
     "data": {
      "text/plain": [
       "<matplotlib.axes._subplots.AxesSubplot at 0x2dcebd328c8>"
      ]
     },
     "execution_count": 130,
     "metadata": {},
     "output_type": "execute_result"
    },
    {
     "data": {
      "image/png": "[encoded data removed]",
      "text/plain": [
       "<Figure size 432x288 with 1 Axes>"
      ]
     },
     "metadata": {
      "needs_background": "light"
     },
     "output_type": "display_data"
    }
   ],
   "source": [
    "sns.countplot(df['Time'])"
   ]
  },
  {
   "cell_type": "markdown",
   "metadata": {},
   "source": [
    "This is a good time for some domain knowledge. The dataset doesn't explain what the 'Time' column means. It's interesting to note that 'U' and 'unknown' values might be equivalent. Since we don't understand it however, we dont need it and thus, we will get rid of it."
   ]
  },
  {
   "cell_type": "code",
   "execution_count": 131,
   "metadata": {},
   "outputs": [],
   "source": [
    "df.drop('Time', axis=1,inplace=True)"
   ]
  },
  {
   "cell_type": "markdown",
   "metadata": {},
   "source": [
    "### More Non-Numeric Columns"
   ]
  },
  {
   "cell_type": "code",
   "execution_count": 132,
   "metadata": {},
   "outputs": [
    {
     "data": {
      "text/html": [
       "<div>\n",
       "<style scoped>\n",
       "    .dataframe tbody tr th:only-of-type {\n",
       "        vertical-align: middle;\n",
       "    }\n",
       "\n",
       "    .dataframe tbody tr th {\n",
       "        vertical-align: top;\n",
       "    }\n",
       "\n",
       "    .dataframe thead th {\n",
       "        text-align: right;\n",
       "    }\n",
       "</style>\n",
       "<table border=\"1\" class=\"dataframe\">\n",
       "  <thead>\n",
       "    <tr style=\"text-align: right;\">\n",
       "      <th></th>\n",
       "      <th>Year</th>\n",
       "      <th>Name</th>\n",
       "      <th>Location</th>\n",
       "      <th>Country</th>\n",
       "      <th>Latitude</th>\n",
       "      <th>Longitude</th>\n",
       "      <th>Elevation</th>\n",
       "      <th>Type</th>\n",
       "      <th>Status</th>\n",
       "      <th>DEATHS</th>\n",
       "      <th>DEATHS_DESCRIPTION</th>\n",
       "    </tr>\n",
       "  </thead>\n",
       "  <tbody>\n",
       "    <tr>\n",
       "      <th>1</th>\n",
       "      <td>2010</td>\n",
       "      <td>Eyjafjallajokull</td>\n",
       "      <td>Iceland-S</td>\n",
       "      <td>Iceland</td>\n",
       "      <td>63.630</td>\n",
       "      <td>-19.620</td>\n",
       "      <td>1666</td>\n",
       "      <td>Stratovolcano</td>\n",
       "      <td>Historical</td>\n",
       "      <td>2.0</td>\n",
       "      <td>1.0</td>\n",
       "    </tr>\n",
       "    <tr>\n",
       "      <th>2</th>\n",
       "      <td>2010</td>\n",
       "      <td>Pacaya</td>\n",
       "      <td>Guatemala</td>\n",
       "      <td>Guatemala</td>\n",
       "      <td>14.381</td>\n",
       "      <td>-90.601</td>\n",
       "      <td>2552</td>\n",
       "      <td>Complex volcano</td>\n",
       "      <td>Historical</td>\n",
       "      <td>1.0</td>\n",
       "      <td>1.0</td>\n",
       "    </tr>\n",
       "    <tr>\n",
       "      <th>3</th>\n",
       "      <td>2010</td>\n",
       "      <td>Karangetang [Api Siau]</td>\n",
       "      <td>Sangihe Is-Indonesia</td>\n",
       "      <td>Indonesia</td>\n",
       "      <td>2.780</td>\n",
       "      <td>125.480</td>\n",
       "      <td>1784</td>\n",
       "      <td>Stratovolcano</td>\n",
       "      <td>Historical</td>\n",
       "      <td>4.0</td>\n",
       "      <td>1.0</td>\n",
       "    </tr>\n",
       "    <tr>\n",
       "      <th>4</th>\n",
       "      <td>2010</td>\n",
       "      <td>Sinabung</td>\n",
       "      <td>Sumatra</td>\n",
       "      <td>Indonesia</td>\n",
       "      <td>3.170</td>\n",
       "      <td>98.392</td>\n",
       "      <td>2460</td>\n",
       "      <td>Stratovolcano</td>\n",
       "      <td>Holocene</td>\n",
       "      <td>2.0</td>\n",
       "      <td>1.0</td>\n",
       "    </tr>\n",
       "    <tr>\n",
       "      <th>5</th>\n",
       "      <td>2010</td>\n",
       "      <td>Merapi</td>\n",
       "      <td>Java</td>\n",
       "      <td>Indonesia</td>\n",
       "      <td>-7.542</td>\n",
       "      <td>110.442</td>\n",
       "      <td>2947</td>\n",
       "      <td>Stratovolcano</td>\n",
       "      <td>Historical</td>\n",
       "      <td>367.0</td>\n",
       "      <td>3.0</td>\n",
       "    </tr>\n",
       "  </tbody>\n",
       "</table>\n",
       "</div>"
      ],
      "text/plain": [
       "   Year                    Name              Location    Country  Latitude  \\\n",
       "1  2010        Eyjafjallajokull             Iceland-S    Iceland    63.630   \n",
       "2  2010                  Pacaya             Guatemala  Guatemala    14.381   \n",
       "3  2010  Karangetang [Api Siau]  Sangihe Is-Indonesia  Indonesia     2.780   \n",
       "4  2010                Sinabung               Sumatra  Indonesia     3.170   \n",
       "5  2010                  Merapi                  Java  Indonesia    -7.542   \n",
       "\n",
       "   Longitude  Elevation             Type      Status  DEATHS  \\\n",
       "1    -19.620       1666    Stratovolcano  Historical     2.0   \n",
       "2    -90.601       2552  Complex volcano  Historical     1.0   \n",
       "3    125.480       1784    Stratovolcano  Historical     4.0   \n",
       "4     98.392       2460    Stratovolcano    Holocene     2.0   \n",
       "5    110.442       2947    Stratovolcano  Historical   367.0   \n",
       "\n",
       "   DEATHS_DESCRIPTION  \n",
       "1                 1.0  \n",
       "2                 1.0  \n",
       "3                 1.0  \n",
       "4                 1.0  \n",
       "5                 3.0  "
      ]
     },
     "execution_count": 132,
     "metadata": {},
     "output_type": "execute_result"
    }
   ],
   "source": [
    "df.head()"
   ]
  },
  {
   "cell_type": "markdown",
   "metadata": {},
   "source": [
    "We will remove 'Name', Location and Country because these items are very non-numeric and because location is also defined with 'Latitude'/'Longitude'."
   ]
  },
  {
   "cell_type": "code",
   "execution_count": 133,
   "metadata": {},
   "outputs": [],
   "source": [
    "df.drop(['Name','Location','Country'], axis=1, inplace=True)"
   ]
  },
  {
   "cell_type": "markdown",
   "metadata": {},
   "source": [
    "We will however, numerify Type and Status using dummy variables."
   ]
  },
  {
   "cell_type": "markdown",
   "metadata": {},
   "source": [
    "### Creating dummy variables"
   ]
  },
  {
   "cell_type": "markdown",
   "metadata": {},
   "source": [
    "We need dummy variables for 'Status' and 'Type' columns because our machine learning models often require numerical data."
   ]
  },
  {
   "cell_type": "code",
   "execution_count": 134,
   "metadata": {},
   "outputs": [
    {
     "data": {
      "text/plain": [
       "<matplotlib.axes._subplots.AxesSubplot at 0x2dcebd32148>"
      ]
     },
     "execution_count": 134,
     "metadata": {},
     "output_type": "execute_result"
    },
    {
     "data": {
      "image/png": "[encoded data removed]",
      "text/plain": [
       "<Figure size 432x288 with 1 Axes>"
      ]
     },
     "metadata": {
      "needs_background": "light"
     },
     "output_type": "display_data"
    }
   ],
   "source": [
    "sns.countplot(data=df,x=\"Status\") # First converting 'Status' column"
   ]
  },
  {
   "cell_type": "code",
   "execution_count": 135,
   "metadata": {},
   "outputs": [],
   "source": [
    "status = pd.get_dummies(df['Status'],drop_first=True)"
   ]
  },
  {
   "cell_type": "code",
   "execution_count": 136,
   "metadata": {},
   "outputs": [],
   "source": [
    "df.drop(columns=\"Status\",inplace=True,axis=1)"
   ]
  },
  {
   "cell_type": "code",
   "execution_count": 137,
   "metadata": {},
   "outputs": [
    {
     "data": {
      "text/plain": [
       "<matplotlib.axes._subplots.AxesSubplot at 0x2dcebde2a08>"
      ]
     },
     "execution_count": 137,
     "metadata": {},
     "output_type": "execute_result"
    },
    {
     "data": {
      "image/png": "[encoded data removed]",
      "text/plain": [
       "<Figure size 1080x1152 with 1 Axes>"
      ]
     },
     "metadata": {
      "needs_background": "light"
     },
     "output_type": "display_data"
    }
   ],
   "source": [
    "plt.figure(figsize=(15,16)) \n",
    "sns.countplot(data=df,x=\"Type\") # Second, converting 'type' column"
   ]
  },
  {
   "cell_type": "code",
   "execution_count": 138,
   "metadata": {},
   "outputs": [],
   "source": [
    "vType = pd.get_dummies(df['Type'], drop_first=True)"
   ]
  },
  {
   "cell_type": "code",
   "execution_count": 139,
   "metadata": {},
   "outputs": [],
   "source": [
    "df.drop('Type',axis=1, inplace=True)"
   ]
  },
  {
   "cell_type": "code",
   "execution_count": 140,
   "metadata": {},
   "outputs": [],
   "source": [
    "df = pd.concat([df,status,vType],axis=1) # Putting it all together\n",
    "# This is our final 'df' variable and the dummy variables are ready"
   ]
  },
  {
   "cell_type": "markdown",
   "metadata": {},
   "source": [
    "### Separating the data from the target column"
   ]
  },
  {
   "cell_type": "code",
   "execution_count": 141,
   "metadata": {},
   "outputs": [],
   "source": [
    "y=df[\"DEATHS\"]\n",
    "X=df.drop('DEATHS',axis=1) # X and y are READY for machine learning"
   ]
  },
  {
   "cell_type": "code",
   "execution_count": 142,
   "metadata": {},
   "outputs": [
    {
     "data": {
      "text/html": [
       "<div>\n",
       "<style scoped>\n",
       "    .dataframe tbody tr th:only-of-type {\n",
       "        vertical-align: middle;\n",
       "    }\n",
       "\n",
       "    .dataframe tbody tr th {\n",
       "        vertical-align: top;\n",
       "    }\n",
       "\n",
       "    .dataframe thead th {\n",
       "        text-align: right;\n",
       "    }\n",
       "</style>\n",
       "<table border=\"1\" class=\"dataframe\">\n",
       "  <thead>\n",
       "    <tr style=\"text-align: right;\">\n",
       "      <th></th>\n",
       "      <th>Year</th>\n",
       "      <th>Latitude</th>\n",
       "      <th>Longitude</th>\n",
       "      <th>Elevation</th>\n",
       "      <th>DEATHS_DESCRIPTION</th>\n",
       "      <th>Holocene</th>\n",
       "      <th>Tephrochronology</th>\n",
       "      <th>Complex volcano</th>\n",
       "      <th>Lava dome</th>\n",
       "      <th>Shield volcano</th>\n",
       "      <th>Stratovolcano</th>\n",
       "    </tr>\n",
       "  </thead>\n",
       "  <tbody>\n",
       "    <tr>\n",
       "      <th>1</th>\n",
       "      <td>2010</td>\n",
       "      <td>63.630</td>\n",
       "      <td>-19.620</td>\n",
       "      <td>1666</td>\n",
       "      <td>1.0</td>\n",
       "      <td>0</td>\n",
       "      <td>0</td>\n",
       "      <td>0</td>\n",
       "      <td>0</td>\n",
       "      <td>0</td>\n",
       "      <td>1</td>\n",
       "    </tr>\n",
       "    <tr>\n",
       "      <th>2</th>\n",
       "      <td>2010</td>\n",
       "      <td>14.381</td>\n",
       "      <td>-90.601</td>\n",
       "      <td>2552</td>\n",
       "      <td>1.0</td>\n",
       "      <td>0</td>\n",
       "      <td>0</td>\n",
       "      <td>1</td>\n",
       "      <td>0</td>\n",
       "      <td>0</td>\n",
       "      <td>0</td>\n",
       "    </tr>\n",
       "    <tr>\n",
       "      <th>3</th>\n",
       "      <td>2010</td>\n",
       "      <td>2.780</td>\n",
       "      <td>125.480</td>\n",
       "      <td>1784</td>\n",
       "      <td>1.0</td>\n",
       "      <td>0</td>\n",
       "      <td>0</td>\n",
       "      <td>0</td>\n",
       "      <td>0</td>\n",
       "      <td>0</td>\n",
       "      <td>1</td>\n",
       "    </tr>\n",
       "    <tr>\n",
       "      <th>4</th>\n",
       "      <td>2010</td>\n",
       "      <td>3.170</td>\n",
       "      <td>98.392</td>\n",
       "      <td>2460</td>\n",
       "      <td>1.0</td>\n",
       "      <td>1</td>\n",
       "      <td>0</td>\n",
       "      <td>0</td>\n",
       "      <td>0</td>\n",
       "      <td>0</td>\n",
       "      <td>1</td>\n",
       "    </tr>\n",
       "    <tr>\n",
       "      <th>5</th>\n",
       "      <td>2010</td>\n",
       "      <td>-7.542</td>\n",
       "      <td>110.442</td>\n",
       "      <td>2947</td>\n",
       "      <td>3.0</td>\n",
       "      <td>0</td>\n",
       "      <td>0</td>\n",
       "      <td>0</td>\n",
       "      <td>0</td>\n",
       "      <td>0</td>\n",
       "      <td>1</td>\n",
       "    </tr>\n",
       "  </tbody>\n",
       "</table>\n",
       "</div>"
      ],
      "text/plain": [
       "   Year  Latitude  Longitude  Elevation  DEATHS_DESCRIPTION  Holocene  \\\n",
       "1  2010    63.630    -19.620       1666                 1.0         0   \n",
       "2  2010    14.381    -90.601       2552                 1.0         0   \n",
       "3  2010     2.780    125.480       1784                 1.0         0   \n",
       "4  2010     3.170     98.392       2460                 1.0         1   \n",
       "5  2010    -7.542    110.442       2947                 3.0         0   \n",
       "\n",
       "   Tephrochronology  Complex volcano  Lava dome  Shield volcano  Stratovolcano  \n",
       "1                 0                0          0               0              1  \n",
       "2                 0                1          0               0              0  \n",
       "3                 0                0          0               0              1  \n",
       "4                 0                0          0               0              1  \n",
       "5                 0                0          0               0              1  "
      ]
     },
     "execution_count": 142,
     "metadata": {},
     "output_type": "execute_result"
    }
   ],
   "source": [
    "X.head()"
   ]
  },
  {
   "cell_type": "code",
   "execution_count": 143,
   "metadata": {},
   "outputs": [
    {
     "data": {
      "text/plain": [
       "1      2.0\n",
       "2      1.0\n",
       "3      4.0\n",
       "4      2.0\n",
       "5    367.0\n",
       "Name: DEATHS, dtype: float64"
      ]
     },
     "execution_count": 143,
     "metadata": {},
     "output_type": "execute_result"
    }
   ],
   "source": [
    "y.head() "
   ]
  },
  {
   "cell_type": "markdown",
   "metadata": {},
   "source": [
    "## Conclusion"
   ]
  },
  {
   "cell_type": "markdown",
   "metadata": {},
   "source": [
    "This dataset was chosen because it was not rectangular and it proved to be a good cleaning exercise. As an overview, we eliminated the columns that hosted less than %70 non-null. We thought about filling in two missing 'day' values but determined this unnecessary based on scope and dropped the column. We still had more to clean, however, as we made use of the categorical \"Status\" and \"Volcano Type\" columns with the use of dummy variables. Further reduction was possible but based on the size of the dataframe, I didn't want to further reduce the data.\n",
    "\n",
    "Things we may have done differently is fill in missing values (especially 'Death' column) by researching each event one at a time. This would have given us more data (which may be vital considering the small size of this dataset) but may prove to be quite time consuming. We might also have dropped the outliers and kept the 'Day' and 'Month' columns. This dataset was quite messy but now it is cleaned and ready for machine learning.\n",
    "\n",
    "NOTE: We will not be analyzing this data. This project was purely a cleaning excercize. "
   ]
  }
 ],
 "metadata": {
  "kernelspec": {
   "display_name": "Python 3",
   "language": "python",
   "name": "python3"
  },
  "language_info": {
   "codemirror_mode": {
    "name": "ipython",
    "version": 3
   },
   "file_extension": ".py",
   "mimetype": "text/x-python",
   "name": "python",
   "nbconvert_exporter": "python",
   "pygments_lexer": "ipython3",
   "version": "3.7.6"
  }
 },
 "nbformat": 4,
 "nbformat_minor": 2
}

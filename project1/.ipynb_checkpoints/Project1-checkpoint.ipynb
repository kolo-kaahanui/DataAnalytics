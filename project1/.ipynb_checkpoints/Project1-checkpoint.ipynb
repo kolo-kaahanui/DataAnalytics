{
 "cells": [
  {
   "cell_type": "markdown",
   "metadata": {},
   "source": [
    "# Volcano Data Cleaning\n"
   ]
  },
  {
   "cell_type": "markdown",
   "metadata": {},
   "source": [
    "### Goal"
   ]
  },
  {
   "cell_type": "markdown",
   "metadata": {},
   "source": [
    "Clean 'volcano_data_2010.csv\" (located at https://www.kaggle.com/texasdave/volcano-eruptions)."
   ]
  },
  {
   "cell_type": "markdown",
   "metadata": {},
   "source": [
    "### Preface"
   ]
  },
  {
   "cell_type": "markdown",
   "metadata": {},
   "source": [
    "I stumbled accross this very messy dataset and realized it would be a good opportunity to work on my dataset cleaning skills. Since Python is used, many of the cleaning techniques are scalable to large datasets. For machine learning purposes the target column will be the 'deaths' column."
   ]
  },
  {
   "cell_type": "code",
   "execution_count": 211,
   "metadata": {},
   "outputs": [],
   "source": [
    "#import numpy as np\n",
    "import pandas as pd\n",
    "\n",
    "import seaborn as sns\n",
    "import matplotlib.pyplot as plt\n",
    "\n",
    "%matplotlib inline"
   ]
  },
  {
   "cell_type": "code",
   "execution_count": 251,
   "metadata": {},
   "outputs": [],
   "source": [
    "df = pd.read_csv('volcano_data_2010.csv')"
   ]
  },
  {
   "cell_type": "code",
   "execution_count": 213,
   "metadata": {},
   "outputs": [
    {
     "name": "stdout",
     "output_type": "stream",
     "text": [
      "<class 'pandas.core.frame.DataFrame'>\n",
      "RangeIndex: 63 entries, 0 to 62\n",
      "Data columns (total 36 columns):\n",
      " #   Column                              Non-Null Count  Dtype  \n",
      "---  ------                              --------------  -----  \n",
      " 0   Year                                63 non-null     int64  \n",
      " 1   Month                               63 non-null     int64  \n",
      " 2   Day                                 57 non-null     float64\n",
      " 3   TSU                                 2 non-null      object \n",
      " 4   EQ                                  1 non-null      object \n",
      " 5   Name                                63 non-null     object \n",
      " 6   Location                            63 non-null     object \n",
      " 7   Country                             63 non-null     object \n",
      " 8   Latitude                            63 non-null     float64\n",
      " 9   Longitude                           63 non-null     float64\n",
      " 10  Elevation                           63 non-null     int64  \n",
      " 11  Type                                63 non-null     object \n",
      " 12  Status                              63 non-null     object \n",
      " 13  Time                                63 non-null     object \n",
      " 14  VEI                                 19 non-null     float64\n",
      " 15  Agent                               23 non-null     object \n",
      " 16  DEATHS                              29 non-null     float64\n",
      " 17  DEATHS_DESCRIPTION                  29 non-null     float64\n",
      " 18  MISSING                             2 non-null      float64\n",
      " 19  MISSING_DESCRIPTION                 2 non-null      float64\n",
      " 20  INJURIES                            18 non-null     float64\n",
      " 21  INJURIES_DESCRIPTION                21 non-null     float64\n",
      " 22  DAMAGE_MILLIONS_DOLLARS             4 non-null      float64\n",
      " 23  DAMAGE_DESCRIPTION                  41 non-null     float64\n",
      " 24  HOUSES_DESTROYED                    7 non-null      float64\n",
      " 25  HOUSES_DESTROYED_DESCRIPTION        16 non-null     float64\n",
      " 26  TOTAL_DEATHS                        29 non-null     float64\n",
      " 27  TOTAL_DEATHS_DESCRIPTION            29 non-null     float64\n",
      " 28  TOTAL_MISSING                       2 non-null      float64\n",
      " 29  TOTAL_MISSING_DESCRIPTION           2 non-null      float64\n",
      " 30  TOTAL_INJURIES                      18 non-null     float64\n",
      " 31  TOTAL_INJURIES_DESCRIPTION          21 non-null     float64\n",
      " 32  TOTAL_DAMAGE_MILLIONS_DOLLARS       4 non-null      float64\n",
      " 33  TOTAL_DAMAGE_DESCRIPTION            39 non-null     float64\n",
      " 34  TOTAL_HOUSES_DESTROYED              5 non-null      float64\n",
      " 35  TOTAL_HOUSES_DESTROYED_DESCRIPTION  14 non-null     float64\n",
      "dtypes: float64(24), int64(3), object(9)\n",
      "memory usage: 17.8+ KB\n"
     ]
    }
   ],
   "source": [
    "df.info() "
   ]
  },
  {
   "cell_type": "markdown",
   "metadata": {},
   "source": [
    "There are a lot of null values (w\n",
    "\n",
    "Knowing the target, we hope to have 29 rows. We could start cutting down the dataframe around this neccesary value, however, we have another column called 'TOTAL_DEATHS'. Maybe we could merge the two to create a dataframe with more than 29 rows? Hopefully the null values are not one-to-one."
   ]
  },
  {
   "cell_type": "code",
   "execution_count": 214,
   "metadata": {},
   "outputs": [
    {
     "data": {
      "text/html": [
       "<div>\n",
       "<style scoped>\n",
       "    .dataframe tbody tr th:only-of-type {\n",
       "        vertical-align: middle;\n",
       "    }\n",
       "\n",
       "    .dataframe tbody tr th {\n",
       "        vertical-align: top;\n",
       "    }\n",
       "\n",
       "    .dataframe thead th {\n",
       "        text-align: right;\n",
       "    }\n",
       "</style>\n",
       "<table border=\"1\" class=\"dataframe\">\n",
       "  <thead>\n",
       "    <tr style=\"text-align: right;\">\n",
       "      <th></th>\n",
       "      <th>DEATHS</th>\n",
       "      <th>TOTAL_DEATHS</th>\n",
       "    </tr>\n",
       "  </thead>\n",
       "  <tbody>\n",
       "    <tr>\n",
       "      <th>0</th>\n",
       "      <td>NaN</td>\n",
       "      <td>NaN</td>\n",
       "    </tr>\n",
       "    <tr>\n",
       "      <th>1</th>\n",
       "      <td>2.0</td>\n",
       "      <td>2.0</td>\n",
       "    </tr>\n",
       "    <tr>\n",
       "      <th>2</th>\n",
       "      <td>1.0</td>\n",
       "      <td>1.0</td>\n",
       "    </tr>\n",
       "    <tr>\n",
       "      <th>3</th>\n",
       "      <td>NaN</td>\n",
       "      <td>NaN</td>\n",
       "    </tr>\n",
       "    <tr>\n",
       "      <th>4</th>\n",
       "      <td>4.0</td>\n",
       "      <td>4.0</td>\n",
       "    </tr>\n",
       "    <tr>\n",
       "      <th>5</th>\n",
       "      <td>2.0</td>\n",
       "      <td>2.0</td>\n",
       "    </tr>\n",
       "    <tr>\n",
       "      <th>6</th>\n",
       "      <td>367.0</td>\n",
       "      <td>367.0</td>\n",
       "    </tr>\n",
       "    <tr>\n",
       "      <th>7</th>\n",
       "      <td>NaN</td>\n",
       "      <td>NaN</td>\n",
       "    </tr>\n",
       "    <tr>\n",
       "      <th>8</th>\n",
       "      <td>NaN</td>\n",
       "      <td>NaN</td>\n",
       "    </tr>\n",
       "    <tr>\n",
       "      <th>9</th>\n",
       "      <td>1.0</td>\n",
       "      <td>1.0</td>\n",
       "    </tr>\n",
       "  </tbody>\n",
       "</table>\n",
       "</div>"
      ],
      "text/plain": [
       "   DEATHS  TOTAL_DEATHS\n",
       "0     NaN           NaN\n",
       "1     2.0           2.0\n",
       "2     1.0           1.0\n",
       "3     NaN           NaN\n",
       "4     4.0           4.0\n",
       "5     2.0           2.0\n",
       "6   367.0         367.0\n",
       "7     NaN           NaN\n",
       "8     NaN           NaN\n",
       "9     1.0           1.0"
      ]
     },
     "execution_count": 214,
     "metadata": {},
     "output_type": "execute_result"
    }
   ],
   "source": [
    "df[['DEATHS','TOTAL_DEATHS']].head(10)"
   ]
  },
  {
   "cell_type": "markdown",
   "metadata": {},
   "source": [
    "It doesn't look good"
   ]
  },
  {
   "cell_type": "code",
   "execution_count": 215,
   "metadata": {},
   "outputs": [
    {
     "data": {
      "text/plain": [
       "29"
      ]
     },
     "execution_count": 215,
     "metadata": {},
     "output_type": "execute_result"
    }
   ],
   "source": [
    "len(df[[\"TOTAL_DEATHS\",\"DEATHS\"]].dropna())"
   ]
  },
  {
   "cell_type": "markdown",
   "metadata": {},
   "source": [
    "This is not possible, there is a perfect correlation of their null values."
   ]
  },
  {
   "cell_type": "code",
   "execution_count": 216,
   "metadata": {},
   "outputs": [
    {
     "data": {
      "text/plain": [
       "1.0"
      ]
     },
     "execution_count": 216,
     "metadata": {},
     "output_type": "execute_result"
    }
   ],
   "source": [
    "df['DEATHS'].corr(df['TOTAL_DEATHS'])"
   ]
  },
  {
   "cell_type": "markdown",
   "metadata": {},
   "source": [
    "In fact these columns are identical so we drop 'TOTAL_DEATHS'"
   ]
  },
  {
   "cell_type": "code",
   "execution_count": 217,
   "metadata": {},
   "outputs": [],
   "source": [
    "df.drop('TOTAL_DEATHS', axis=1,inplace=True)"
   ]
  },
  {
   "cell_type": "markdown",
   "metadata": {},
   "source": [
    "I noticed earlier that we also have a column called 'TOTAL_DEATHS_DESCRIPTION'. We should look at this and compare to our target."
   ]
  },
  {
   "cell_type": "code",
   "execution_count": 218,
   "metadata": {},
   "outputs": [
    {
     "data": {
      "text/html": [
       "<div>\n",
       "<style scoped>\n",
       "    .dataframe tbody tr th:only-of-type {\n",
       "        vertical-align: middle;\n",
       "    }\n",
       "\n",
       "    .dataframe tbody tr th {\n",
       "        vertical-align: top;\n",
       "    }\n",
       "\n",
       "    .dataframe thead th {\n",
       "        text-align: right;\n",
       "    }\n",
       "</style>\n",
       "<table border=\"1\" class=\"dataframe\">\n",
       "  <thead>\n",
       "    <tr style=\"text-align: right;\">\n",
       "      <th></th>\n",
       "      <th>DEATHS</th>\n",
       "      <th>TOTAL_DEATHS_DESCRIPTION</th>\n",
       "    </tr>\n",
       "  </thead>\n",
       "  <tbody>\n",
       "    <tr>\n",
       "      <th>0</th>\n",
       "      <td>NaN</td>\n",
       "      <td>NaN</td>\n",
       "    </tr>\n",
       "    <tr>\n",
       "      <th>1</th>\n",
       "      <td>2.0</td>\n",
       "      <td>1.0</td>\n",
       "    </tr>\n",
       "    <tr>\n",
       "      <th>2</th>\n",
       "      <td>1.0</td>\n",
       "      <td>1.0</td>\n",
       "    </tr>\n",
       "    <tr>\n",
       "      <th>3</th>\n",
       "      <td>NaN</td>\n",
       "      <td>NaN</td>\n",
       "    </tr>\n",
       "    <tr>\n",
       "      <th>4</th>\n",
       "      <td>4.0</td>\n",
       "      <td>1.0</td>\n",
       "    </tr>\n",
       "    <tr>\n",
       "      <th>...</th>\n",
       "      <td>...</td>\n",
       "      <td>...</td>\n",
       "    </tr>\n",
       "    <tr>\n",
       "      <th>58</th>\n",
       "      <td>1.0</td>\n",
       "      <td>1.0</td>\n",
       "    </tr>\n",
       "    <tr>\n",
       "      <th>59</th>\n",
       "      <td>NaN</td>\n",
       "      <td>NaN</td>\n",
       "    </tr>\n",
       "    <tr>\n",
       "      <th>60</th>\n",
       "      <td>NaN</td>\n",
       "      <td>NaN</td>\n",
       "    </tr>\n",
       "    <tr>\n",
       "      <th>61</th>\n",
       "      <td>NaN</td>\n",
       "      <td>NaN</td>\n",
       "    </tr>\n",
       "    <tr>\n",
       "      <th>62</th>\n",
       "      <td>4.0</td>\n",
       "      <td>1.0</td>\n",
       "    </tr>\n",
       "  </tbody>\n",
       "</table>\n",
       "<p>63 rows × 2 columns</p>\n",
       "</div>"
      ],
      "text/plain": [
       "    DEATHS  TOTAL_DEATHS_DESCRIPTION\n",
       "0      NaN                       NaN\n",
       "1      2.0                       1.0\n",
       "2      1.0                       1.0\n",
       "3      NaN                       NaN\n",
       "4      4.0                       1.0\n",
       "..     ...                       ...\n",
       "58     1.0                       1.0\n",
       "59     NaN                       NaN\n",
       "60     NaN                       NaN\n",
       "61     NaN                       NaN\n",
       "62     4.0                       1.0\n",
       "\n",
       "[63 rows x 2 columns]"
      ]
     },
     "execution_count": 218,
     "metadata": {},
     "output_type": "execute_result"
    }
   ],
   "source": [
    "df[[\"DEATHS\", \"TOTAL_DEATHS_DESCRIPTION\"]]"
   ]
  },
  {
   "cell_type": "markdown",
   "metadata": {},
   "source": [
    "### Timeout"
   ]
  },
  {
   "cell_type": "markdown",
   "metadata": {},
   "source": [
    "The columns do not share values so I was left curious about \"TOTAL_DEATHS_DESCRIPTION\". Come to find out (https://www.ngdc.noaa.gov/nndc/servlet/ShowDatasets?dataset=102557&search_look=50&display_look=50), this is a rating scale from 1-3 of number of deaths. By definition this column was extrapulated from 'DEATHS' so it makes sense to think about the goal of this project. The goal of this project is to clean the data relative to the target column. If our goal was different we might have simply ran df.dropna(axis=1, inplace=True) and in one step received a rectangule 11x63 table. We remind ourselve that this is not our goal. Our goal is keep 'DEATHS'. Furthermore, our goal is to predict number of deaths given constraints that precide this target and not columns that are calculated after these tragic events. We drop \"TOTAL_DEATHS_DESCRIPTION\". We leave the other \"_DESCRIPTION\" columns and let the Data Scientist decide whether the constructs of those dependents are useful to the model. That said, we move on."
   ]
  },
  {
   "cell_type": "code",
   "execution_count": 219,
   "metadata": {},
   "outputs": [],
   "source": [
    "df.drop('TOTAL_DEATHS_DESCRIPTION', axis=1,inplace=True)"
   ]
  },
  {
   "cell_type": "code",
   "execution_count": 220,
   "metadata": {},
   "outputs": [],
   "source": [
    "# len(df[[\"DEATHS_DESCRIPTION\",\"DEATHS\"]].dropna())\n",
    "df.drop('DEATHS_DESCRIPTION', axis=1,inplace=True) # we also don't need this"
   ]
  },
  {
   "cell_type": "code",
   "execution_count": 221,
   "metadata": {},
   "outputs": [],
   "source": [
    "# It doesn't make sense to have rows where there is no value for the target column\n",
    "df = df[df['DEATHS'].isnull()==False]"
   ]
  },
  {
   "cell_type": "code",
   "execution_count": 222,
   "metadata": {},
   "outputs": [
    {
     "name": "stdout",
     "output_type": "stream",
     "text": [
      "<class 'pandas.core.frame.DataFrame'>\n",
      "Int64Index: 29 entries, 1 to 62\n",
      "Data columns (total 33 columns):\n",
      " #   Column                              Non-Null Count  Dtype  \n",
      "---  ------                              --------------  -----  \n",
      " 0   Year                                29 non-null     int64  \n",
      " 1   Month                               29 non-null     int64  \n",
      " 2   Day                                 27 non-null     float64\n",
      " 3   TSU                                 0 non-null      object \n",
      " 4   EQ                                  0 non-null      object \n",
      " 5   Name                                29 non-null     object \n",
      " 6   Location                            29 non-null     object \n",
      " 7   Country                             29 non-null     object \n",
      " 8   Latitude                            29 non-null     float64\n",
      " 9   Longitude                           29 non-null     float64\n",
      " 10  Elevation                           29 non-null     int64  \n",
      " 11  Type                                29 non-null     object \n",
      " 12  Status                              29 non-null     object \n",
      " 13  Time                                29 non-null     object \n",
      " 14  VEI                                 10 non-null     float64\n",
      " 15  Agent                               11 non-null     object \n",
      " 16  DEATHS                              29 non-null     float64\n",
      " 17  MISSING                             1 non-null      float64\n",
      " 18  MISSING_DESCRIPTION                 1 non-null      float64\n",
      " 19  INJURIES                            14 non-null     float64\n",
      " 20  INJURIES_DESCRIPTION                16 non-null     float64\n",
      " 21  DAMAGE_MILLIONS_DOLLARS             2 non-null      float64\n",
      " 22  DAMAGE_DESCRIPTION                  12 non-null     float64\n",
      " 23  HOUSES_DESTROYED                    3 non-null      float64\n",
      " 24  HOUSES_DESTROYED_DESCRIPTION        7 non-null      float64\n",
      " 25  TOTAL_MISSING                       1 non-null      float64\n",
      " 26  TOTAL_MISSING_DESCRIPTION           1 non-null      float64\n",
      " 27  TOTAL_INJURIES                      14 non-null     float64\n",
      " 28  TOTAL_INJURIES_DESCRIPTION          16 non-null     float64\n",
      " 29  TOTAL_DAMAGE_MILLIONS_DOLLARS       2 non-null      float64\n",
      " 30  TOTAL_DAMAGE_DESCRIPTION            12 non-null     float64\n",
      " 31  TOTAL_HOUSES_DESTROYED              2 non-null      float64\n",
      " 32  TOTAL_HOUSES_DESTROYED_DESCRIPTION  6 non-null      float64\n",
      "dtypes: float64(21), int64(3), object(9)\n",
      "memory usage: 7.7+ KB\n"
     ]
    }
   ],
   "source": [
    "df.info()"
   ]
  },
  {
   "cell_type": "markdown",
   "metadata": {},
   "source": [
    "Much of these columns come in pairs so we have a chance to combine pairs in order to keep columns. We set a minimum requriement however and 80% seems reasonable so if we can use two columns to get one of length 23 (80% of 29) we will do it. "
   ]
  },
  {
   "cell_type": "code",
   "execution_count": 223,
   "metadata": {},
   "outputs": [
    {
     "data": {
      "text/plain": [
       "12"
      ]
     },
     "execution_count": 223,
     "metadata": {},
     "output_type": "execute_result"
    }
   ],
   "source": [
    "len(df[[\"TOTAL_DAMAGE_DESCRIPTION\",\"DAMAGE_DESCRIPTION\"]].dropna())"
   ]
  },
  {
   "cell_type": "code",
   "execution_count": 224,
   "metadata": {},
   "outputs": [
    {
     "data": {
      "text/plain": [
       "14"
      ]
     },
     "execution_count": 224,
     "metadata": {},
     "output_type": "execute_result"
    }
   ],
   "source": [
    "len(df[[\"INJURIES\",\"INJURIES_DESCRIPTION\"]].dropna())"
   ]
  },
  {
   "cell_type": "code",
   "execution_count": 225,
   "metadata": {},
   "outputs": [
    {
     "data": {
      "text/plain": [
       "14"
      ]
     },
     "execution_count": 225,
     "metadata": {},
     "output_type": "execute_result"
    }
   ],
   "source": [
    "len(df[[\"INJURIES\",\"TOTAL_INJURIES\"]].dropna())"
   ]
  },
  {
   "cell_type": "markdown",
   "metadata": {},
   "source": [
    "Unfortunately for the integrity of the dataset, we cannot combine any two columns to receive a column with length of at least 23 so we need to do a big drop. Let's drop labels where we do not have at least 70% of the data.\n",
    "\n",
    "*note - 70% is arbitrary"
   ]
  },
  {
   "cell_type": "code",
   "execution_count": 226,
   "metadata": {},
   "outputs": [],
   "source": [
    "def filter70(cols):\n",
    "    toKeep = []\n",
    "    \n",
    "    for col in cols:\n",
    "        if (len(df[df[col].notnull()])/29) > 0.70:\n",
    "            toKeep.append(col)\n",
    "            \n",
    "    return toKeep"
   ]
  },
  {
   "cell_type": "code",
   "execution_count": 227,
   "metadata": {},
   "outputs": [],
   "source": [
    "toKeep = filter70(df.columns)"
   ]
  },
  {
   "cell_type": "code",
   "execution_count": 228,
   "metadata": {},
   "outputs": [],
   "source": [
    "df70 = df[toKeep]"
   ]
  },
  {
   "cell_type": "code",
   "execution_count": 229,
   "metadata": {},
   "outputs": [
    {
     "name": "stdout",
     "output_type": "stream",
     "text": [
      "<class 'pandas.core.frame.DataFrame'>\n",
      "Int64Index: 29 entries, 1 to 62\n",
      "Data columns (total 13 columns):\n",
      " #   Column     Non-Null Count  Dtype  \n",
      "---  ------     --------------  -----  \n",
      " 0   Year       29 non-null     int64  \n",
      " 1   Month      29 non-null     int64  \n",
      " 2   Day        27 non-null     float64\n",
      " 3   Name       29 non-null     object \n",
      " 4   Location   29 non-null     object \n",
      " 5   Country    29 non-null     object \n",
      " 6   Latitude   29 non-null     float64\n",
      " 7   Longitude  29 non-null     float64\n",
      " 8   Elevation  29 non-null     int64  \n",
      " 9   Type       29 non-null     object \n",
      " 10  Status     29 non-null     object \n",
      " 11  Time       29 non-null     object \n",
      " 12  DEATHS     29 non-null     float64\n",
      "dtypes: float64(4), int64(3), object(6)\n",
      "memory usage: 3.2+ KB\n"
     ]
    }
   ],
   "source": [
    "df70.info()"
   ]
  },
  {
   "cell_type": "markdown",
   "metadata": {},
   "source": [
    "We should salvage \"Day\" to keep this column. Ideally I would research these events to figure out the exact day but since I couldn't find this in a few seconds I will simply fill them in with the number 15."
   ]
  },
  {
   "cell_type": "code",
   "execution_count": 230,
   "metadata": {},
   "outputs": [],
   "source": [
    "df = df70\n",
    "df.fillna(15, inplace=True)"
   ]
  },
  {
   "cell_type": "markdown",
   "metadata": {},
   "source": [
    "### Finishing Touches"
   ]
  },
  {
   "cell_type": "code",
   "execution_count": 231,
   "metadata": {},
   "outputs": [
    {
     "name": "stdout",
     "output_type": "stream",
     "text": [
      "<class 'pandas.core.frame.DataFrame'>\n",
      "Int64Index: 29 entries, 1 to 62\n",
      "Data columns (total 13 columns):\n",
      " #   Column     Non-Null Count  Dtype  \n",
      "---  ------     --------------  -----  \n",
      " 0   Year       29 non-null     int64  \n",
      " 1   Month      29 non-null     int64  \n",
      " 2   Day        29 non-null     float64\n",
      " 3   Name       29 non-null     object \n",
      " 4   Location   29 non-null     object \n",
      " 5   Country    29 non-null     object \n",
      " 6   Latitude   29 non-null     float64\n",
      " 7   Longitude  29 non-null     float64\n",
      " 8   Elevation  29 non-null     int64  \n",
      " 9   Type       29 non-null     object \n",
      " 10  Status     29 non-null     object \n",
      " 11  Time       29 non-null     object \n",
      " 12  DEATHS     29 non-null     float64\n",
      "dtypes: float64(4), int64(3), object(6)\n",
      "memory usage: 3.2+ KB\n"
     ]
    }
   ],
   "source": [
    "df.info()"
   ]
  },
  {
   "cell_type": "markdown",
   "metadata": {},
   "source": [
    "Let's make \"Day\" and \"DEATHS\" integers"
   ]
  },
  {
   "cell_type": "code",
   "execution_count": 232,
   "metadata": {},
   "outputs": [],
   "source": [
    "def toInt(x):\n",
    "    return int(x)\n",
    "\n",
    "df['Day'] = df['Day'].apply(toInt)\n",
    "df['DEATHS'] = df['DEATHS'].apply(toInt)"
   ]
  },
  {
   "cell_type": "markdown",
   "metadata": {},
   "source": [
    "Let's look at 'Type', 'Status', and 'Time' labels"
   ]
  },
  {
   "cell_type": "code",
   "execution_count": 233,
   "metadata": {},
   "outputs": [
    {
     "data": {
      "text/plain": [
       "<matplotlib.axes._subplots.AxesSubplot at 0x2d752a0a188>"
      ]
     },
     "execution_count": 233,
     "metadata": {},
     "output_type": "execute_result"
    },
    {
     "data": {
      "image/png": "[encoded data removed]",
      "text/plain": [
       "<Figure size 432x288 with 1 Axes>"
      ]
     },
     "metadata": {
      "needs_background": "light"
     },
     "output_type": "display_data"
    }
   ],
   "source": [
    "sns.countplot(data=df,x=\"Status\") # First converting 'Status' column"
   ]
  },
  {
   "cell_type": "code",
   "execution_count": 234,
   "metadata": {},
   "outputs": [
    {
     "data": {
      "text/plain": [
       "<matplotlib.axes._subplots.AxesSubplot at 0x2d7522b35c8>"
      ]
     },
     "execution_count": 234,
     "metadata": {},
     "output_type": "execute_result"
    },
    {
     "data": {
      "image/png": "[encoded data removed]",
      "text/plain": [
       "<Figure size 576x432 with 1 Axes>"
      ]
     },
     "metadata": {
      "needs_background": "light"
     },
     "output_type": "display_data"
    }
   ],
   "source": [
    "plt.figure(figsize=(8,6)) \n",
    "sns.countplot(data=df,x=\"Type\")"
   ]
  },
  {
   "cell_type": "code",
   "execution_count": 235,
   "metadata": {},
   "outputs": [
    {
     "data": {
      "text/plain": [
       "<matplotlib.axes._subplots.AxesSubplot at 0x2d751af7d08>"
      ]
     },
     "execution_count": 235,
     "metadata": {},
     "output_type": "execute_result"
    },
    {
     "data": {
      "image/png": "[encoded data removed]",
      "text/plain": [
       "<Figure size 576x432 with 1 Axes>"
      ]
     },
     "metadata": {
      "needs_background": "light"
     },
     "output_type": "display_data"
    }
   ],
   "source": [
    "plt.figure(figsize=(8,6)) \n",
    "sns.countplot(data=df,x=\"Time\")"
   ]
  },
  {
   "cell_type": "markdown",
   "metadata": {},
   "source": [
    "Let's create dummy variables for the 'Status' and 'Type' columns. We will do the same for 'Time', but know, \"U\" and \"Unknown Time\" may be equivalent so we convey this information to the person interpreting the data. "
   ]
  },
  {
   "cell_type": "code",
   "execution_count": 236,
   "metadata": {},
   "outputs": [],
   "source": [
    "status = pd.get_dummies(df['Status'],drop_first=True)\n",
    "df.drop(columns=\"Status\",inplace=True,axis=1)"
   ]
  },
  {
   "cell_type": "code",
   "execution_count": 237,
   "metadata": {},
   "outputs": [],
   "source": [
    "theType = pd.get_dummies(df['Type'], drop_first=True)\n",
    "df.drop('Type',axis=1, inplace=True)"
   ]
  },
  {
   "cell_type": "code",
   "execution_count": 238,
   "metadata": {},
   "outputs": [],
   "source": [
    "theTime = pd.get_dummies(df['Time'], drop_first=True)\n",
    "df.drop('Time', axis=1, inplace=True)"
   ]
  },
  {
   "cell_type": "code",
   "execution_count": 239,
   "metadata": {},
   "outputs": [],
   "source": [
    "df = pd.concat([df,status,theType, theTime],axis=1) # Putting it all together"
   ]
  },
  {
   "cell_type": "code",
   "execution_count": 245,
   "metadata": {},
   "outputs": [],
   "source": [
    "df.reset_index(drop=True,inplace=True)"
   ]
  },
  {
   "cell_type": "code",
   "execution_count": 247,
   "metadata": {},
   "outputs": [],
   "source": [
    "Y=df[\"DEATHS\"]\n",
    "X=df.drop(['DEATHS', 'Name', \"Location\", 'Country'],axis=1) # X and y are READY for machine learning"
   ]
  },
  {
   "cell_type": "code",
   "execution_count": 250,
   "metadata": {},
   "outputs": [
    {
     "name": "stdout",
     "output_type": "stream",
     "text": [
      "<class 'pandas.core.frame.DataFrame'>\n",
      "RangeIndex: 29 entries, 0 to 28\n",
      "Data columns (total 20 columns):\n",
      " #   Column            Non-Null Count  Dtype  \n",
      "---  ------            --------------  -----  \n",
      " 0   Year              29 non-null     int64  \n",
      " 1   Month             29 non-null     int64  \n",
      " 2   Day               29 non-null     int64  \n",
      " 3   Name              29 non-null     object \n",
      " 4   Location          29 non-null     object \n",
      " 5   Country           29 non-null     object \n",
      " 6   Latitude          29 non-null     float64\n",
      " 7   Longitude         29 non-null     float64\n",
      " 8   Elevation         29 non-null     int64  \n",
      " 9   DEATHS            29 non-null     int64  \n",
      " 10  Holocene          29 non-null     uint8  \n",
      " 11  Tephrochronology  29 non-null     uint8  \n",
      " 12  Complex volcano   29 non-null     uint8  \n",
      " 13  Lava dome         29 non-null     uint8  \n",
      " 14  Shield volcano    29 non-null     uint8  \n",
      " 15  Stratovolcano     29 non-null     uint8  \n",
      " 16  D5                29 non-null     uint8  \n",
      " 17  D7                29 non-null     uint8  \n",
      " 18  U                 29 non-null     uint8  \n",
      " 19  Unknown           29 non-null     uint8  \n",
      "dtypes: float64(2), int64(5), object(3), uint8(10)\n",
      "memory usage: 2.7+ KB\n"
     ]
    }
   ],
   "source": [
    "df.info()"
   ]
  },
  {
   "cell_type": "code",
   "execution_count": 249,
   "metadata": {},
   "outputs": [
    {
     "name": "stdout",
     "output_type": "stream",
     "text": [
      "<class 'pandas.core.frame.DataFrame'>\n",
      "RangeIndex: 29 entries, 0 to 28\n",
      "Data columns (total 16 columns):\n",
      " #   Column            Non-Null Count  Dtype  \n",
      "---  ------            --------------  -----  \n",
      " 0   Year              29 non-null     int64  \n",
      " 1   Month             29 non-null     int64  \n",
      " 2   Day               29 non-null     int64  \n",
      " 3   Latitude          29 non-null     float64\n",
      " 4   Longitude         29 non-null     float64\n",
      " 5   Elevation         29 non-null     int64  \n",
      " 6   Holocene          29 non-null     uint8  \n",
      " 7   Tephrochronology  29 non-null     uint8  \n",
      " 8   Complex volcano   29 non-null     uint8  \n",
      " 9   Lava dome         29 non-null     uint8  \n",
      " 10  Shield volcano    29 non-null     uint8  \n",
      " 11  Stratovolcano     29 non-null     uint8  \n",
      " 12  D5                29 non-null     uint8  \n",
      " 13  D7                29 non-null     uint8  \n",
      " 14  U                 29 non-null     uint8  \n",
      " 15  Unknown           29 non-null     uint8  \n",
      "dtypes: float64(2), int64(4), uint8(10)\n",
      "memory usage: 1.8 KB\n"
     ]
    }
   ],
   "source": [
    "X.info()"
   ]
  },
  {
   "cell_type": "markdown",
   "metadata": {},
   "source": [
    "## Conclusion"
   ]
  },
  {
   "cell_type": "markdown",
   "metadata": {},
   "source": [
    "This was a good dataset for this project's purpose and successful cleaning was achieved. These operations utilyzed included mapping a column to another, creating dummy variables, and dropping null values. In retrospect, I could have ran df = df[df['DEATHS'].notnull()].dropna(axis=1) and saved myself a lot of work. It is good practice, however, to maximize data retention. I strugled to find the exact dates for the two noted missing data points, as I did with learning more about the meaning of the 'Time' column (you would hope this would be on the dataset's web page). Regardless, the results are a cleaned data frame (and X and Y variables ready for machine learning)."
   ]
  }
 ],
 "metadata": {
  "kernelspec": {
   "display_name": "Python 3",
   "language": "python",
   "name": "python3"
  },
  "language_info": {
   "codemirror_mode": {
    "name": "ipython",
    "version": 3
   },
   "file_extension": ".py",
   "mimetype": "text/x-python",
   "name": "python",
   "nbconvert_exporter": "python",
   "pygments_lexer": "ipython3",
   "version": "3.8.5"
  }
 },
 "nbformat": 4,
 "nbformat_minor": 2
}

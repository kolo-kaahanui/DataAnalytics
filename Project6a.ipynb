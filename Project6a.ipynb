{
 "cells": [
  {
   "cell_type": "markdown",
   "metadata": {},
   "source": [
    "# Reversing Conway (Part 1)"
   ]
  },
  {
   "cell_type": "markdown",
   "metadata": {},
   "source": [
    "The goal of this project is to reverse Conway's Game of Life on a 25 x 25 grid board. Conway's Game of Life is a \"Cellular Automation\" devised by John Conway. This game lives on a orthoganal grid and invovles a life state (1 or 0) at each point on a grid. This algorithm changes over \"time\" (iterations) based on an initial state and a certain set of rules. The rules followed in this project are as follows:\n",
    "\n",
    "1. Overpopulation: if a living cell is surrounded by more than three living cells, it dies.\n",
    "2. Stasis: if a living cell is surrounded by two or three living cells, it survives.\n",
    "3. Underpopulation: if a living cell is surrounded by fewer than two living cells, it dies.\n",
    "4. Reproduction: if a dead cell is surrounded by exactly three cells, it becomes a live cell.\n",
    "    \n",
    "Before jumping into the reversal of this game it would be wise to start with something more simple. In this part 1 we will start the algorithm for the forward direction. Also, let's start with a 5x5 board before moving on to the bigger board."
   ]
  },
  {
   "cell_type": "markdown",
   "metadata": {},
   "source": [
    "## Getting Started"
   ]
  },
  {
   "cell_type": "code",
   "execution_count": 1,
   "metadata": {},
   "outputs": [],
   "source": [
    "import numpy as np\n",
    "import random"
   ]
  },
  {
   "cell_type": "markdown",
   "metadata": {},
   "source": [
    "The initial state is irrelevant so I'm just going to create this life generation function as follows... We'll generate a random number between 3 and 7. This will represent the number of cells to be initialized as alive (we can always change this later). Then I will randomize their location to a position between 0 and 24."
   ]
  },
  {
   "cell_type": "code",
   "execution_count": 18,
   "metadata": {},
   "outputs": [],
   "source": [
    "def startLife(a): # returns aPost\n",
    "    numTerms = random.randint(3,10)\n",
    "    startingPoints = []\n",
    "    for term in range(numTerms):\n",
    "        temp = random.randint(0,24)\n",
    "        startingPoints.append(temp)\n",
    "        \n",
    "    for pointLoc in startingPoints:\n",
    "        a[pointLoc]=1\n",
    "    \n",
    "    return a"
   ]
  },
  {
   "cell_type": "code",
   "execution_count": 19,
   "metadata": {},
   "outputs": [],
   "source": [
    "def startLifeSuper():\n",
    "    aPre = np.zeros(25)\n",
    "    aPost = startLife(aPre)\n",
    "    aMat = aPost.reshape(5,5)\n",
    "    \n",
    "    return aMat\n",
    "    "
   ]
  },
  {
   "cell_type": "markdown",
   "metadata": {},
   "source": [
    "Now we have a starting point. After looking at the four rules of the algorithm it is apparent that we update a position based on its neighbors. Lets make a function that returns a list of all of the adjacent cells' states given some cell location.\n"
   ]
  },
  {
   "cell_type": "code",
   "execution_count": 20,
   "metadata": {},
   "outputs": [],
   "source": [
    "# Given a (x,y)\n",
    "def surroundings(somePos):\n",
    "    x = somePos[0]\n",
    "    y = somePos[1]\n",
    "\n",
    "\n",
    "    if (y ==0) and (x==0):#top left\n",
    "        out = [aMat[y][x+1],\n",
    "        aMat[y+1][x],\n",
    "        aMat[y+1][x+1]]\n",
    "        \n",
    "        return out\n",
    "        \n",
    "        \n",
    "    elif (y == 0) and (x ==4): # top right\n",
    "        out = [\n",
    "        aMat[y][x-1],\n",
    "        aMat[y+1][x-1],\n",
    "        aMat[y+1][x],\n",
    "        ]\n",
    "        \n",
    "        return out\n",
    "        \n",
    "    elif y== 0: # just top\n",
    "        out = [aMat[y][x+1],\n",
    "        aMat[y][x-1],\n",
    "        aMat[y+1][x-1],\n",
    "        aMat[y+1][x],\n",
    "        aMat[y+1][x+1]]\n",
    "        \n",
    "        return out\n",
    "        \n",
    "    elif (y ==4) and (x==0): # bottom left\n",
    "        out = [aMat[y][x+1],\n",
    "        aMat[y-1][x+1],\n",
    "        aMat[y-1][x],\n",
    "        ]\n",
    "        \n",
    "        return out\n",
    "        \n",
    "    elif (y==4) and (x == 4): # bottom right\n",
    "        out = [\n",
    "        aMat[y-1][x],\n",
    "        aMat[y-1][x-1],\n",
    "        aMat[y][x-1],\n",
    "       ]\n",
    "        \n",
    "        return out\n",
    "        \n",
    "    elif y==4: # just bottom\n",
    "        out = [aMat[y][x+1],\n",
    "        aMat[y-1][x+1],\n",
    "        aMat[y-1][x],\n",
    "        aMat[y-1][x-1],\n",
    "        aMat[y][x-1],]\n",
    "        \n",
    "        return out\n",
    "        \n",
    "    elif x ==0: # just left\n",
    "        out = [aMat[y][x+1],\n",
    "        aMat[y-1][x+1],\n",
    "        aMat[y-1][x],\n",
    "        aMat[y+1][x],\n",
    "        aMat[y+1][x+1]]\n",
    "        \n",
    "        return out\n",
    "    \n",
    "    elif x ==4: # just right\n",
    "        out = [\n",
    "        aMat[y-1][x],\n",
    "        aMat[y-1][x-1],\n",
    "        aMat[y][x-1],\n",
    "        aMat[y+1][x-1],\n",
    "        aMat[y+1][x]]\n",
    "        \n",
    "        return out\n",
    "        \n",
    "    else: # any mid\n",
    "        out = [aMat[y][x+1],\n",
    "        aMat[y-1][x+1],\n",
    "        aMat[y-1][x],\n",
    "        aMat[y-1][x-1],\n",
    "        aMat[y][x-1],\n",
    "        aMat[y+1][x-1],\n",
    "        aMat[y+1][x],\n",
    "        aMat[y+1][x+1]]\n",
    "                     \n",
    "        return out\n",
    "        "
   ]
  },
  {
   "cell_type": "markdown",
   "metadata": {},
   "source": [
    "Now that we have a list of neighbors we can implement the four rules."
   ]
  },
  {
   "cell_type": "code",
   "execution_count": 25,
   "metadata": {},
   "outputs": [],
   "source": [
    "def grimReaper(somePos): # updates a position using surroundings based on the rules\n",
    "    x = somePos[0]\n",
    "    y = somePos[1]\n",
    "    \n",
    "    alive = aMat[y][x]\n",
    "    surroundingLife = sum(surroundings((x,y)))\n",
    "    \n",
    "    # Overpopulation\n",
    "    if (alive==1) and (surroundingLife > 3):\n",
    "        alive = 0\n",
    "    # Stasis\n",
    "    elif (alive==1) and (1<surroundingLife<4):\n",
    "        pass # alive = 1\n",
    "    # Underpopulation\n",
    "    elif (alive==1) and (surroundingLife<2):\n",
    "        alive = 0\n",
    "        \n",
    "    # Reproduction\n",
    "    elif (alive==0) and (surroundingLife==3):\n",
    "        alive=1\n",
    "    else:\n",
    "        pass\n",
    "    \n",
    "    aMat[y][x]=alive\n",
    "    \n",
    "    "
   ]
  },
  {
   "cell_type": "markdown",
   "metadata": {},
   "source": [
    "Let's try it out."
   ]
  },
  {
   "cell_type": "code",
   "execution_count": 22,
   "metadata": {},
   "outputs": [],
   "source": [
    "import matplotlib.pyplot as plt\n",
    "%matplotlib inline\n",
    "\n",
    "import time"
   ]
  },
  {
   "cell_type": "code",
   "execution_count": 24,
   "metadata": {},
   "outputs": [
    {
     "data": {
      "image/png": "[encoded data removed]",
      "text/plain": [
       "<Figure size 432x288 with 1 Axes>"
      ]
     },
     "metadata": {
      "needs_background": "light"
     },
     "output_type": "display_data"
    },
    {
     "data": {
      "image/png": "[encoded data removed]",
      "text/plain": [
       "<Figure size 432x288 with 1 Axes>"
      ]
     },
     "metadata": {
      "needs_background": "light"
     },
     "output_type": "display_data"
    },
    {
     "data": {
      "image/png": "[encoded data removed]",
      "text/plain": [
       "<Figure size 432x288 with 1 Axes>"
      ]
     },
     "metadata": {
      "needs_background": "light"
     },
     "output_type": "display_data"
    },
    {
     "data": {
      "image/png": "[encoded data removed]",
      "text/plain": [
       "<Figure size 432x288 with 1 Axes>"
      ]
     },
     "metadata": {
      "needs_background": "light"
     },
     "output_type": "display_data"
    },
    {
     "data": {
      "image/png": "[encoded data removed]",
      "text/plain": [
       "<Figure size 432x288 with 1 Axes>"
      ]
     },
     "metadata": {
      "needs_background": "light"
     },
     "output_type": "display_data"
    },
    {
     "data": {
      "image/png": "[encoded data removed]",
      "text/plain": [
       "<Figure size 432x288 with 1 Axes>"
      ]
     },
     "metadata": {
      "needs_background": "light"
     },
     "output_type": "display_data"
    },
    {
     "data": {
      "image/png": "[encoded data removed]",
      "text/plain": [
       "<Figure size 432x288 with 1 Axes>"
      ]
     },
     "metadata": {
      "needs_background": "light"
     },
     "output_type": "display_data"
    },
    {
     "data": {
      "image/png": "[encoded data removed]",
      "text/plain": [
       "<Figure size 432x288 with 1 Axes>"
      ]
     },
     "metadata": {
      "needs_background": "light"
     },
     "output_type": "display_data"
    },
    {
     "data": {
      "image/png": "[encoded data removed]",
      "text/plain": [
       "<Figure size 432x288 with 1 Axes>"
      ]
     },
     "metadata": {
      "needs_background": "light"
     },
     "output_type": "display_data"
    },
    {
     "data": {
      "image/png": "[encoded data removed]",
      "text/plain": [
       "<Figure size 432x288 with 1 Axes>"
      ]
     },
     "metadata": {
      "needs_background": "light"
     },
     "output_type": "display_data"
    }
   ],
   "source": [
    "# lets do 10 iterations\n",
    "aMat = startLifeSuper()\n",
    "\n",
    "for k in range(10):\n",
    "    plt.imshow(aMat, cmap=\"gray\")\n",
    "    plt.show()\n",
    "    \n",
    "    for i in range(5):\n",
    "        for j in range(5):\n",
    "            grimReaper((j,i))\n",
    "            \n",
    "    \n",
    "    time.sleep(.5)"
   ]
  },
  {
   "cell_type": "markdown",
   "metadata": {},
   "source": [
    "## Now on a 25x25 board"
   ]
  },
  {
   "cell_type": "markdown",
   "metadata": {},
   "source": [
    "We need to update the previous code to work on a 25 x 25 dimension board."
   ]
  },
  {
   "cell_type": "code",
   "execution_count": 11,
   "metadata": {},
   "outputs": [],
   "source": [
    "# Given a (x,y)\n",
    "def surroundings(somePos):\n",
    "    x = somePos[0]\n",
    "    y = somePos[1]\n",
    "\n",
    "\n",
    "    if (y ==0) and (x==0):#top left\n",
    "        out = [aMat[y][x+1],\n",
    "        aMat[y+1][x],\n",
    "        aMat[y+1][x+1]]\n",
    "        \n",
    "        return out\n",
    "        \n",
    "        \n",
    "    elif (y == 0) and (x ==24): # top right\n",
    "        out = [\n",
    "        aMat[y][x-1],\n",
    "        aMat[y+1][x-1],\n",
    "        aMat[y+1][x],\n",
    "        ]\n",
    "        \n",
    "        return out\n",
    "        \n",
    "    elif y== 0: # just top\n",
    "        out = [aMat[y][x+1],\n",
    "        aMat[y][x-1],\n",
    "        aMat[y+1][x-1],\n",
    "        aMat[y+1][x],\n",
    "        aMat[y+1][x+1]]\n",
    "        \n",
    "        return out\n",
    "        \n",
    "    elif (y ==24) and (x==0): # bottom left\n",
    "        out = [aMat[y][x+1],\n",
    "        aMat[y-1][x+1],\n",
    "        aMat[y-1][x],\n",
    "        ]\n",
    "        \n",
    "        return out\n",
    "        \n",
    "    elif (y==24) and (x == 24): # bottom right\n",
    "        out = [\n",
    "        aMat[y-1][x],\n",
    "        aMat[y-1][x-1],\n",
    "        aMat[y][x-1],\n",
    "       ]\n",
    "        \n",
    "        return out\n",
    "        \n",
    "    elif y==24: # just bottom\n",
    "        out = [aMat[y][x+1],\n",
    "        aMat[y-1][x+1],\n",
    "        aMat[y-1][x],\n",
    "        aMat[y-1][x-1],\n",
    "        aMat[y][x-1],]\n",
    "        \n",
    "        return out\n",
    "        \n",
    "    elif x ==0: # just left\n",
    "        out = [aMat[y][x+1],\n",
    "        aMat[y-1][x+1],\n",
    "        aMat[y-1][x],\n",
    "        aMat[y+1][x],\n",
    "        aMat[y+1][x+1]]\n",
    "        \n",
    "        return out\n",
    "    \n",
    "    elif x ==24: # just right\n",
    "        out = [\n",
    "        aMat[y-1][x],\n",
    "        aMat[y-1][x-1],\n",
    "        aMat[y][x-1],\n",
    "        aMat[y+1][x-1],\n",
    "        aMat[y+1][x]]\n",
    "        \n",
    "        return out\n",
    "        \n",
    "    else: # any mid\n",
    "        out = [aMat[y][x+1],\n",
    "        aMat[y-1][x+1],\n",
    "        aMat[y-1][x],\n",
    "        aMat[y-1][x-1],\n",
    "        aMat[y][x-1],\n",
    "        aMat[y+1][x-1],\n",
    "        aMat[y+1][x],\n",
    "        aMat[y+1][x+1]]\n",
    "                     \n",
    "        return out\n",
    "        "
   ]
  },
  {
   "cell_type": "code",
   "execution_count": 12,
   "metadata": {},
   "outputs": [],
   "source": [
    "# This actually did not change\n",
    "def grimReaper(somePos): # updates a position using surroundings\n",
    "    x = somePos[0]\n",
    "    y = somePos[1]\n",
    "    \n",
    "    alive = aMat[y][x]\n",
    "    surroundingLife = sum(surroundings((x,y)))\n",
    "    \n",
    "    # Overpopulation\n",
    "    if (alive==1) and (surroundingLife > 3):\n",
    "        alive = 0\n",
    "    # Stasis\n",
    "    elif (alive==1) and (1<surroundingLife<4):\n",
    "        pass # alive = 1\n",
    "    # Underpopulation\n",
    "    elif (alive==1) and (surroundingLife<2):\n",
    "        alive = 0\n",
    "        \n",
    "    # Reproduction\n",
    "    elif (alive==0) and (surroundingLife==3):\n",
    "        alive=1\n",
    "    else:\n",
    "        pass\n",
    "    \n",
    "    aMat[y][x]=alive\n",
    "    "
   ]
  },
  {
   "cell_type": "code",
   "execution_count": 16,
   "metadata": {},
   "outputs": [],
   "source": [
    "# Let's arbitrarily increase the number of life states for the bigger board\n",
    "def startLife(a): # returns aPost\n",
    "    numTerms = random.randint(40,100)\n",
    "    startingPoints = []\n",
    "    for term in range(numTerms):\n",
    "        temp = random.randint(0,25*25-1)\n",
    "        startingPoints.append(temp)\n",
    "        \n",
    "    for pointLoc in startingPoints:\n",
    "        a[pointLoc]=1\n",
    "    \n",
    "    return a\n",
    "\n",
    "def startLifeSuper():\n",
    "    aPre = np.zeros(25*25)\n",
    "    aPost = startLife(aPre)\n",
    "    aMat = aPost.reshape(25,25)\n",
    "    \n",
    "    return aMat\n",
    "    "
   ]
  },
  {
   "cell_type": "code",
   "execution_count": 17,
   "metadata": {},
   "outputs": [
    {
     "data": {
      "image/png": "[encoded data removed]",
      "text/plain": [
       "<Figure size 432x288 with 1 Axes>"
      ]
     },
     "metadata": {
      "needs_background": "light"
     },
     "output_type": "display_data"
    },
    {
     "data": {
      "image/png": "[encoded data removed]",
      "text/plain": [
       "<Figure size 432x288 with 1 Axes>"
      ]
     },
     "metadata": {
      "needs_background": "light"
     },
     "output_type": "display_data"
    },
    {
     "data": {
      "image/png": "[encoded data removed]",
      "text/plain": [
       "<Figure size 432x288 with 1 Axes>"
      ]
     },
     "metadata": {
      "needs_background": "light"
     },
     "output_type": "display_data"
    },
    {
     "data": {
      "image/png": "[encoded data removed]",
      "text/plain": [
       "<Figure size 432x288 with 1 Axes>"
      ]
     },
     "metadata": {
      "needs_background": "light"
     },
     "output_type": "display_data"
    },
    {
     "data": {
      "image/png": "[encoded data removed]",
      "text/plain": [
       "<Figure size 432x288 with 1 Axes>"
      ]
     },
     "metadata": {
      "needs_background": "light"
     },
     "output_type": "display_data"
    }
   ],
   "source": [
    "# lets do 5 iterations\n",
    "aMat = startLifeSuper()\n",
    "\n",
    "for k in range(5):\n",
    "    plt.imshow(aMat, cmap=\"gray\")\n",
    "    plt.show()\n",
    "    \n",
    "    for i in range(25):\n",
    "        for j in range(25):\n",
    "            grimReaper((j,i))\n",
    "            \n",
    "    time.sleep(.5)"
   ]
  },
  {
   "cell_type": "markdown",
   "metadata": {},
   "source": [
    "## Conclusion"
   ]
  },
  {
   "cell_type": "markdown",
   "metadata": {},
   "source": [
    "After running the above cell a few times I've noticed a few things. Too many isolated squares results in extinction. Additionally, even if the ecosystem looks populated it can go extinct after only a few iterations. Lastly, the board loves certain isolations (like the square in the 5x5 board) which are recipes for infinite life, because, as you can see the square does not go excint. This makes sense, it follows the rules of life. In the next section we will work on reversing the game of life."
   ]
  }
 ],
 "metadata": {
  "kernelspec": {
   "display_name": "Python 3",
   "language": "python",
   "name": "python3"
  },
  "language_info": {
   "codemirror_mode": {
    "name": "ipython",
    "version": 3
   },
   "file_extension": ".py",
   "mimetype": "text/x-python",
   "name": "python",
   "nbconvert_exporter": "python",
   "pygments_lexer": "ipython3",
   "version": "3.7.6"
  }
 },
 "nbformat": 4,
 "nbformat_minor": 4
}

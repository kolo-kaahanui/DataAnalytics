{
 "cells": [
  {
   "cell_type": "markdown",
   "metadata": {},
   "source": [
    "# Text Summarization Project"
   ]
  },
  {
   "cell_type": "markdown",
   "metadata": {},
   "source": [
    "As outlined in this walkthrough: https://stackabuse.com/text-summarization-with-nltk-in-python/"
   ]
  },
  {
   "cell_type": "markdown",
   "metadata": {},
   "source": [
    "### Convert Paragraphs to Sentences"
   ]
  },
  {
   "cell_type": "code",
   "execution_count": 109,
   "metadata": {},
   "outputs": [],
   "source": [
    "someText = open('gettysbergAddress.txt','r',encoding=\"UTF-8\")"
   ]
  },
  {
   "cell_type": "code",
   "execution_count": 110,
   "metadata": {},
   "outputs": [],
   "source": [
    "someText = someText.read()\n",
    "#someText = \"Fourscore and seven years ago our fathers brought forth on this continent a new nation, conceived in liberty and dedicated to the proposition that all men are created equal. Now we are engaged in a great civil war, testing whether that nation, or any nation so conceived and so dedicated, can long endure. We are met on a great battlefield of that war. We have come to dedicate a portion of that field as a final resting-place for those who here gave their lives that that nation might live. It is altogether fitting and proper that we should do this. But, in a larger sense, we cannot dedicate — we cannot consecrate — we cannot hallow — this ground. The brave men, living and dead, who struggled here have consecrated it, far above our poor power to add or detract. The world will little note, nor long remember what we say here, but it can never forget what they did here. It is for us the living, rather, to be dedicated here to the unfinished work which they who fought here have thus far so nobly advanced. It is rather for us to be here dedicated to the great task remaining before us — that from these honored dead we take increased devotion to that cause for which they gave the last full measure of devotion — that we here highly resolve that these dead shall not have died in vain — that this nation shall have a new birth of freedom and that government of the people, by the people, for the people, shall not perish from the earth.\""
   ]
  },
  {
   "cell_type": "code",
   "execution_count": 111,
   "metadata": {},
   "outputs": [],
   "source": [
    "sentences = someText.split(\".\")"
   ]
  },
  {
   "cell_type": "code",
   "execution_count": 112,
   "metadata": {},
   "outputs": [
    {
     "data": {
      "text/plain": [
       "['Fourscore and seven years ago our fathers brought forth on this continent a new nation, conceived in liberty and dedicated to the proposition that all men are created equal',\n",
       " '\\n\\nNow we are engaged in a great civil war, testing whether that nation, or any nation so conceived and so dedicated, can long endure',\n",
       " ' We are met on a great battlefield of that war',\n",
       " ' We have come to dedicate a portion of that field as a final resting-place for those who here gave their lives that that nation might live',\n",
       " ' It is altogether fitting and proper that we should do this',\n",
       " ' But, in a larger sense, we cannot dedicate — we cannot consecrate — we cannot hallow — this ground',\n",
       " ' The brave men, living and dead, who struggled here have consecrated it, far above our poor power to add or detract',\n",
       " ' The world will little note, nor long remember what we say here, but it can never forget what they did here',\n",
       " ' It is for us the living, rather, to be dedicated here to the unfinished work which they who fought here have thus far so nobly advanced',\n",
       " ' It is rather for us to be here dedicated to the great task remaining before us — that from these honored dead we take increased devotion to that cause for which they gave the last full measure of devotion — that we here highly resolve that these dead shall not have died in vain — that this nation shall have a new birth of freedom and that government of the people, by the people, for the people, shall not perish from the earth',\n",
       " '']"
      ]
     },
     "execution_count": 112,
     "metadata": {},
     "output_type": "execute_result"
    }
   ],
   "source": [
    "sentences"
   ]
  },
  {
   "cell_type": "code",
   "execution_count": 113,
   "metadata": {},
   "outputs": [],
   "source": [
    "# Return Space\n",
    "sentences2 = []\n",
    "for sentence in sentences:\n",
    "    sentences2.append(sentence.rstrip())"
   ]
  },
  {
   "cell_type": "code",
   "execution_count": 114,
   "metadata": {},
   "outputs": [
    {
     "data": {
      "text/plain": [
       "['Fourscore and seven years ago our fathers brought forth on this continent a new nation, conceived in liberty and dedicated to the proposition that all men are created equal',\n",
       " '\\n\\nNow we are engaged in a great civil war, testing whether that nation, or any nation so conceived and so dedicated, can long endure',\n",
       " ' We are met on a great battlefield of that war',\n",
       " ' We have come to dedicate a portion of that field as a final resting-place for those who here gave their lives that that nation might live',\n",
       " ' It is altogether fitting and proper that we should do this',\n",
       " ' But, in a larger sense, we cannot dedicate — we cannot consecrate — we cannot hallow — this ground',\n",
       " ' The brave men, living and dead, who struggled here have consecrated it, far above our poor power to add or detract',\n",
       " ' The world will little note, nor long remember what we say here, but it can never forget what they did here',\n",
       " ' It is for us the living, rather, to be dedicated here to the unfinished work which they who fought here have thus far so nobly advanced',\n",
       " ' It is rather for us to be here dedicated to the great task remaining before us — that from these honored dead we take increased devotion to that cause for which they gave the last full measure of devotion — that we here highly resolve that these dead shall not have died in vain — that this nation shall have a new birth of freedom and that government of the people, by the people, for the people, shall not perish from the earth',\n",
       " '']"
      ]
     },
     "execution_count": 114,
     "metadata": {},
     "output_type": "execute_result"
    }
   ],
   "source": [
    "sentences2"
   ]
  },
  {
   "cell_type": "code",
   "execution_count": 115,
   "metadata": {},
   "outputs": [],
   "source": [
    "# Whitespace\n",
    "sentences3 = []\n",
    "for sentence in sentences2:\n",
    "    sentences3.append(sentence.strip())"
   ]
  },
  {
   "cell_type": "code",
   "execution_count": 116,
   "metadata": {},
   "outputs": [],
   "source": [
    "# Empty strings\n",
    "sentences4 = []\n",
    "for sentence in sentences3:\n",
    "    if len(sentence) >0:\n",
    "        sentences4.append(sentence)"
   ]
  },
  {
   "cell_type": "code",
   "execution_count": 117,
   "metadata": {},
   "outputs": [],
   "source": [
    "sentences = sentences4"
   ]
  },
  {
   "cell_type": "markdown",
   "metadata": {},
   "source": [
    "*sentences 4 should be used in the final step"
   ]
  },
  {
   "cell_type": "markdown",
   "metadata": {},
   "source": [
    "### Text Preprocessing"
   ]
  },
  {
   "cell_type": "code",
   "execution_count": 118,
   "metadata": {},
   "outputs": [],
   "source": [
    "import string\n",
    "nopunc = string.punctuation"
   ]
  },
  {
   "cell_type": "code",
   "execution_count": 119,
   "metadata": {},
   "outputs": [],
   "source": [
    "# Remove punctuation\n",
    "sentencesA = []\n",
    "for sentence in sentences:\n",
    "    temp = \"\"\n",
    "    for char in sentence:\n",
    "        if char not in nopunc:\n",
    "            if char != \"-\": # toggle\n",
    "                temp += char\n",
    "    sentencesA.append(temp)"
   ]
  },
  {
   "cell_type": "code",
   "execution_count": 120,
   "metadata": {},
   "outputs": [],
   "source": [
    "# Lowercase\n",
    "sentencesB = []\n",
    "for sentence in sentencesA:\n",
    "    sentencesB.append(sentence.lower())"
   ]
  },
  {
   "cell_type": "code",
   "execution_count": 121,
   "metadata": {},
   "outputs": [],
   "source": [
    "sentences = sentencesB"
   ]
  },
  {
   "cell_type": "markdown",
   "metadata": {},
   "source": [
    "### Tokenizing the Sentences"
   ]
  },
  {
   "cell_type": "code",
   "execution_count": 122,
   "metadata": {},
   "outputs": [],
   "source": [
    "words = []"
   ]
  },
  {
   "cell_type": "code",
   "execution_count": 123,
   "metadata": {},
   "outputs": [],
   "source": [
    "from nltk.corpus import stopwords"
   ]
  },
  {
   "cell_type": "code",
   "execution_count": 124,
   "metadata": {},
   "outputs": [],
   "source": [
    "for sentence in sentences:\n",
    "    temp = sentence.split()\n",
    "    for word in temp:\n",
    "        if word not in stopwords.words('english'):\n",
    "            words.append(word)"
   ]
  },
  {
   "cell_type": "code",
   "execution_count": 125,
   "metadata": {},
   "outputs": [
    {
     "data": {
      "text/plain": [
       "['fourscore',\n",
       " 'seven',\n",
       " 'years',\n",
       " 'ago',\n",
       " 'fathers',\n",
       " 'brought',\n",
       " 'forth',\n",
       " 'continent',\n",
       " 'new',\n",
       " 'nation',\n",
       " 'conceived',\n",
       " 'liberty',\n",
       " 'dedicated',\n",
       " 'proposition',\n",
       " 'men',\n",
       " 'created',\n",
       " 'equal',\n",
       " 'engaged',\n",
       " 'great',\n",
       " 'civil',\n",
       " 'war',\n",
       " 'testing',\n",
       " 'whether',\n",
       " 'nation',\n",
       " 'nation',\n",
       " 'conceived',\n",
       " 'dedicated',\n",
       " 'long',\n",
       " 'endure',\n",
       " 'met',\n",
       " 'great',\n",
       " 'battlefield',\n",
       " 'war',\n",
       " 'come',\n",
       " 'dedicate',\n",
       " 'portion',\n",
       " 'field',\n",
       " 'final',\n",
       " 'restingplace',\n",
       " 'gave',\n",
       " 'lives',\n",
       " 'nation',\n",
       " 'might',\n",
       " 'live',\n",
       " 'altogether',\n",
       " 'fitting',\n",
       " 'proper',\n",
       " 'larger',\n",
       " 'sense',\n",
       " 'cannot',\n",
       " 'dedicate',\n",
       " '—',\n",
       " 'cannot',\n",
       " 'consecrate',\n",
       " '—',\n",
       " 'cannot',\n",
       " 'hallow',\n",
       " '—',\n",
       " 'ground',\n",
       " 'brave',\n",
       " 'men',\n",
       " 'living',\n",
       " 'dead',\n",
       " 'struggled',\n",
       " 'consecrated',\n",
       " 'far',\n",
       " 'poor',\n",
       " 'power',\n",
       " 'add',\n",
       " 'detract',\n",
       " 'world',\n",
       " 'little',\n",
       " 'note',\n",
       " 'long',\n",
       " 'remember',\n",
       " 'say',\n",
       " 'never',\n",
       " 'forget',\n",
       " 'us',\n",
       " 'living',\n",
       " 'rather',\n",
       " 'dedicated',\n",
       " 'unfinished',\n",
       " 'work',\n",
       " 'fought',\n",
       " 'thus',\n",
       " 'far',\n",
       " 'nobly',\n",
       " 'advanced',\n",
       " 'rather',\n",
       " 'us',\n",
       " 'dedicated',\n",
       " 'great',\n",
       " 'task',\n",
       " 'remaining',\n",
       " 'us',\n",
       " '—',\n",
       " 'honored',\n",
       " 'dead',\n",
       " 'take',\n",
       " 'increased',\n",
       " 'devotion',\n",
       " 'cause',\n",
       " 'gave',\n",
       " 'last',\n",
       " 'full',\n",
       " 'measure',\n",
       " 'devotion',\n",
       " '—',\n",
       " 'highly',\n",
       " 'resolve',\n",
       " 'dead',\n",
       " 'shall',\n",
       " 'died',\n",
       " 'vain',\n",
       " '—',\n",
       " 'nation',\n",
       " 'shall',\n",
       " 'new',\n",
       " 'birth',\n",
       " 'freedom',\n",
       " 'government',\n",
       " 'people',\n",
       " 'people',\n",
       " 'people',\n",
       " 'shall',\n",
       " 'perish',\n",
       " 'earth']"
      ]
     },
     "execution_count": 125,
     "metadata": {},
     "output_type": "execute_result"
    }
   ],
   "source": [
    "words"
   ]
  },
  {
   "cell_type": "markdown",
   "metadata": {},
   "source": [
    "### Find Weighted Frequency of Occurrence"
   ]
  },
  {
   "cell_type": "code",
   "execution_count": 126,
   "metadata": {},
   "outputs": [],
   "source": [
    "import pandas as pd"
   ]
  },
  {
   "cell_type": "code",
   "execution_count": 127,
   "metadata": {},
   "outputs": [],
   "source": [
    "freqDict = {}\n",
    "for word in words:\n",
    "    if word not in freqDict:\n",
    "        freqDict[word] = 0\n",
    "    else:\n",
    "        freqDict[word] += 1\n",
    "        "
   ]
  },
  {
   "cell_type": "code",
   "execution_count": 128,
   "metadata": {},
   "outputs": [],
   "source": [
    "setWords = set(words)\n",
    "setWordsList = list(setWords)"
   ]
  },
  {
   "cell_type": "code",
   "execution_count": 129,
   "metadata": {},
   "outputs": [],
   "source": [
    "# Word Frequency DF\n",
    "df = pd.DataFrame(data=[[i, freqDict[i]] for i in setWordsList ], columns=[\"Word\",\"Freq\"])"
   ]
  },
  {
   "cell_type": "code",
   "execution_count": 130,
   "metadata": {},
   "outputs": [
    {
     "data": {
      "text/html": [
       "<div>\n",
       "<style scoped>\n",
       "    .dataframe tbody tr th:only-of-type {\n",
       "        vertical-align: middle;\n",
       "    }\n",
       "\n",
       "    .dataframe tbody tr th {\n",
       "        vertical-align: top;\n",
       "    }\n",
       "\n",
       "    .dataframe thead th {\n",
       "        text-align: right;\n",
       "    }\n",
       "</style>\n",
       "<table border=\"1\" class=\"dataframe\">\n",
       "  <thead>\n",
       "    <tr style=\"text-align: right;\">\n",
       "      <th></th>\n",
       "      <th>Word</th>\n",
       "      <th>Freq</th>\n",
       "    </tr>\n",
       "  </thead>\n",
       "  <tbody>\n",
       "    <tr>\n",
       "      <th>0</th>\n",
       "      <td>power</td>\n",
       "      <td>0</td>\n",
       "    </tr>\n",
       "    <tr>\n",
       "      <th>1</th>\n",
       "      <td>fathers</td>\n",
       "      <td>0</td>\n",
       "    </tr>\n",
       "    <tr>\n",
       "      <th>2</th>\n",
       "      <td>remember</td>\n",
       "      <td>0</td>\n",
       "    </tr>\n",
       "    <tr>\n",
       "      <th>3</th>\n",
       "      <td>unfinished</td>\n",
       "      <td>0</td>\n",
       "    </tr>\n",
       "    <tr>\n",
       "      <th>4</th>\n",
       "      <td>field</td>\n",
       "      <td>0</td>\n",
       "    </tr>\n",
       "  </tbody>\n",
       "</table>\n",
       "</div>"
      ],
      "text/plain": [
       "         Word  Freq\n",
       "0       power     0\n",
       "1     fathers     0\n",
       "2    remember     0\n",
       "3  unfinished     0\n",
       "4       field     0"
      ]
     },
     "execution_count": 130,
     "metadata": {},
     "output_type": "execute_result"
    }
   ],
   "source": [
    "df.head()"
   ]
  },
  {
   "cell_type": "code",
   "execution_count": 131,
   "metadata": {},
   "outputs": [],
   "source": [
    "df.sort_values(by=\"Freq\",ascending=False, inplace=True)"
   ]
  },
  {
   "cell_type": "code",
   "execution_count": 132,
   "metadata": {},
   "outputs": [
    {
     "data": {
      "text/html": [
       "<div>\n",
       "<style scoped>\n",
       "    .dataframe tbody tr th:only-of-type {\n",
       "        vertical-align: middle;\n",
       "    }\n",
       "\n",
       "    .dataframe tbody tr th {\n",
       "        vertical-align: top;\n",
       "    }\n",
       "\n",
       "    .dataframe thead th {\n",
       "        text-align: right;\n",
       "    }\n",
       "</style>\n",
       "<table border=\"1\" class=\"dataframe\">\n",
       "  <thead>\n",
       "    <tr style=\"text-align: right;\">\n",
       "      <th></th>\n",
       "      <th>Word</th>\n",
       "      <th>Freq</th>\n",
       "    </tr>\n",
       "  </thead>\n",
       "  <tbody>\n",
       "    <tr>\n",
       "      <th>65</th>\n",
       "      <td>—</td>\n",
       "      <td>5</td>\n",
       "    </tr>\n",
       "    <tr>\n",
       "      <th>28</th>\n",
       "      <td>nation</td>\n",
       "      <td>4</td>\n",
       "    </tr>\n",
       "    <tr>\n",
       "      <th>24</th>\n",
       "      <td>dedicated</td>\n",
       "      <td>3</td>\n",
       "    </tr>\n",
       "    <tr>\n",
       "      <th>14</th>\n",
       "      <td>shall</td>\n",
       "      <td>2</td>\n",
       "    </tr>\n",
       "    <tr>\n",
       "      <th>49</th>\n",
       "      <td>dead</td>\n",
       "      <td>2</td>\n",
       "    </tr>\n",
       "    <tr>\n",
       "      <th>...</th>\n",
       "      <td>...</td>\n",
       "      <td>...</td>\n",
       "    </tr>\n",
       "    <tr>\n",
       "      <th>31</th>\n",
       "      <td>seven</td>\n",
       "      <td>0</td>\n",
       "    </tr>\n",
       "    <tr>\n",
       "      <th>30</th>\n",
       "      <td>last</td>\n",
       "      <td>0</td>\n",
       "    </tr>\n",
       "    <tr>\n",
       "      <th>29</th>\n",
       "      <td>brave</td>\n",
       "      <td>0</td>\n",
       "    </tr>\n",
       "    <tr>\n",
       "      <th>27</th>\n",
       "      <td>fought</td>\n",
       "      <td>0</td>\n",
       "    </tr>\n",
       "    <tr>\n",
       "      <th>92</th>\n",
       "      <td>resolve</td>\n",
       "      <td>0</td>\n",
       "    </tr>\n",
       "  </tbody>\n",
       "</table>\n",
       "<p>93 rows × 2 columns</p>\n",
       "</div>"
      ],
      "text/plain": [
       "         Word  Freq\n",
       "65          —     5\n",
       "28     nation     4\n",
       "24  dedicated     3\n",
       "14      shall     2\n",
       "49       dead     2\n",
       "..        ...   ...\n",
       "31      seven     0\n",
       "30       last     0\n",
       "29      brave     0\n",
       "27     fought     0\n",
       "92    resolve     0\n",
       "\n",
       "[93 rows x 2 columns]"
      ]
     },
     "execution_count": 132,
     "metadata": {},
     "output_type": "execute_result"
    }
   ],
   "source": [
    "df"
   ]
  },
  {
   "cell_type": "code",
   "execution_count": 133,
   "metadata": {},
   "outputs": [],
   "source": [
    "df['wFreq'] = df['Freq'].apply(lambda x: x/5)"
   ]
  },
  {
   "cell_type": "code",
   "execution_count": 134,
   "metadata": {},
   "outputs": [
    {
     "data": {
      "text/html": [
       "<div>\n",
       "<style scoped>\n",
       "    .dataframe tbody tr th:only-of-type {\n",
       "        vertical-align: middle;\n",
       "    }\n",
       "\n",
       "    .dataframe tbody tr th {\n",
       "        vertical-align: top;\n",
       "    }\n",
       "\n",
       "    .dataframe thead th {\n",
       "        text-align: right;\n",
       "    }\n",
       "</style>\n",
       "<table border=\"1\" class=\"dataframe\">\n",
       "  <thead>\n",
       "    <tr style=\"text-align: right;\">\n",
       "      <th></th>\n",
       "      <th>Word</th>\n",
       "      <th>Freq</th>\n",
       "      <th>wFreq</th>\n",
       "    </tr>\n",
       "  </thead>\n",
       "  <tbody>\n",
       "    <tr>\n",
       "      <th>65</th>\n",
       "      <td>—</td>\n",
       "      <td>5</td>\n",
       "      <td>1.0</td>\n",
       "    </tr>\n",
       "    <tr>\n",
       "      <th>28</th>\n",
       "      <td>nation</td>\n",
       "      <td>4</td>\n",
       "      <td>0.8</td>\n",
       "    </tr>\n",
       "    <tr>\n",
       "      <th>24</th>\n",
       "      <td>dedicated</td>\n",
       "      <td>3</td>\n",
       "      <td>0.6</td>\n",
       "    </tr>\n",
       "    <tr>\n",
       "      <th>14</th>\n",
       "      <td>shall</td>\n",
       "      <td>2</td>\n",
       "      <td>0.4</td>\n",
       "    </tr>\n",
       "    <tr>\n",
       "      <th>49</th>\n",
       "      <td>dead</td>\n",
       "      <td>2</td>\n",
       "      <td>0.4</td>\n",
       "    </tr>\n",
       "  </tbody>\n",
       "</table>\n",
       "</div>"
      ],
      "text/plain": [
       "         Word  Freq  wFreq\n",
       "65          —     5    1.0\n",
       "28     nation     4    0.8\n",
       "24  dedicated     3    0.6\n",
       "14      shall     2    0.4\n",
       "49       dead     2    0.4"
      ]
     },
     "execution_count": 134,
     "metadata": {},
     "output_type": "execute_result"
    }
   ],
   "source": [
    "df.head()"
   ]
  },
  {
   "cell_type": "code",
   "execution_count": 135,
   "metadata": {},
   "outputs": [],
   "source": [
    "# # # # # # # #   # # # # # # # # # # # # #  # # # # # # # # # # try this with no stopwords"
   ]
  },
  {
   "cell_type": "markdown",
   "metadata": {},
   "source": [
    "### Replace Words by Weighted Frequency in Original Sentences"
   ]
  },
  {
   "cell_type": "code",
   "execution_count": 136,
   "metadata": {},
   "outputs": [],
   "source": [
    "# sum of weighted frequencies\n",
    "swf = []"
   ]
  },
  {
   "cell_type": "code",
   "execution_count": 137,
   "metadata": {},
   "outputs": [],
   "source": [
    "swfDict = {}\n",
    "wordArray = df['Word']\n",
    "wFreq = df['wFreq']"
   ]
  },
  {
   "cell_type": "code",
   "execution_count": 138,
   "metadata": {},
   "outputs": [],
   "source": [
    "for i in range(len(wordArray)):\n",
    "    swfDict[wordArray[i]] = wFreq[i]"
   ]
  },
  {
   "cell_type": "code",
   "execution_count": 139,
   "metadata": {},
   "outputs": [],
   "source": [
    "swfList = [ ]"
   ]
  },
  {
   "cell_type": "code",
   "execution_count": 140,
   "metadata": {},
   "outputs": [],
   "source": [
    "for sentence in sentences:\n",
    "    temp = sentence.split()\n",
    "    score = 0\n",
    "    for i in temp:\n",
    "        if i in swfDict:\n",
    "            score += swfDict[i]\n",
    "    swfList.append(score)\n",
    "            \n",
    "            "
   ]
  },
  {
   "cell_type": "code",
   "execution_count": 141,
   "metadata": {},
   "outputs": [],
   "source": [
    "# Scores Sentences DF (using sentences4)\n",
    "df2 = pd.DataFrame(data=[[sentences4[i], swfList[i]] for i in range(len(swfList)) ], columns=[\"Sentence\",\"Score\"])"
   ]
  },
  {
   "cell_type": "code",
   "execution_count": 142,
   "metadata": {},
   "outputs": [],
   "source": [
    "df2.sort_values(by=\"Score\",ascending=False, inplace=True)"
   ]
  },
  {
   "cell_type": "code",
   "execution_count": 151,
   "metadata": {},
   "outputs": [],
   "source": [
    "df2.reset_index(drop=True, inplace=True)"
   ]
  },
  {
   "cell_type": "code",
   "execution_count": 155,
   "metadata": {},
   "outputs": [
    {
     "name": "stdout",
     "output_type": "stream",
     "text": [
      " It is rather for us to be here dedicated to the great task remaining before us — that from these honored dead we take increased devotion to that cause for which they gave the last full measure of devotion — that we here highly resolve that these dead shall not have died in vain — that this nation shall have a new birth of freedom and that government of the people, by the people, for the people, shall not perish from the earth.\n",
      " But, in a larger sense, we cannot dedicate — we cannot consecrate — we cannot hallow — this ground.\n"
     ]
    }
   ],
   "source": [
    "for i in df2['Sentence'].head(2):\n",
    "    print(\" \" + i + \".\")"
   ]
  },
  {
   "cell_type": "code",
   "execution_count": 158,
   "metadata": {},
   "outputs": [],
   "source": [
    "def numLines(num):\n",
    "    temp = \"\"\n",
    "    for i in df2['Sentence'].head(num):\n",
    "        temp += i\n",
    "        temp += \".\"\n",
    "        temp += \" \"\n",
    "    \n",
    "    print(temp)"
   ]
  },
  {
   "cell_type": "code",
   "execution_count": 159,
   "metadata": {},
   "outputs": [
    {
     "name": "stdout",
     "output_type": "stream",
     "text": [
      "It is rather for us to be here dedicated to the great task remaining before us — that from these honored dead we take increased devotion to that cause for which they gave the last full measure of devotion — that we here highly resolve that these dead shall not have died in vain — that this nation shall have a new birth of freedom and that government of the people, by the people, for the people, shall not perish from the earth. But, in a larger sense, we cannot dedicate — we cannot consecrate — we cannot hallow — this ground. \n"
     ]
    }
   ],
   "source": [
    "numLines(2)"
   ]
  },
  {
   "cell_type": "markdown",
   "metadata": {},
   "source": [
    "### Conclusion"
   ]
  },
  {
   "cell_type": "markdown",
   "metadata": {},
   "source": [
    "And know we have a function numLines() that allows us to summarize Abraham Lincolns famous Gettysburg Address."
   ]
  }
 ],
 "metadata": {
  "kernelspec": {
   "display_name": "Python 3",
   "language": "python",
   "name": "python3"
  },
  "language_info": {
   "codemirror_mode": {
    "name": "ipython",
    "version": 3
   },
   "file_extension": ".py",
   "mimetype": "text/x-python",
   "name": "python",
   "nbconvert_exporter": "python",
   "pygments_lexer": "ipython3",
   "version": "3.7.6"
  }
 },
 "nbformat": 4,
 "nbformat_minor": 4
}

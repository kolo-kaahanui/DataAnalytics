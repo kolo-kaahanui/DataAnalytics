{
 "cells": [
  {
   "cell_type": "markdown",
   "metadata": {},
   "source": [
    "# Text Summarization Project"
   ]
  },
  {
   "cell_type": "markdown",
   "metadata": {},
   "source": [
    "As outlined in this walkthrough: https://stackabuse.com/text-summarization-with-nltk-in-python/"
   ]
  },
  {
   "cell_type": "markdown",
   "metadata": {},
   "source": [
    "### Convert Paragraphs to Sentences"
   ]
  },
  {
   "cell_type": "code",
   "execution_count": 150,
   "metadata": {},
   "outputs": [],
   "source": [
    "someText = open('gettysbergAddress.txt','r',encoding=\"UTF-8\")"
   ]
  },
  {
   "cell_type": "code",
   "execution_count": 151,
   "metadata": {},
   "outputs": [],
   "source": [
    "someText = someText.read()"
   ]
  },
  {
   "cell_type": "code",
   "execution_count": 152,
   "metadata": {},
   "outputs": [
    {
     "name": "stdout",
     "output_type": "stream",
     "text": [
      "Fourscore and seven years ago our fathers brought forth on this continent a new nation, conceived in liberty and dedicated to the proposition that all men are created equal.\n",
      "\n",
      "Now we are engaged in a great civil war, testing whether that nation, or any nation so conceived and so dedicated, can long endure. We are met on a great battlefield of that war. We have come to dedicate a portion of that field as a final resting-place for those who here gave their lives that that nation might live. It is altogether fitting and proper that we should do this. But, in a larger sense, we cannot dedicate — we cannot consecrate — we cannot hallow — this ground. The brave men, living and dead, who struggled here have consecrated it, far above our poor power to add or detract. The world will little note, nor long remember what we say here, but it can never forget what they did here. It is for us the living, rather, to be dedicated here to the unfinished work which they who fought here have thus far so nobly advanced. It is rather for us to be here dedicated to the great task remaining before us — that from these honored dead we take increased devotion to that cause for which they gave the last full measure of devotion — that we here highly resolve that these dead shall not have died in vain — that this nation shall have a new birth of freedom and that government of the people, by the people, for the people, shall not perish from the earth.\n"
     ]
    }
   ],
   "source": [
    "print(someText)"
   ]
  },
  {
   "cell_type": "code",
   "execution_count": 153,
   "metadata": {},
   "outputs": [],
   "source": [
    "# We have to split on \"—\" and \".\"\n",
    "someText2 = \"\"\n",
    "for char in someText:\n",
    "    if char == '—':\n",
    "        someText2 += \".\" # replace \"—\" with \".\" so we can call split once\n",
    "    else:\n",
    "        someText2 += char\n",
    "        \n",
    "sentences = someText2.split(\".\")"
   ]
  },
  {
   "cell_type": "code",
   "execution_count": 154,
   "metadata": {},
   "outputs": [],
   "source": [
    "sentences = someText2.split(\".\")"
   ]
  },
  {
   "cell_type": "code",
   "execution_count": 155,
   "metadata": {},
   "outputs": [],
   "source": [
    "# Return Space\n",
    "sentences2 = []\n",
    "for sentence in sentences:\n",
    "    sentences2.append(sentence.rstrip())"
   ]
  },
  {
   "cell_type": "code",
   "execution_count": 156,
   "metadata": {},
   "outputs": [
    {
     "data": {
      "text/plain": [
       "['Fourscore and seven years ago our fathers brought forth on this continent a new nation, conceived in liberty and dedicated to the proposition that all men are created equal',\n",
       " '\\n\\nNow we are engaged in a great civil war, testing whether that nation, or any nation so conceived and so dedicated, can long endure',\n",
       " ' We are met on a great battlefield of that war',\n",
       " ' We have come to dedicate a portion of that field as a final resting-place for those who here gave their lives that that nation might live',\n",
       " ' It is altogether fitting and proper that we should do this',\n",
       " ' But, in a larger sense, we cannot dedicate',\n",
       " ' we cannot consecrate',\n",
       " ' we cannot hallow',\n",
       " ' this ground',\n",
       " ' The brave men, living and dead, who struggled here have consecrated it, far above our poor power to add or detract',\n",
       " ' The world will little note, nor long remember what we say here, but it can never forget what they did here',\n",
       " ' It is for us the living, rather, to be dedicated here to the unfinished work which they who fought here have thus far so nobly advanced',\n",
       " ' It is rather for us to be here dedicated to the great task remaining before us',\n",
       " ' that from these honored dead we take increased devotion to that cause for which they gave the last full measure of devotion',\n",
       " ' that we here highly resolve that these dead shall not have died in vain',\n",
       " ' that this nation shall have a new birth of freedom and that government of the people, by the people, for the people, shall not perish from the earth',\n",
       " '']"
      ]
     },
     "execution_count": 156,
     "metadata": {},
     "output_type": "execute_result"
    }
   ],
   "source": [
    "sentences2"
   ]
  },
  {
   "cell_type": "markdown",
   "metadata": {},
   "source": [
    "### Text Preprocessing"
   ]
  },
  {
   "cell_type": "code",
   "execution_count": 157,
   "metadata": {},
   "outputs": [],
   "source": [
    "# Whitespace\n",
    "sentences3 = []\n",
    "for sentence in sentences2:\n",
    "    sentences3.append(sentence.strip())"
   ]
  },
  {
   "cell_type": "code",
   "execution_count": 158,
   "metadata": {},
   "outputs": [],
   "source": [
    "# Empty strings\n",
    "sentences4 = []\n",
    "for sentence in sentences3:\n",
    "    if len(sentence) >0:\n",
    "        sentences4.append(sentence)"
   ]
  },
  {
   "cell_type": "code",
   "execution_count": 159,
   "metadata": {},
   "outputs": [],
   "source": [
    "sentencesLater = [sentence.capitalize() for sentence in sentences4] # sentencesLater will be used in a later step\n",
    "sentences = sentences4\n"
   ]
  },
  {
   "cell_type": "markdown",
   "metadata": {},
   "source": [
    "Punctuation Removal"
   ]
  },
  {
   "cell_type": "code",
   "execution_count": 160,
   "metadata": {},
   "outputs": [],
   "source": [
    "import string\n",
    "nopunc = string.punctuation"
   ]
  },
  {
   "cell_type": "code",
   "execution_count": 161,
   "metadata": {},
   "outputs": [],
   "source": [
    "# Remove punctuation\n",
    "sentencesA = []\n",
    "for sentence in sentences:\n",
    "    temp = \"\"\n",
    "    for char in sentence:\n",
    "        if char not in nopunc:\n",
    "            if char != \"-\": # toggle\n",
    "                temp += char\n",
    "    sentencesA.append(temp)"
   ]
  },
  {
   "cell_type": "code",
   "execution_count": 162,
   "metadata": {},
   "outputs": [],
   "source": [
    "# Lowercase\n",
    "sentencesB = []\n",
    "for sentence in sentencesA:\n",
    "    sentencesB.append(sentence.lower())"
   ]
  },
  {
   "cell_type": "code",
   "execution_count": 163,
   "metadata": {},
   "outputs": [],
   "source": [
    "sentences = sentencesB"
   ]
  },
  {
   "cell_type": "markdown",
   "metadata": {},
   "source": [
    "### Tokenizing the Sentences"
   ]
  },
  {
   "cell_type": "markdown",
   "metadata": {},
   "source": [
    "Creating a list of meaningful words"
   ]
  },
  {
   "cell_type": "code",
   "execution_count": 164,
   "metadata": {},
   "outputs": [],
   "source": [
    "words = []"
   ]
  },
  {
   "cell_type": "code",
   "execution_count": 165,
   "metadata": {},
   "outputs": [],
   "source": [
    "from nltk.corpus import stopwords"
   ]
  },
  {
   "cell_type": "code",
   "execution_count": 166,
   "metadata": {},
   "outputs": [],
   "source": [
    "for sentence in sentences:\n",
    "    temp = sentence.split()\n",
    "    for word in temp:\n",
    "        if word not in stopwords.words('english'):\n",
    "            words.append(word)"
   ]
  },
  {
   "cell_type": "code",
   "execution_count": 167,
   "metadata": {},
   "outputs": [
    {
     "data": {
      "text/plain": [
       "['fourscore',\n",
       " 'seven',\n",
       " 'years',\n",
       " 'ago',\n",
       " 'fathers',\n",
       " 'brought',\n",
       " 'forth',\n",
       " 'continent',\n",
       " 'new',\n",
       " 'nation',\n",
       " 'conceived',\n",
       " 'liberty',\n",
       " 'dedicated',\n",
       " 'proposition',\n",
       " 'men',\n",
       " 'created',\n",
       " 'equal',\n",
       " 'engaged',\n",
       " 'great',\n",
       " 'civil',\n",
       " 'war',\n",
       " 'testing',\n",
       " 'whether',\n",
       " 'nation',\n",
       " 'nation',\n",
       " 'conceived',\n",
       " 'dedicated',\n",
       " 'long',\n",
       " 'endure',\n",
       " 'met',\n",
       " 'great',\n",
       " 'battlefield',\n",
       " 'war',\n",
       " 'come',\n",
       " 'dedicate',\n",
       " 'portion',\n",
       " 'field',\n",
       " 'final',\n",
       " 'restingplace',\n",
       " 'gave',\n",
       " 'lives',\n",
       " 'nation',\n",
       " 'might',\n",
       " 'live',\n",
       " 'altogether',\n",
       " 'fitting',\n",
       " 'proper',\n",
       " 'larger',\n",
       " 'sense',\n",
       " 'cannot',\n",
       " 'dedicate',\n",
       " 'cannot',\n",
       " 'consecrate',\n",
       " 'cannot',\n",
       " 'hallow',\n",
       " 'ground',\n",
       " 'brave',\n",
       " 'men',\n",
       " 'living',\n",
       " 'dead',\n",
       " 'struggled',\n",
       " 'consecrated',\n",
       " 'far',\n",
       " 'poor',\n",
       " 'power',\n",
       " 'add',\n",
       " 'detract',\n",
       " 'world',\n",
       " 'little',\n",
       " 'note',\n",
       " 'long',\n",
       " 'remember',\n",
       " 'say',\n",
       " 'never',\n",
       " 'forget',\n",
       " 'us',\n",
       " 'living',\n",
       " 'rather',\n",
       " 'dedicated',\n",
       " 'unfinished',\n",
       " 'work',\n",
       " 'fought',\n",
       " 'thus',\n",
       " 'far',\n",
       " 'nobly',\n",
       " 'advanced',\n",
       " 'rather',\n",
       " 'us',\n",
       " 'dedicated',\n",
       " 'great',\n",
       " 'task',\n",
       " 'remaining',\n",
       " 'us',\n",
       " 'honored',\n",
       " 'dead',\n",
       " 'take',\n",
       " 'increased',\n",
       " 'devotion',\n",
       " 'cause',\n",
       " 'gave',\n",
       " 'last',\n",
       " 'full',\n",
       " 'measure',\n",
       " 'devotion',\n",
       " 'highly',\n",
       " 'resolve',\n",
       " 'dead',\n",
       " 'shall',\n",
       " 'died',\n",
       " 'vain',\n",
       " 'nation',\n",
       " 'shall',\n",
       " 'new',\n",
       " 'birth',\n",
       " 'freedom',\n",
       " 'government',\n",
       " 'people',\n",
       " 'people',\n",
       " 'people',\n",
       " 'shall',\n",
       " 'perish',\n",
       " 'earth']"
      ]
     },
     "execution_count": 167,
     "metadata": {},
     "output_type": "execute_result"
    }
   ],
   "source": [
    "words"
   ]
  },
  {
   "cell_type": "markdown",
   "metadata": {},
   "source": [
    "### Find Weighted Frequency of Occurrence"
   ]
  },
  {
   "cell_type": "markdown",
   "metadata": {},
   "source": [
    "Finding the weight of words relative to the complete text"
   ]
  },
  {
   "cell_type": "code",
   "execution_count": 168,
   "metadata": {},
   "outputs": [],
   "source": [
    "import pandas as pd"
   ]
  },
  {
   "cell_type": "code",
   "execution_count": 169,
   "metadata": {},
   "outputs": [],
   "source": [
    "freqDict = {}\n",
    "for word in words:\n",
    "    if word not in freqDict:\n",
    "        freqDict[word] = 0\n",
    "    else:\n",
    "        freqDict[word] += 1\n",
    "        "
   ]
  },
  {
   "cell_type": "code",
   "execution_count": 170,
   "metadata": {},
   "outputs": [],
   "source": [
    "setWords = set(words)\n",
    "setWordsList = list(setWords)"
   ]
  },
  {
   "cell_type": "code",
   "execution_count": 171,
   "metadata": {},
   "outputs": [],
   "source": [
    "# Word Frequency DF\n",
    "df = pd.DataFrame(data=[[i, freqDict[i]] for i in setWordsList ], columns=[\"Word\",\"Freq\"])"
   ]
  },
  {
   "cell_type": "code",
   "execution_count": 172,
   "metadata": {},
   "outputs": [
    {
     "data": {
      "text/html": [
       "<div>\n",
       "<style scoped>\n",
       "    .dataframe tbody tr th:only-of-type {\n",
       "        vertical-align: middle;\n",
       "    }\n",
       "\n",
       "    .dataframe tbody tr th {\n",
       "        vertical-align: top;\n",
       "    }\n",
       "\n",
       "    .dataframe thead th {\n",
       "        text-align: right;\n",
       "    }\n",
       "</style>\n",
       "<table border=\"1\" class=\"dataframe\">\n",
       "  <thead>\n",
       "    <tr style=\"text-align: right;\">\n",
       "      <th></th>\n",
       "      <th>Word</th>\n",
       "      <th>Freq</th>\n",
       "    </tr>\n",
       "  </thead>\n",
       "  <tbody>\n",
       "    <tr>\n",
       "      <th>0</th>\n",
       "      <td>living</td>\n",
       "      <td>1</td>\n",
       "    </tr>\n",
       "    <tr>\n",
       "      <th>1</th>\n",
       "      <td>government</td>\n",
       "      <td>0</td>\n",
       "    </tr>\n",
       "    <tr>\n",
       "      <th>2</th>\n",
       "      <td>rather</td>\n",
       "      <td>1</td>\n",
       "    </tr>\n",
       "    <tr>\n",
       "      <th>3</th>\n",
       "      <td>birth</td>\n",
       "      <td>0</td>\n",
       "    </tr>\n",
       "    <tr>\n",
       "      <th>4</th>\n",
       "      <td>testing</td>\n",
       "      <td>0</td>\n",
       "    </tr>\n",
       "  </tbody>\n",
       "</table>\n",
       "</div>"
      ],
      "text/plain": [
       "         Word  Freq\n",
       "0      living     1\n",
       "1  government     0\n",
       "2      rather     1\n",
       "3       birth     0\n",
       "4     testing     0"
      ]
     },
     "execution_count": 172,
     "metadata": {},
     "output_type": "execute_result"
    }
   ],
   "source": [
    "df.head()"
   ]
  },
  {
   "cell_type": "code",
   "execution_count": 173,
   "metadata": {},
   "outputs": [],
   "source": [
    "df.sort_values(by=\"Freq\",ascending=False, inplace=True)"
   ]
  },
  {
   "cell_type": "code",
   "execution_count": 174,
   "metadata": {},
   "outputs": [
    {
     "data": {
      "text/html": [
       "<div>\n",
       "<style scoped>\n",
       "    .dataframe tbody tr th:only-of-type {\n",
       "        vertical-align: middle;\n",
       "    }\n",
       "\n",
       "    .dataframe tbody tr th {\n",
       "        vertical-align: top;\n",
       "    }\n",
       "\n",
       "    .dataframe thead th {\n",
       "        text-align: right;\n",
       "    }\n",
       "</style>\n",
       "<table border=\"1\" class=\"dataframe\">\n",
       "  <thead>\n",
       "    <tr style=\"text-align: right;\">\n",
       "      <th></th>\n",
       "      <th>Word</th>\n",
       "      <th>Freq</th>\n",
       "    </tr>\n",
       "  </thead>\n",
       "  <tbody>\n",
       "    <tr>\n",
       "      <th>26</th>\n",
       "      <td>nation</td>\n",
       "      <td>4</td>\n",
       "    </tr>\n",
       "    <tr>\n",
       "      <th>63</th>\n",
       "      <td>dedicated</td>\n",
       "      <td>3</td>\n",
       "    </tr>\n",
       "    <tr>\n",
       "      <th>47</th>\n",
       "      <td>cannot</td>\n",
       "      <td>2</td>\n",
       "    </tr>\n",
       "    <tr>\n",
       "      <th>58</th>\n",
       "      <td>great</td>\n",
       "      <td>2</td>\n",
       "    </tr>\n",
       "    <tr>\n",
       "      <th>37</th>\n",
       "      <td>dead</td>\n",
       "      <td>2</td>\n",
       "    </tr>\n",
       "    <tr>\n",
       "      <th>...</th>\n",
       "      <td>...</td>\n",
       "      <td>...</td>\n",
       "    </tr>\n",
       "    <tr>\n",
       "      <th>33</th>\n",
       "      <td>world</td>\n",
       "      <td>0</td>\n",
       "    </tr>\n",
       "    <tr>\n",
       "      <th>32</th>\n",
       "      <td>fourscore</td>\n",
       "      <td>0</td>\n",
       "    </tr>\n",
       "    <tr>\n",
       "      <th>31</th>\n",
       "      <td>fathers</td>\n",
       "      <td>0</td>\n",
       "    </tr>\n",
       "    <tr>\n",
       "      <th>30</th>\n",
       "      <td>power</td>\n",
       "      <td>0</td>\n",
       "    </tr>\n",
       "    <tr>\n",
       "      <th>91</th>\n",
       "      <td>nobly</td>\n",
       "      <td>0</td>\n",
       "    </tr>\n",
       "  </tbody>\n",
       "</table>\n",
       "<p>92 rows × 2 columns</p>\n",
       "</div>"
      ],
      "text/plain": [
       "         Word  Freq\n",
       "26     nation     4\n",
       "63  dedicated     3\n",
       "47     cannot     2\n",
       "58      great     2\n",
       "37       dead     2\n",
       "..        ...   ...\n",
       "33      world     0\n",
       "32  fourscore     0\n",
       "31    fathers     0\n",
       "30      power     0\n",
       "91      nobly     0\n",
       "\n",
       "[92 rows x 2 columns]"
      ]
     },
     "execution_count": 174,
     "metadata": {},
     "output_type": "execute_result"
    }
   ],
   "source": [
    "df"
   ]
  },
  {
   "cell_type": "code",
   "execution_count": 175,
   "metadata": {},
   "outputs": [],
   "source": [
    "df['wFreq'] = df['Freq'].apply(lambda x: x/5)"
   ]
  },
  {
   "cell_type": "code",
   "execution_count": 176,
   "metadata": {},
   "outputs": [
    {
     "data": {
      "text/html": [
       "<div>\n",
       "<style scoped>\n",
       "    .dataframe tbody tr th:only-of-type {\n",
       "        vertical-align: middle;\n",
       "    }\n",
       "\n",
       "    .dataframe tbody tr th {\n",
       "        vertical-align: top;\n",
       "    }\n",
       "\n",
       "    .dataframe thead th {\n",
       "        text-align: right;\n",
       "    }\n",
       "</style>\n",
       "<table border=\"1\" class=\"dataframe\">\n",
       "  <thead>\n",
       "    <tr style=\"text-align: right;\">\n",
       "      <th></th>\n",
       "      <th>Word</th>\n",
       "      <th>Freq</th>\n",
       "      <th>wFreq</th>\n",
       "    </tr>\n",
       "  </thead>\n",
       "  <tbody>\n",
       "    <tr>\n",
       "      <th>26</th>\n",
       "      <td>nation</td>\n",
       "      <td>4</td>\n",
       "      <td>0.8</td>\n",
       "    </tr>\n",
       "    <tr>\n",
       "      <th>63</th>\n",
       "      <td>dedicated</td>\n",
       "      <td>3</td>\n",
       "      <td>0.6</td>\n",
       "    </tr>\n",
       "    <tr>\n",
       "      <th>47</th>\n",
       "      <td>cannot</td>\n",
       "      <td>2</td>\n",
       "      <td>0.4</td>\n",
       "    </tr>\n",
       "    <tr>\n",
       "      <th>58</th>\n",
       "      <td>great</td>\n",
       "      <td>2</td>\n",
       "      <td>0.4</td>\n",
       "    </tr>\n",
       "    <tr>\n",
       "      <th>37</th>\n",
       "      <td>dead</td>\n",
       "      <td>2</td>\n",
       "      <td>0.4</td>\n",
       "    </tr>\n",
       "  </tbody>\n",
       "</table>\n",
       "</div>"
      ],
      "text/plain": [
       "         Word  Freq  wFreq\n",
       "26     nation     4    0.8\n",
       "63  dedicated     3    0.6\n",
       "47     cannot     2    0.4\n",
       "58      great     2    0.4\n",
       "37       dead     2    0.4"
      ]
     },
     "execution_count": 176,
     "metadata": {},
     "output_type": "execute_result"
    }
   ],
   "source": [
    "df.head()"
   ]
  },
  {
   "cell_type": "markdown",
   "metadata": {},
   "source": [
    "### Replace Words by Weighted Frequency in Original Sentences"
   ]
  },
  {
   "cell_type": "markdown",
   "metadata": {},
   "source": [
    "Giving weight to sentences based on their word composition relative to the corpus"
   ]
  },
  {
   "cell_type": "code",
   "execution_count": 177,
   "metadata": {},
   "outputs": [],
   "source": [
    "# sum of weighted frequencies\n",
    "swf = []"
   ]
  },
  {
   "cell_type": "code",
   "execution_count": 178,
   "metadata": {},
   "outputs": [],
   "source": [
    "swfDict = {}\n",
    "wordArray = df['Word']\n",
    "wFreq = df['wFreq']"
   ]
  },
  {
   "cell_type": "code",
   "execution_count": 179,
   "metadata": {},
   "outputs": [],
   "source": [
    "for i in range(len(wordArray)):\n",
    "    swfDict[wordArray[i]] = wFreq[i]"
   ]
  },
  {
   "cell_type": "code",
   "execution_count": 180,
   "metadata": {},
   "outputs": [],
   "source": [
    "swfList = [ ]"
   ]
  },
  {
   "cell_type": "code",
   "execution_count": 181,
   "metadata": {},
   "outputs": [],
   "source": [
    "for sentence in sentences:\n",
    "    temp = sentence.split()\n",
    "    score = 0\n",
    "    for i in temp:\n",
    "        if i in swfDict:\n",
    "            score += swfDict[i]\n",
    "    swfList.append(score)\n",
    "            \n",
    "            "
   ]
  },
  {
   "cell_type": "code",
   "execution_count": 182,
   "metadata": {},
   "outputs": [],
   "source": [
    "# Scores Sentences DF (using sentencesLater)\n",
    "df2 = pd.DataFrame(data=[[sentencesLater[i], swfList[i]] for i in range(len(swfList)) ], columns=[\"Sentence\",\"Score\"])"
   ]
  },
  {
   "cell_type": "code",
   "execution_count": 183,
   "metadata": {},
   "outputs": [],
   "source": [
    "df2.sort_values(by=\"Score\",ascending=False, inplace=True)"
   ]
  },
  {
   "cell_type": "code",
   "execution_count": 184,
   "metadata": {},
   "outputs": [],
   "source": [
    "df2.reset_index(drop=True, inplace=True)"
   ]
  },
  {
   "cell_type": "code",
   "execution_count": 185,
   "metadata": {},
   "outputs": [
    {
     "data": {
      "text/html": [
       "<div>\n",
       "<style scoped>\n",
       "    .dataframe tbody tr th:only-of-type {\n",
       "        vertical-align: middle;\n",
       "    }\n",
       "\n",
       "    .dataframe tbody tr th {\n",
       "        vertical-align: top;\n",
       "    }\n",
       "\n",
       "    .dataframe thead th {\n",
       "        text-align: right;\n",
       "    }\n",
       "</style>\n",
       "<table border=\"1\" class=\"dataframe\">\n",
       "  <thead>\n",
       "    <tr style=\"text-align: right;\">\n",
       "      <th></th>\n",
       "      <th>Sentence</th>\n",
       "      <th>Score</th>\n",
       "    </tr>\n",
       "  </thead>\n",
       "  <tbody>\n",
       "    <tr>\n",
       "      <th>0</th>\n",
       "      <td>Now we are engaged in a great civil war, testi...</td>\n",
       "      <td>3.2</td>\n",
       "    </tr>\n",
       "    <tr>\n",
       "      <th>1</th>\n",
       "      <td>That this nation shall have a new birth of fre...</td>\n",
       "      <td>3.0</td>\n",
       "    </tr>\n",
       "    <tr>\n",
       "      <th>2</th>\n",
       "      <td>It is rather for us to be here dedicated to th...</td>\n",
       "      <td>2.0</td>\n",
       "    </tr>\n",
       "    <tr>\n",
       "      <th>3</th>\n",
       "      <td>Fourscore and seven years ago our fathers brou...</td>\n",
       "      <td>2.0</td>\n",
       "    </tr>\n",
       "    <tr>\n",
       "      <th>4</th>\n",
       "      <td>It is for us the living, rather, to be dedicat...</td>\n",
       "      <td>1.6</td>\n",
       "    </tr>\n",
       "    <tr>\n",
       "      <th>5</th>\n",
       "      <td>We have come to dedicate a portion of that fie...</td>\n",
       "      <td>1.2</td>\n",
       "    </tr>\n",
       "    <tr>\n",
       "      <th>6</th>\n",
       "      <td>The brave men, living and dead, who struggled ...</td>\n",
       "      <td>1.0</td>\n",
       "    </tr>\n",
       "    <tr>\n",
       "      <th>7</th>\n",
       "      <td>That from these honored dead we take increased...</td>\n",
       "      <td>1.0</td>\n",
       "    </tr>\n",
       "    <tr>\n",
       "      <th>8</th>\n",
       "      <td>That we here highly resolve that these dead sh...</td>\n",
       "      <td>0.8</td>\n",
       "    </tr>\n",
       "    <tr>\n",
       "      <th>9</th>\n",
       "      <td>We are met on a great battlefield of that war</td>\n",
       "      <td>0.6</td>\n",
       "    </tr>\n",
       "    <tr>\n",
       "      <th>10</th>\n",
       "      <td>But, in a larger sense, we cannot dedicate</td>\n",
       "      <td>0.6</td>\n",
       "    </tr>\n",
       "    <tr>\n",
       "      <th>11</th>\n",
       "      <td>We cannot consecrate</td>\n",
       "      <td>0.4</td>\n",
       "    </tr>\n",
       "    <tr>\n",
       "      <th>12</th>\n",
       "      <td>We cannot hallow</td>\n",
       "      <td>0.4</td>\n",
       "    </tr>\n",
       "    <tr>\n",
       "      <th>13</th>\n",
       "      <td>The world will little note, nor long remember ...</td>\n",
       "      <td>0.2</td>\n",
       "    </tr>\n",
       "    <tr>\n",
       "      <th>14</th>\n",
       "      <td>It is altogether fitting and proper that we sh...</td>\n",
       "      <td>0.0</td>\n",
       "    </tr>\n",
       "    <tr>\n",
       "      <th>15</th>\n",
       "      <td>This ground</td>\n",
       "      <td>0.0</td>\n",
       "    </tr>\n",
       "  </tbody>\n",
       "</table>\n",
       "</div>"
      ],
      "text/plain": [
       "                                             Sentence  Score\n",
       "0   Now we are engaged in a great civil war, testi...    3.2\n",
       "1   That this nation shall have a new birth of fre...    3.0\n",
       "2   It is rather for us to be here dedicated to th...    2.0\n",
       "3   Fourscore and seven years ago our fathers brou...    2.0\n",
       "4   It is for us the living, rather, to be dedicat...    1.6\n",
       "5   We have come to dedicate a portion of that fie...    1.2\n",
       "6   The brave men, living and dead, who struggled ...    1.0\n",
       "7   That from these honored dead we take increased...    1.0\n",
       "8   That we here highly resolve that these dead sh...    0.8\n",
       "9       We are met on a great battlefield of that war    0.6\n",
       "10         But, in a larger sense, we cannot dedicate    0.6\n",
       "11                               We cannot consecrate    0.4\n",
       "12                                   We cannot hallow    0.4\n",
       "13  The world will little note, nor long remember ...    0.2\n",
       "14  It is altogether fitting and proper that we sh...    0.0\n",
       "15                                        This ground    0.0"
      ]
     },
     "execution_count": 185,
     "metadata": {},
     "output_type": "execute_result"
    }
   ],
   "source": [
    "df2"
   ]
  },
  {
   "cell_type": "markdown",
   "metadata": {},
   "source": [
    "## numLines"
   ]
  },
  {
   "cell_type": "markdown",
   "metadata": {},
   "source": [
    "A function that returns a summarized speech (given some number of sentences)"
   ]
  },
  {
   "cell_type": "code",
   "execution_count": 186,
   "metadata": {},
   "outputs": [],
   "source": [
    "def numLines(num):\n",
    "    temp = \"\"\n",
    "    for i in df2['Sentence'].head(num):\n",
    "        temp += i\n",
    "        temp += \".\"\n",
    "        temp += \" \"\n",
    "    \n",
    "    print(temp)"
   ]
  },
  {
   "cell_type": "code",
   "execution_count": 191,
   "metadata": {},
   "outputs": [
    {
     "name": "stdout",
     "output_type": "stream",
     "text": [
      "Now we are engaged in a great civil war, testing whether that nation, or any nation so conceived and so dedicated, can long endure. That this nation shall have a new birth of freedom and that government of the people, by the people, for the people, shall not perish from the earth. It is rather for us to be here dedicated to the great task remaining before us. Fourscore and seven years ago our fathers brought forth on this continent a new nation, conceived in liberty and dedicated to the proposition that all men are created equal. It is for us the living, rather, to be dedicated here to the unfinished work which they who fought here have thus far so nobly advanced. \n"
     ]
    }
   ],
   "source": [
    "# use numLines(n) to summarize the text to n-many sentences\n",
    "numLines(5)"
   ]
  },
  {
   "cell_type": "markdown",
   "metadata": {},
   "source": [
    "### Conclusion"
   ]
  },
  {
   "cell_type": "markdown",
   "metadata": {},
   "source": [
    "Are goal was to summarize Abraham Lincoln's Gettysburg Address. To do this we pre-processed, tolkenized words of sentences to give sentences weight, and ranked sentences. Our function \"numLines(n)\" summarizes the text by returning heaviest 'n' sentences from the rankings. With this Project one can summarize bodies of text. "
   ]
  },
  {
   "cell_type": "code",
   "execution_count": null,
   "metadata": {},
   "outputs": [],
   "source": []
  }
 ],
 "metadata": {
  "kernelspec": {
   "display_name": "Python 3",
   "language": "python",
   "name": "python3"
  },
  "language_info": {
   "codemirror_mode": {
    "name": "ipython",
    "version": 3
   },
   "file_extension": ".py",
   "mimetype": "text/x-python",
   "name": "python",
   "nbconvert_exporter": "python",
   "pygments_lexer": "ipython3",
   "version": "3.7.6"
  }
 },
 "nbformat": 4,
 "nbformat_minor": 4
}

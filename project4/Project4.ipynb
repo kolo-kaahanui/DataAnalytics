{
 "cells": [
  {
   "cell_type": "markdown",
   "metadata": {},
   "source": [
    "# MNIST Classification"
   ]
  },
  {
   "cell_type": "markdown",
   "metadata": {},
   "source": [
    "Within data science classifying the the MNIST dataset is famous. This set hosts handwritten numerical digits ranging from 0 - 9. The power of this is clear; if one can classify these 10 digits, all numbers can be classified and interpreted using machine learning. "
   ]
  },
  {
   "cell_type": "markdown",
   "metadata": {},
   "source": [
    "## Analysis"
   ]
  },
  {
   "cell_type": "code",
   "execution_count": 148,
   "metadata": {},
   "outputs": [],
   "source": [
    "import pandas as pd"
   ]
  },
  {
   "cell_type": "code",
   "execution_count": 149,
   "metadata": {},
   "outputs": [],
   "source": [
    "df = pd.read_csv(\"train.csv\")"
   ]
  },
  {
   "cell_type": "code",
   "execution_count": 150,
   "metadata": {},
   "outputs": [
    {
     "data": {
      "text/html": [
       "<div>\n",
       "<style scoped>\n",
       "    .dataframe tbody tr th:only-of-type {\n",
       "        vertical-align: middle;\n",
       "    }\n",
       "\n",
       "    .dataframe tbody tr th {\n",
       "        vertical-align: top;\n",
       "    }\n",
       "\n",
       "    .dataframe thead th {\n",
       "        text-align: right;\n",
       "    }\n",
       "</style>\n",
       "<table border=\"1\" class=\"dataframe\">\n",
       "  <thead>\n",
       "    <tr style=\"text-align: right;\">\n",
       "      <th></th>\n",
       "      <th>label</th>\n",
       "      <th>pixel0</th>\n",
       "      <th>pixel1</th>\n",
       "      <th>pixel2</th>\n",
       "      <th>pixel3</th>\n",
       "      <th>pixel4</th>\n",
       "      <th>pixel5</th>\n",
       "      <th>pixel6</th>\n",
       "      <th>pixel7</th>\n",
       "      <th>pixel8</th>\n",
       "      <th>...</th>\n",
       "      <th>pixel774</th>\n",
       "      <th>pixel775</th>\n",
       "      <th>pixel776</th>\n",
       "      <th>pixel777</th>\n",
       "      <th>pixel778</th>\n",
       "      <th>pixel779</th>\n",
       "      <th>pixel780</th>\n",
       "      <th>pixel781</th>\n",
       "      <th>pixel782</th>\n",
       "      <th>pixel783</th>\n",
       "    </tr>\n",
       "  </thead>\n",
       "  <tbody>\n",
       "    <tr>\n",
       "      <th>0</th>\n",
       "      <td>1</td>\n",
       "      <td>0</td>\n",
       "      <td>0</td>\n",
       "      <td>0</td>\n",
       "      <td>0</td>\n",
       "      <td>0</td>\n",
       "      <td>0</td>\n",
       "      <td>0</td>\n",
       "      <td>0</td>\n",
       "      <td>0</td>\n",
       "      <td>...</td>\n",
       "      <td>0</td>\n",
       "      <td>0</td>\n",
       "      <td>0</td>\n",
       "      <td>0</td>\n",
       "      <td>0</td>\n",
       "      <td>0</td>\n",
       "      <td>0</td>\n",
       "      <td>0</td>\n",
       "      <td>0</td>\n",
       "      <td>0</td>\n",
       "    </tr>\n",
       "    <tr>\n",
       "      <th>1</th>\n",
       "      <td>0</td>\n",
       "      <td>0</td>\n",
       "      <td>0</td>\n",
       "      <td>0</td>\n",
       "      <td>0</td>\n",
       "      <td>0</td>\n",
       "      <td>0</td>\n",
       "      <td>0</td>\n",
       "      <td>0</td>\n",
       "      <td>0</td>\n",
       "      <td>...</td>\n",
       "      <td>0</td>\n",
       "      <td>0</td>\n",
       "      <td>0</td>\n",
       "      <td>0</td>\n",
       "      <td>0</td>\n",
       "      <td>0</td>\n",
       "      <td>0</td>\n",
       "      <td>0</td>\n",
       "      <td>0</td>\n",
       "      <td>0</td>\n",
       "    </tr>\n",
       "    <tr>\n",
       "      <th>2</th>\n",
       "      <td>1</td>\n",
       "      <td>0</td>\n",
       "      <td>0</td>\n",
       "      <td>0</td>\n",
       "      <td>0</td>\n",
       "      <td>0</td>\n",
       "      <td>0</td>\n",
       "      <td>0</td>\n",
       "      <td>0</td>\n",
       "      <td>0</td>\n",
       "      <td>...</td>\n",
       "      <td>0</td>\n",
       "      <td>0</td>\n",
       "      <td>0</td>\n",
       "      <td>0</td>\n",
       "      <td>0</td>\n",
       "      <td>0</td>\n",
       "      <td>0</td>\n",
       "      <td>0</td>\n",
       "      <td>0</td>\n",
       "      <td>0</td>\n",
       "    </tr>\n",
       "    <tr>\n",
       "      <th>3</th>\n",
       "      <td>4</td>\n",
       "      <td>0</td>\n",
       "      <td>0</td>\n",
       "      <td>0</td>\n",
       "      <td>0</td>\n",
       "      <td>0</td>\n",
       "      <td>0</td>\n",
       "      <td>0</td>\n",
       "      <td>0</td>\n",
       "      <td>0</td>\n",
       "      <td>...</td>\n",
       "      <td>0</td>\n",
       "      <td>0</td>\n",
       "      <td>0</td>\n",
       "      <td>0</td>\n",
       "      <td>0</td>\n",
       "      <td>0</td>\n",
       "      <td>0</td>\n",
       "      <td>0</td>\n",
       "      <td>0</td>\n",
       "      <td>0</td>\n",
       "    </tr>\n",
       "    <tr>\n",
       "      <th>4</th>\n",
       "      <td>0</td>\n",
       "      <td>0</td>\n",
       "      <td>0</td>\n",
       "      <td>0</td>\n",
       "      <td>0</td>\n",
       "      <td>0</td>\n",
       "      <td>0</td>\n",
       "      <td>0</td>\n",
       "      <td>0</td>\n",
       "      <td>0</td>\n",
       "      <td>...</td>\n",
       "      <td>0</td>\n",
       "      <td>0</td>\n",
       "      <td>0</td>\n",
       "      <td>0</td>\n",
       "      <td>0</td>\n",
       "      <td>0</td>\n",
       "      <td>0</td>\n",
       "      <td>0</td>\n",
       "      <td>0</td>\n",
       "      <td>0</td>\n",
       "    </tr>\n",
       "  </tbody>\n",
       "</table>\n",
       "<p>5 rows × 785 columns</p>\n",
       "</div>"
      ],
      "text/plain": [
       "   label  pixel0  pixel1  pixel2  pixel3  pixel4  pixel5  pixel6  pixel7  \\\n",
       "0      1       0       0       0       0       0       0       0       0   \n",
       "1      0       0       0       0       0       0       0       0       0   \n",
       "2      1       0       0       0       0       0       0       0       0   \n",
       "3      4       0       0       0       0       0       0       0       0   \n",
       "4      0       0       0       0       0       0       0       0       0   \n",
       "\n",
       "   pixel8  ...  pixel774  pixel775  pixel776  pixel777  pixel778  pixel779  \\\n",
       "0       0  ...         0         0         0         0         0         0   \n",
       "1       0  ...         0         0         0         0         0         0   \n",
       "2       0  ...         0         0         0         0         0         0   \n",
       "3       0  ...         0         0         0         0         0         0   \n",
       "4       0  ...         0         0         0         0         0         0   \n",
       "\n",
       "   pixel780  pixel781  pixel782  pixel783  \n",
       "0         0         0         0         0  \n",
       "1         0         0         0         0  \n",
       "2         0         0         0         0  \n",
       "3         0         0         0         0  \n",
       "4         0         0         0         0  \n",
       "\n",
       "[5 rows x 785 columns]"
      ]
     },
     "execution_count": 150,
     "metadata": {},
     "output_type": "execute_result"
    }
   ],
   "source": [
    "df.head()"
   ]
  },
  {
   "cell_type": "code",
   "execution_count": 151,
   "metadata": {},
   "outputs": [
    {
     "data": {
      "text/plain": [
       "1    4684\n",
       "7    4401\n",
       "3    4351\n",
       "9    4188\n",
       "2    4177\n",
       "6    4137\n",
       "0    4132\n",
       "4    4072\n",
       "8    4063\n",
       "5    3795\n",
       "Name: label, dtype: int64"
      ]
     },
     "execution_count": 151,
     "metadata": {},
     "output_type": "execute_result"
    }
   ],
   "source": [
    "df[\"label\"].value_counts()"
   ]
  },
  {
   "cell_type": "code",
   "execution_count": 152,
   "metadata": {},
   "outputs": [
    {
     "data": {
      "text/plain": [
       "28.0"
      ]
     },
     "execution_count": 152,
     "metadata": {},
     "output_type": "execute_result"
    }
   ],
   "source": [
    "import math\n",
    "math.sqrt(784)"
   ]
  },
  {
   "cell_type": "markdown",
   "metadata": {},
   "source": [
    "So we likely have images that are 28 x 28... yes just check the docs"
   ]
  },
  {
   "cell_type": "code",
   "execution_count": 153,
   "metadata": {},
   "outputs": [
    {
     "name": "stdout",
     "output_type": "stream",
     "text": [
      "<class 'pandas.core.frame.DataFrame'>\n",
      "RangeIndex: 42000 entries, 0 to 41999\n",
      "Columns: 785 entries, label to pixel783\n",
      "dtypes: int64(785)\n",
      "memory usage: 251.5 MB\n"
     ]
    }
   ],
   "source": [
    "df.info()"
   ]
  },
  {
   "cell_type": "code",
   "execution_count": 154,
   "metadata": {},
   "outputs": [
    {
     "name": "stdout",
     "output_type": "stream",
     "text": [
      "[0, 116, 10, 254, 216]\n"
     ]
    }
   ],
   "source": [
    "# let's see if we just have 0 and 1 values\n",
    "theList = []\n",
    "\n",
    "for i in range(20): # 784, 20\n",
    "    temp = df[\"pixel\"+str(i)]\n",
    "    for j in temp:\n",
    "        if j not in theList:\n",
    "            theList.append(j)\n",
    "            \n",
    "print(theList[:5])"
   ]
  },
  {
   "cell_type": "markdown",
   "metadata": {},
   "source": [
    "it looks like we don't just have 0's and 1's. We should normalize the data because the numerical values don't have implicite meaning"
   ]
  },
  {
   "cell_type": "code",
   "execution_count": 155,
   "metadata": {},
   "outputs": [
    {
     "data": {
      "text/plain": [
       "254"
      ]
     },
     "execution_count": 155,
     "metadata": {},
     "output_type": "execute_result"
    }
   ],
   "source": [
    "max(theList)"
   ]
  },
  {
   "cell_type": "code",
   "execution_count": 156,
   "metadata": {},
   "outputs": [
    {
     "data": {
      "text/plain": [
       "'\\nfor i in range(784):\\n    tempCol = df[\"pixel\"+str(i)]\\n    for j in range(42000):\\n        temp = tempCol[j]\\n        df[\"pixel\"+str(i)][j]=temp/255\\n'"
      ]
     },
     "execution_count": 156,
     "metadata": {},
     "output_type": "execute_result"
    }
   ],
   "source": [
    "# too slow\n",
    "\"\"\"\n",
    "for i in range(784):\n",
    "    tempCol = df[\"pixel\"+str(i)]\n",
    "    for j in range(42000):\n",
    "        temp = tempCol[j]\n",
    "        df[\"pixel\"+str(i)][j]=temp/255\n",
    "\"\"\""
   ]
  },
  {
   "cell_type": "code",
   "execution_count": 157,
   "metadata": {},
   "outputs": [],
   "source": [
    "for i in range(784): # this should normalize\n",
    "    df[\"pixel\"+str(i)]=df[\"pixel\"+str(i)]/255"
   ]
  },
  {
   "cell_type": "code",
   "execution_count": 158,
   "metadata": {},
   "outputs": [
    {
     "name": "stdout",
     "output_type": "stream",
     "text": [
      "[0.0, 0.4549019607843137, 0.0392156862745098, 0.996078431372549, 0.8470588235294118]\n"
     ]
    }
   ],
   "source": [
    "# And to make sure it's normalized\n",
    "theList = []\n",
    "\n",
    "for i in range(50): # 784, 10, 50\n",
    "    temp = df[\"pixel\"+str(i)]\n",
    "    for j in temp:\n",
    "        if j not in theList:\n",
    "            theList.append(j)\n",
    "            \n",
    "print(theList[:5])"
   ]
  },
  {
   "cell_type": "markdown",
   "metadata": {},
   "source": [
    "It appears to be normalized. Let's do a quick check that our labels match the pixiels."
   ]
  },
  {
   "cell_type": "code",
   "execution_count": 159,
   "metadata": {},
   "outputs": [],
   "source": [
    "import matplotlib.pyplot as plt"
   ]
  },
  {
   "cell_type": "code",
   "execution_count": 160,
   "metadata": {},
   "outputs": [
    {
     "name": "stdout",
     "output_type": "stream",
     "text": [
      "pixel0      0.0\n",
      "pixel1      0.0\n",
      "pixel2      0.0\n",
      "pixel3      0.0\n",
      "pixel4      0.0\n",
      "           ... \n",
      "pixel779    0.0\n",
      "pixel780    0.0\n",
      "pixel781    0.0\n",
      "pixel782    0.0\n",
      "pixel783    0.0\n",
      "Name: 0, Length: 784, dtype: float64\n"
     ]
    }
   ],
   "source": [
    "# X is ready for machine learning\n",
    "X = df.drop(\"label\",axis=1)\n",
    "\n",
    "X.head()\n",
    "print(X.iloc[0])"
   ]
  },
  {
   "cell_type": "code",
   "execution_count": 161,
   "metadata": {},
   "outputs": [
    {
     "data": {
      "image/png": "[encoded data removed]",
      "text/plain": [
       "<Figure size 432x288 with 1 Axes>"
      ]
     },
     "metadata": {
      "needs_background": "light"
     },
     "output_type": "display_data"
    },
    {
     "name": "stdout",
     "output_type": "stream",
     "text": [
      "label: 1\n",
      "Quit (y/n)?n\n"
     ]
    },
    {
     "data": {
      "image/png": "[encoded data removed]",
      "text/plain": [
       "<Figure size 432x288 with 1 Axes>"
      ]
     },
     "metadata": {
      "needs_background": "light"
     },
     "output_type": "display_data"
    },
    {
     "name": "stdout",
     "output_type": "stream",
     "text": [
      "label: 0\n",
      "Quit (y/n)?n\n"
     ]
    },
    {
     "data": {
      "image/png": "[encoded data removed]",
      "text/plain": [
       "<Figure size 432x288 with 1 Axes>"
      ]
     },
     "metadata": {
      "needs_background": "light"
     },
     "output_type": "display_data"
    },
    {
     "name": "stdout",
     "output_type": "stream",
     "text": [
      "label: 1\n",
      "Quit (y/n)?n\n"
     ]
    },
    {
     "data": {
      "image/png": "[encoded data removed]",
      "text/plain": [
       "<Figure size 432x288 with 1 Axes>"
      ]
     },
     "metadata": {
      "needs_background": "light"
     },
     "output_type": "display_data"
    },
    {
     "name": "stdout",
     "output_type": "stream",
     "text": [
      "label: 4\n",
      "Quit (y/n)?n\n"
     ]
    },
    {
     "data": {
      "image/png": "[encoded data removed]",
      "text/plain": [
       "<Figure size 432x288 with 1 Axes>"
      ]
     },
     "metadata": {
      "needs_background": "light"
     },
     "output_type": "display_data"
    },
    {
     "name": "stdout",
     "output_type": "stream",
     "text": [
      "label: 0\n",
      "Quit (y/n)?n\n"
     ]
    },
    {
     "data": {
      "image/png": "[encoded data removed]",
      "text/plain": [
       "<Figure size 432x288 with 1 Axes>"
      ]
     },
     "metadata": {
      "needs_background": "light"
     },
     "output_type": "display_data"
    },
    {
     "name": "stdout",
     "output_type": "stream",
     "text": [
      "label: 0\n",
      "Quit (y/n)?n\n"
     ]
    },
    {
     "data": {
      "image/png": "[encoded data removed]",
      "text/plain": [
       "<Figure size 432x288 with 1 Axes>"
      ]
     },
     "metadata": {
      "needs_background": "light"
     },
     "output_type": "display_data"
    },
    {
     "name": "stdout",
     "output_type": "stream",
     "text": [
      "label: 7\n",
      "Quit (y/n)?y\n"
     ]
    }
   ],
   "source": [
    "tally=0\n",
    "while True:\n",
    "    plt.imshow(X.iloc[tally].values.reshape(28,28), cmap=\"gray\")\n",
    "    plt.show()\n",
    "    print(\"label: {}\".format(df[\"label\"][tally]))\n",
    "    prompt = input(\"Quit (y/n)?\")\n",
    "    if prompt == \"y\":\n",
    "        break\n",
    "    else:\n",
    "        tally +=1"
   ]
  },
  {
   "cell_type": "markdown",
   "metadata": {},
   "source": [
    "Looks pretty good"
   ]
  },
  {
   "cell_type": "markdown",
   "metadata": {},
   "source": [
    "## Machine Learning"
   ]
  },
  {
   "cell_type": "code",
   "execution_count": 162,
   "metadata": {},
   "outputs": [],
   "source": [
    "Y = pd.get_dummies(data=df,columns=[\"label\"], prefix=\"label\")\n",
    "Y = Y[['label_0', 'label_1', 'label_2', 'label_3', 'label_4', 'label_5',\n",
    "       'label_6', 'label_7', 'label_8', 'label_9']]\n"
   ]
  },
  {
   "cell_type": "code",
   "execution_count": 180,
   "metadata": {},
   "outputs": [
    {
     "name": "stdout",
     "output_type": "stream",
     "text": [
      "cost: -149627.01705213223 classification_rate: 0.055857142857142855\n",
      "cost: -53783.04900377322 classification_rate: 0.577595238095238\n",
      "cost: -38258.117491505334 classification_rate: 0.702\n",
      "cost: -31131.3693059176 classification_rate: 0.766\n",
      "cost: -27190.904603196148 classification_rate: 0.7997857142857143\n",
      "cost: -24720.837758489968 classification_rate: 0.8206190476190476\n",
      "cost: -22972.808781795084 classification_rate: 0.834\n",
      "cost: -21648.78787300626 classification_rate: 0.8456666666666667\n",
      "cost: -20583.657911100385 classification_rate: 0.8538809523809524\n",
      "cost: -19687.21543678999 classification_rate: 0.8613095238095239\n",
      "cost: -18910.77472796602 classification_rate: 0.8672857142857143\n",
      "cost: -18237.369183721312 classification_rate: 0.8723095238095238\n",
      "cost: -17651.865756455358 classification_rate: 0.8759523809523809\n",
      "cost: -17135.14563236992 classification_rate: 0.8792142857142857\n",
      "cost: -16672.058532418825 classification_rate: 0.8817619047619047\n",
      "cost: -16252.159987268433 classification_rate: 0.884452380952381\n",
      "cost: -15870.11625217163 classification_rate: 0.8871666666666667\n",
      "cost: -15522.481562644498 classification_rate: 0.89\n",
      "cost: -15205.284132128498 classification_rate: 0.8923095238095238\n",
      "cost: -14914.256582084303 classification_rate: 0.8942142857142857\n",
      "Final classification rate: 0.7970690476190476\n"
     ]
    }
   ],
   "source": [
    "import numpy as np\n",
    "\n",
    "x = df.drop(\"label\",axis=1)\n",
    "X = x.values\n",
    "X = X/255\n",
    "y = df[\"label\"]\n",
    "Y=np.array(y)\n",
    "\n",
    "accuracies = []\n",
    "\n",
    "def forward(X, W1, b1, W2, b2):\n",
    "    Z = 1 / (1 + np.exp(-X.dot(W1) - b1))\n",
    "    A = Z.dot(W2) + b2\n",
    "    expA = np.exp(A)\n",
    "    Y = expA / expA.sum(axis=1, keepdims=True)\n",
    "    return Y, Z\n",
    "\n",
    "\n",
    "# determine the classification rate\n",
    "# num correct / num total\n",
    "def classification_rate(Y, P):\n",
    "    n_correct = 0\n",
    "    n_total = 0\n",
    "    for i in range(len(Y)):\n",
    "        n_total += 1\n",
    "        if Y[i] == P[i]:\n",
    "            n_correct += 1\n",
    "    return float(n_correct) / n_total\n",
    "\n",
    "\n",
    "def derivative_w2(Z, T, Y):\n",
    "    N, K = T.shape\n",
    "    M = Z.shape[1] # H is (N, M)\n",
    "\n",
    "    ret4 = Z.T.dot(T - Y)\n",
    "\n",
    "    return ret4\n",
    "\n",
    "\n",
    "def derivative_w1(X, Z, T, Y, W2):\n",
    "    N, D = X.shape\n",
    "    M, K = W2.shape\n",
    "\n",
    "    dZ = (T - Y).dot(W2.T) * Z * (1 - Z)\n",
    "    ret2 = X.T.dot(dZ)\n",
    "\n",
    "    return ret2\n",
    "\n",
    "\n",
    "def derivative_b2(T, Y):\n",
    "    return (T - Y).sum(axis=0)\n",
    "\n",
    "\n",
    "def derivative_b1(T, Y, W2, Z):\n",
    "    return ((T - Y).dot(W2.T) * Z * (1 - Z)).sum(axis=0)\n",
    "\n",
    "\n",
    "def cost(T, Y):\n",
    "    tot = T * np.log(Y)\n",
    "    return tot.sum()\n",
    "\n",
    "def main():\n",
    "    # create the data\n",
    "    Nclass = 42000\n",
    "    D = 784 # dimensionality of input\n",
    "    M = 10 # hidden layer size: 5, 7, 10\n",
    "    K = 10 # number of classes\n",
    "\n",
    "    N = len(Y)\n",
    "    # turn Y into an indicator matrix for training\n",
    "    T = np.zeros((N, K))\n",
    "    for i in range(N):\n",
    "        T[i, Y[i]] = 1\n",
    "\n",
    "\n",
    "    # randomly initialize weights\n",
    "    W1 = np.random.randn(D, M)\n",
    "    b1 = np.random.randn(M)\n",
    "    W2 = np.random.randn(M, K)\n",
    "    b2 = np.random.randn(K)\n",
    "\n",
    "    learning_rate = 2e-5 # 2e-4, 2e-5, 1e-5\n",
    "    costs = []\n",
    "    for epoch in range(3000): # 1000, 2000, 5000, 3000\n",
    "        output, hidden = forward(X, W1, b1, W2, b2)\n",
    "        if epoch % 150 == 0: # 100, 200, 150\n",
    "            c = cost(T, output)\n",
    "            P = np.argmax(output, axis=1)\n",
    "            r = classification_rate(Y, P)\n",
    "            print(\"cost:\", c, \"classification_rate:\", r)\n",
    "            accuracies.append(r)\n",
    "            costs.append(c)\n",
    "\n",
    "        # gradient ascent\n",
    "        W2 += learning_rate * derivative_w2(hidden, T, output)\n",
    "        b2 += learning_rate * derivative_b2(T, output)\n",
    "        W1 += learning_rate * derivative_w1(X, hidden, T, output, W2)\n",
    "        b1 += learning_rate * derivative_b1(T, output, W2, hidden)\n",
    "        \n",
    "        if epoch == 4999:\n",
    "            print(\"\\n\")\n",
    "            print(\"W2 {},\".format(W2))\n",
    "            print(\"\\n\")\n",
    "            print(\"b2 {},\".format(b2))\n",
    "            print(\"\\n\")\n",
    "            print(\"W1 {},\".format(W1))\n",
    "            print(\"\\n\")\n",
    "            print('b1 {}'.format(b1))\n",
    "            print(\"\\n\")\n",
    "            \n",
    "    return W1, b1, W2, b2\n",
    "\n",
    "W1, b1, W2, b2 = main()\n",
    "print(\"\\n\")\n",
    "print(\"Final classification rate: {}\".format(sum(accuracies)/len(accuracies)))\n"
   ]
  },
  {
   "cell_type": "code",
   "execution_count": 181,
   "metadata": {},
   "outputs": [],
   "source": [
    "# important parameters for the prediction algorithm\n",
    "# W1\n",
    "# W2\n",
    "# b1\n",
    "# b2\n",
    "\n",
    "X = pd.read_csv(\"test.csv\")\n",
    "X = X.values"
   ]
  },
  {
   "cell_type": "code",
   "execution_count": 186,
   "metadata": {},
   "outputs": [],
   "source": [
    "def softmax(a):\n",
    "    expA = np.exp(a)\n",
    "    return expA / expA.sum( keepdims=True)\n",
    "\n",
    "def forward(X, W1, b1, W2, b2):\n",
    "    Z = np.tanh(X.dot(W1) + b1)\n",
    "    return softmax(Z.dot(W2) + b2)\n",
    "\n",
    "P_Y_given_X = forward(X, W1, b1, W2, b2)\n"
   ]
  },
  {
   "cell_type": "code",
   "execution_count": 187,
   "metadata": {},
   "outputs": [
    {
     "data": {
      "text/plain": [
       "array([8.47691442e-14, 7.10335776e-15, 4.65328917e-06, 5.32962460e-14,\n",
       "       1.57169507e-13, 1.24058916e-19, 2.21697305e-14, 7.27141969e-16,\n",
       "       1.30624469e-13, 1.55584309e-15])"
      ]
     },
     "execution_count": 187,
     "metadata": {},
     "output_type": "execute_result"
    }
   ],
   "source": [
    "P_Y_given_X[0]"
   ]
  },
  {
   "cell_type": "code",
   "execution_count": 189,
   "metadata": {},
   "outputs": [],
   "source": [
    "predictions = np.argmax(P_Y_given_X, axis=1)"
   ]
  },
  {
   "cell_type": "code",
   "execution_count": 193,
   "metadata": {},
   "outputs": [],
   "source": [
    "ImageId = np.arange(1,28001)\n",
    "outputDict = {\"ImageId\":ImageId,\"Label\":predictions}"
   ]
  },
  {
   "cell_type": "code",
   "execution_count": 194,
   "metadata": {},
   "outputs": [],
   "source": [
    "output = pd.DataFrame(data=outputDict,columns=[\"ImageId\",\"Label\"], index=None)\n",
    "output.to_csv(\"imageSub1.csv\",index=None)"
   ]
  },
  {
   "cell_type": "markdown",
   "metadata": {},
   "source": [
    "## Conclusion "
   ]
  },
  {
   "cell_type": "markdown",
   "metadata": {},
   "source": [
    "Using the above model on the test set as per Kaggle earned 82% accuracy. I tried behind the scenes to rank the individual classified digits, and base the second bias on this order. Unfortunately no improvement to the model was achieved. Theoretically, different parameters like learning rate, number of epochs, and layer dimension could be tweaked to improve our accuracy with the two-layer deep learning model. It is also worth mentioning that entire libraries exist for deep learning like pytorch and tensorflow. These libraries make it easier to increase the number of layers, which may also help boost the model. "
   ]
  }
 ],
 "metadata": {
  "kernelspec": {
   "display_name": "Python 3",
   "language": "python",
   "name": "python3"
  },
  "language_info": {
   "codemirror_mode": {
    "name": "ipython",
    "version": 3
   },
   "file_extension": ".py",
   "mimetype": "text/x-python",
   "name": "python",
   "nbconvert_exporter": "python",
   "pygments_lexer": "ipython3",
   "version": "3.7.6"
  }
 },
 "nbformat": 4,
 "nbformat_minor": 4
}

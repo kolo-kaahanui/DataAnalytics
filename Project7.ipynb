{
 "cells": [
  {
   "cell_type": "markdown",
   "metadata": {},
   "source": [
    "# Hawaiian Stopwords"
   ]
  },
  {
   "cell_type": "markdown",
   "metadata": {},
   "source": [
    "This goal of this project is to create a list of stopwords for the Hawaiian language. In NLP (Natural Language Processing), stopwords are the most commonly used words. In English, these are words like \"and\" and \"the\" - filtering a text of these words can help reduce noise and improve NLP algorithms' accuracy.\n",
    "\n",
    "This project will arbitrarily use five different Hawaiian language newspapers to create the list. First, I will tokenize the words from the newspapers. Then, I will count each term's frequency of occurrence and place them in a data frame. Finally, I will graph the data to find cutoff points based on a presumed geometric asymptote convergence location. I will ultimately use the discretion of my language domain knowledge to supersede what makes the cutoff. Here are the assumptions:\n",
    "1. That five newspapers is a large enough corpus\n",
    "2. That the language used in these periodicals is still relevant to today (the dates of the newspapers will be varied and range from 1834 through 1902)\n",
    "3. That the word count graph is negative exponential"
   ]
  },
  {
   "cell_type": "markdown",
   "metadata": {},
   "source": [
    "## Extraction\n"
   ]
  },
  {
   "cell_type": "markdown",
   "metadata": {},
   "source": [
    "Let's use pythons docx library which will allow us to manipulate word document text with python code."
   ]
  },
  {
   "cell_type": "code",
   "execution_count": 46,
   "metadata": {},
   "outputs": [],
   "source": [
    "import docx\n",
    "\n",
    "def getText(filename):\n",
    "    doc = docx.Document(filename)\n",
    "    fullText = []\n",
    "    for para in doc.paragraphs:\n",
    "        fullText.append(para.text)\n",
    "    return '\\n'.join(fullText)\n",
    "\n",
    "npTextOne = getText(\"Ka Elele Hawaii Buke 4 Pepa 1 Aoao 1 Iune 8 1848.docx\")"
   ]
  },
  {
   "cell_type": "code",
   "execution_count": 47,
   "metadata": {},
   "outputs": [
    {
     "name": "stdout",
     "output_type": "stream",
     "text": [
      "KA ELELE HAWAII.\n",
      " \n",
      "BUKE 4. Honolulu, Oahu, Iune 8, 1848. PEPA 1.\n",
      " \n",
      "Olelo Hoike na ke Kuhina no ke Aopalapala: ua heluheluia imua o ka Ahaolelo i ka la o Aperila 27, 1848.\n",
      "            Na na Lii Ahaolelo, a me ka Poeikohoia e na makaainana, iloko o ka Ahaolelo.\n",
      "            E like me ke kauoha a ka Moi, ke waiho nei au imua o oukou i wahi olelo pokole no ka “Oihana Aopalapala.” Mai ka malama o Sepatemaba a hiki i keia wa, ua hooiliia mai ia Oihana maluna o’u, e ka Moi, a me ka Ahakukakuka Malu.\n",
      "            He mea kaumaha hoi ka mea i hooiliia mai ai keia Oihana maluna o’u. O ke Kuhina hoopono nana keia Oihana, ua loohia oia i ka ma ii kela malama o Iulai, emo ole hoi ko ke AKua kahea ana mai ia ia, a ua laweia’ku oia mai keia ao aku i ka la 7 o Novemaba.\n",
      "            He kanaka maikai o Wm. Rikeke, he oiaio kona aloha i keia lahuikanaka, a ua hooikaika mau oia e hoomaikai i ko Hawaii nei i na makahiki he 24: eiwa hoi makahiki in oho ai oia iloko o ka hana a ka Moi. He nui wale ka aie o keia lahuikanaka ia ia, a ua aloha nui ia hoi oia e na kanaka o Hawaii nei mai o a o, aohe mea i oi aku.\n",
      "            Ua maopopo no hoi ko ka Moi aloha i kana kauwa malama pono, a ua haawiia kauwahi haawina kupono no kana wahine e noho nei me ke kaumaha o ka naau: ua pono no hoi ke kaumaha o ka naau; ua pono no hoi ke aloha i keia wahinekanemake, a me ka uwe pu me ia no kona ano maikai, a no kona hooikaika loihi ana me kana kane ma keia Pae Aina.\n",
      "            No ka make ana o keia Kuhina, ua hemahema ka “Oihana Aopalapala” i keia Manawa. Aole hoi i hana pono ia kana mau hana. Ua imi waleia i Kuhina hou no keia Oihana; aole nae i loaa. Ua lana no nae ka manao, aole liuliu aku a pau koke paha keia pilikia. No ke koi ana aku o ke Aupuni o ka Moi ia Limaikaika, ua kokua mai oia i keia Oihana mai ka la eono o Dekemaba a hiki i keia wa.\n",
      "            Ua huli nui ia na Palapala hoike o kela Apana keia Apana kula no ka makahiki 1847; nolaila, ua kauohaia na Kahukula a pau loa i ka malama o Dekemaba e hoi ke pono mai e like me ke Kanawai. Ua hakalia no nae ka lakou hana ana; me ka pilikia wale no i loaaa mai ai kela mau palapala hoike. Ua aneane pololei no nae keia mau palapala hoike no na Kula a pau loa o ke Aupuni no ka M.H. 1847. Eia no.\n",
      "            O ka aie o na Kula i hoakakaia iloko o ka Ahaolelo i kela makahiki i hala iho nei, eia no $8,907.00 He mea keia e poino nui ai na Kula; kaumaha na kumu i keia aie; pilikia na Kahu a kaniuhu hoi lakou a pau. No kela aie hoi, aole i pau ka aie o na kula i keia Manawa. Ua emi no nae iloko o keia makahiki i hala; ekolu tausani dala ke emi o ka aie; a ke olioli nei au, i ka hai aku ia oukou, iloko o keia makahiki e noho nei, ua hookaa loa ia ka aie iloko o kekahi mau APana, a ua emi loa hoi ma kekahi. Eia ka mea i emi ai, ua hoomaha na kula ma na Apana pilikia i ka aie i kekahi mana, a ua malama loa ia ka hana o ka Poalua, a me ka waiwai i loaa mai.\n",
      "            Ma na Apana kahi i malamaia’i ka hana o ka Poalua a me ka waiwai i loaa mai, ua lawa maoli no, no na kula. A ma kekahi mau Apana, ua pilikia maoli no ka mea, aole i malama pono ia ka hana o ka Poalua, a me ka waiwai i loaa mai. Ua haawiia ka waiwai a pau loa o ka Poalua no na kula; he mea makemake ka nui o na kanaka ma ka Uku pau kupono make dala maoli, a ma ka waiwai paha; a na oukou e noonoo i ka pono a me ka hewa o ka hoololi hou ana. I ko’u manao he pono no e hoao i mea hou ae e loaa mai ai ka waiwai no na kula.\n",
      "            Ma kekahi mau Apana, ua pono ole ka manao o kekahi poe, no ka noho alii ana o ka poe mea keiki lehulehu, aole kokua iki in a kula. A he oiaio no, he kumu maoli no ko lakou kaumaha; no ka mea, nui na kanaka ikaika a me ka lako no hoi, aole nae i kokua iki in a hana e naauao ai ka lakou mau keiki, a ua hooiliia keia kaumaha maluna o kekahi poe nawaliwali a me ke hune, a pono ole ke kaikai ae.\n",
      "            Ua hai mai kekahi poe kumu i ko lakou makemake e hookaaia ko ke Aupuni aie ia lakou ma ka aina. He mau makahiki ka waiho ana o kekahi aie, a he mea pono no ke hookaa koke ia, i oluolu ko lakou manao.\n",
      "            O ka hooikaika ana e helu pono i na kanaka a pau o keia Pae Aina, ua poho; a na oukou e noonoo i mea e hiki ai ke hana i keia hana nui. Aole i hoakaka pono ia ka poe hanau a me ka poe i make, aole hoi i maopopo ka nui a me ke emi ana o na kanaka ma na palapala i loaa mai.\n",
      "            O ka nui o na haumana kula Aupuni i hoakakaia no ka makahiki 1847, ua oi mamua o na makahiki mamua; eia ka oi, he umikumamakahi haneri. Ina i helu ia na haumana iloko o na kula a pau loa ma keia Pae Aina, aole emi i na tausani he iwakalua. A ua manaoia, aole makahiki mai ka i hiki mai ai ka olelo a ke Akua a hiki i keia wa, i oi aku i keia, no ka holo mua ana o ka naauao ma Hawaii nei. Ua mahuahua ka makemake o na kanaka i keia hana, a ina i holo mua, nui a mau aku hoi, na pomaikai e loaa mai ai ma keia hana.\n",
      "            Eia no nae kekahi mau mea keakea nui i keia hana maikai, aole hoi e pono loa na kula ke pau ole keia mau mea.\n",
      "            1. O ka palaka a me ka naaupo o na makua.\n",
      "            Aole i hoomalu pono ia ua hale a me na keiki iloko; nolaila, aole hele mau o na keiki i ke kula; a ua lohi ko lakou ike. He mea keia kaumaha ai ke kumu a keakea hoi i kana hana.\n",
      "            He oiaio no nae ua ikaika kekahi poe makua i ka imi naauao no na keiki a lakou, ua hoihoi ko lakou naau i ke kokua i na kumu a ma ne Kahu, i hele mau na keiki i ke kula, a ua imi i na Buke a me ka leko e pono ai na keiki ke kula.\n",
      "            2. Eia hoi kekahi mea keakea i na kula; O ka nele o na haumana i ka Buka ole, papakahakaha, pepa, a me kela mea keia mea e pono ai. He nui no ia mau mea, a ua oluolu ke kuai ana , aohe kaumaha; aka, ua nele na haumana; no ka hune o na makua kekahi nele, a no ka hoomalau kekahi.\n",
      "            3. Eia ke kolu. O ke pono ole o na hale kula. He hale pili pono ole wale no ka nui; aohe noho, aohe papa, aohe lako maloko, aohe hoi he pani a me ka puka makani o kekahi mau hale kula; i ka wa ua, aohe oluolu o na haumana iloko, a ku a mai maloko kekahi. O ka haawina no na kula, ua kokoke pau i ka uku ana i na Kumu a me na Kahu, uuku koe e hana'i a maikai na hale kula kahiko, a e kukulu ai i na hale hou. Ma ka Papa Hoike a'u i hai aku nei $2,585,38 i lilo no na Hale Kula iloko o ka makahiki 1847.\n",
      "            O kekahi mau kula, ua hoopau ia no ka hale ole; a o kekahi mau kula hoi, ua hoomaha i ka wa ua, no ka hale ole; a o kekahi mau kula, aia iloko o ka hale noho o na kanaka a malalo o na laau malumalu kahi e kula'i. He nui na dala e kukulu ai i na hale kula hou a e hana hou ai i na hale kahiko e like me ka mea ku pono i ka naauao; a ua manao ia hoi, ua pau e ka haawina i keia manawa aohe lawa pono no ia hana nui.,\n",
      "            Ua paa kekahi mau hale kula maikai, he mau hale paa, na na kanaka i hana ma ko lakou makemake iho, a ua paa kekahi mau hale i ka hana Poalua i keia makahiki i hala iho nei.\n",
      "            4. Eia ka hana o na mea e pono ole ai na kula. O ka pono ole o kekahi mau Kahukula.\n",
      "            Ua akamai maoli no kekahi poe Kahu a ua malama pono no hoi, a ua pono no ke mahaloia lakou e ke Aupuni a me na kanaka. O kekahi poe Kahukula hoi, ua hawawa a me ke kolohe maoli, ua pono ole ka noho ana imua o na kanaka, ua palaka i ka lakou hana, a i kekahi manawa, ua hana i mea e kue ai na aoao pule. No kekahi mau Lunaauhau kekahi pono ale, aohe malama pono i ka lakou hana, a nolaila, ua hapa ka waiwai i loaa mai no na kula. Aole hoi i noho oluolu na Kahukula me na Lunaauhau ma kekahi mau Apana, ua kue kekahi i kekahi, a nolaila, ua nawaliwali laua a elua, a ua poino na kula no keia mea.\n",
      "            5. Eia ka lima, o na mea keakea i na kula O ka kapa o na kumu makaukau. U amakaukau kekahi poe kumu ma ka ike, a ua pono hoi ko lakou noho ana, aole nae i makaukau i ka hoomalu i na kula; a nolaila nui ka walaau a me ka haunaele. O kekahi poe kunu hoi, aole ma ka hoomalu i na kula wale no ko lakou hemahema, ma ka ike ole kekahi a ma ka molowa, a me ka apiki maoli. Ma kekahi mau Apana, aole loa e loaa na kumu ku pono e like me ke Kanawai. Ma keia mau mea ua akaka, he mea pono no ke Aupuni ke kokua ikaika i na kula a pau ma keia Pae Aina, kahi e loaa mai ai na kumukula makaukau.\n",
      "            Iloko o kekahi mau kula, ua huiia ka hana maoli me ke ao ana i na palapala. He mea pono loa keia i ko'u manao, a ua pono no ke paipai nui i na kula a pau e hana pela.\n",
      "            O ke \"Kula Alii\" ma Honolulu a ke Aupuni e malama nei; eia na dala i lilo i ua kula la i keia makahiki i hala iho nei $3,411,04. Ua maikai keia kula i keia manawa, a o na kumu kahiko no na kumu o ia kula.\n",
      "            O na Kulanui i hoakakaia mamua, i kokua ia e ke Aupuni i ka pono oia mau no ko lakou ano. Oia oi ke Kulanui Hoole Pope ma Lahainaluna, a me ke Kula kaikamahine ma Wailuku, a me ke kula Katolika ma Koolau Oahu.\n",
      "            Ua oleloia, ua maikai maoli ke kula hanai ma Hilo Hawaii a me ke kula ma Hanalei, Kauai, no na keikikane Hawaii wale no ia mau kula. He mau kula maikai e ae no hoi ma kahi o na Misionari, a ua ao ia hoi e lakou.\n",
      "            O na kula no na keiki keokeo wale no, elu wale no ma keia Pae Aina; hookahi ma Kapunahou, iloko hoi na haumana he 22; a o kekahi, eia ma Honolulu nei, me na haumana he 16.\n",
      "            Ua aoia keia mau kula elua ma ka olelo Beritania; iloko o kela kula ma Kapunahou nae, ua aoia na olelo e, a me na mea hohonu e ae.\n",
      "            Ekolu kula e ae ma Honolulu nei, a hookahi ma Lahaina, kahi e oia'i na keiki haole a me na hapa haole, a me na keiki Hawaii ma ka olelo Beritania. He mau kula pualu wale no keia a pau loa, a ua oleloia he mau kula maikai maoli.\n",
      "            Ina i houluuluia na keiki a pau i aoia ma ka olelo Beritania ma keia Pae Aina iloko o keia mau kula, ua kokoke elua haneri.\n",
      "            O ka nui o na Kahuna pule haole ma keia Pae Aina, eia no,\n",
      "            Kahuna Hoole Pope 26. Kokua Misionari Hoole Pope K. 12. Kokua Misionari Hoole Pope W. 39. Hui 77. Kahuna Katolika 15. Kokua Katolika 10. Hui 25,\n",
      "            O ka hana a na misionari, he mea nui ia e pomaikai ai ko keia Pae Aina; a nolala, he mea pono ke hoomalu ke kanawai i na aina a pau o na Misionari. A eia ko'u manao, e paa mau loa ia mau aina na ke Aupuni ma ke Kanawai, a e lilo paa loa no hoi no ka hana i haawiia'i kela mau aina i na Misionari e noho nei ma keia Pae Aina.\n",
      "            O ka nui o na keiki o na Misionari hoole pope ma keia Pae Aina i keia manawa, eia no,\n",
      "            O na keiki 10 makahiki akeu 39. O na keiki malala o na makahiki 10, 90. Hui 129. e pono ia oe kou ke noonoo i pono no keia poe keiki Misionari.\n",
      "            Ua hooikaika nui keia Oihana e hooko i na haumana hoomalu i na aoao pule, aole hoi i loaa mai kekahi pilikia nui iwaena o keia mau aoao, ia'u e malama ana i keia Oihana.\n",
      " \n",
      "Na Palapala Maoli.\n",
      " \n",
      "Hilo, Maraki 27, 1848.\n",
      "            Aloha oe, e ka Elele Hawaii. Ke hai aku nei au ia oe i ka make ana o Ioba Lelekelana. I ka la 19 o maraki nei kona make ana, ma Kahilipali, Kau. He hoahanau aloha na o Ioba. Loihi kona noho hoahanau ana me ke kanalua ole a me ka hoihope ole. He puuku ekalesia no ia, a ua hahau mai Iehova ia ia me ka mai ehaeha ma kona kino, aka, ua mau kona paulele i ka Haku ia Iesu.\n",
      "            I ka wa kokoke make, kauoha mai kela i na hoahanau, \"Mai kaumaha oukou no'u, ua hahou mai ke Akua ia'u i keia mau la, i mihi au i kuu hewa a'u i hana'i. E pule oukou no oukou iho, a no'u kekahi.\"\n",
      "            Eia kekahi, i ka la13 o keia mahina, ua make aku o Kaapa ka wahine mua a Ioba lelekelani a oia ka makuwahine o L. Laanui, ka Lunakanawai no Kau. He hoahanau no ia.\n",
      "            Kokoke pau na hoahanau kahiko ma Kau. Ua hele e lakou, ua pau ka lakou hana. O ka poe opiopio wale no i koe. Nolaila, ea! e kiai oukou, no ka mea, aole oukou ike i ka hora e hiki mai ko oukou haku enoho ai me ka makaukau. Heaha ka pomaikai no ke kanaka ke loaa ia ia keia ao a pau, a lilo aku kona uhane?\n",
      "            Eia kekahi. I ka la 22 o Maraki i ka poakolu i hala aku nei. Ua holo aku kekahi kanaka o Hilo e laweia. Ma ke kakahiaka kona holo ana, oia wale no, a ma ke ahiahi ua hoihoiia ka waa e ka makahi. Oka mea nona ka waa, aole, aia no kona kupapau e moe ana maloko o ka waa a me na ia elua. Ua make loa. He hoahanau no ia, he kanaka nui, ikaika, puiwa kona kino. Aohe mai, he make aha la keia? Aloha oe. Na'u na J.D.P.\n",
      "------------\n",
      "                                                            Punahoa, Hilo, Maraki 27, 1848.\n",
      "MAI NANA I KO HAI HEWA.\n",
      "            Ko Hawaii mau, he nana i ko hai hewa, ina ua loaa ka hewa i kekahi mea, ua hopu koke ke kanaka a hookaulana koke, aole hoi ona hoomanao i ka pula nui iloko o kona maka iho, aole paha e hemo i ke kanaka hookahi a elua paha e unuhi ai, no ke kaumaha; ua manao au, i hookahi kaulua bipi kauo, nana e kauo na kua ohia iloko o kona maka iho, a hemo mua kona paumaele, alaila, bipi ke olelo alu ia hai.\n",
      "            Ke lele nei ia kanaka me he aito lele la ma la maka o ka la me ka makau ole, a me ka olelo iho nani kuu kiekie, aohe manu e like me a'u owau no ka i lele i ka maka o ka la me ka wela ole. Aole oe i ike i ka wa e haki ai kou eheu a haule kona kino.\n",
      "            Ke noi aku nei au ia oe, ina he mea oluolu ia i kou manao, ina i lealea oe i ka mea a'u e noi aku nei, e heluhelu oe maloko o ka Palapala Hemolele, a e ike auanei oe malaila; he mea hiki ia oe ke unuhi mua i ka pula o kou maka, a mahope i ko ka hoahanau. Aloha oe.\n",
      "                                                                                                L.W. KAHIONA.\n",
      " \n",
      "------------\n",
      "            He hoopaapaa no na Komohiki me na Kumukula ma Kalaupapa nei, no ka mahiai ana o na kumu me na haumana ma na aina kaawale.\n",
      "Kalaupapa, Molokai, Maraki 22, 1848.\n",
      "            Aloha oe e ka mea hoopika'ku i ka Elele, a me ke Kuhina Aopalapala, oia hoi ke Kuhina Kalaiaina, me olua ka malu me makou ka pomaikai, a me ka lanakila.\n",
      "            He wahi manao hoakaka ko'u ia olua, no kekahi pilikia i hiki mai ma Kalaupapa nei; eia ua pilikia la. I ka malama o Ianuari 3, 1848, olelo mai la o Limaikaika ma ka halwai kumu a makou. Penei kona manao i olelo mai ai, \"ua kauoha mai o Keoni Ana e hana pu na kumu me na haumana ma na aina kaawale a me a koele waiho wale o ke Aupuni,\" a lohe makou i keia manao, aole makou i hooko i keia manao, a aole i liuliu hiki mai la ka olelo a Keoni Ana ma ka Elele pepa 18 e like pu no me kela mau olelo maluna, alaila, lalau au me puaa, o Makanalua, o Paooole ka inoa o ua ili aina nei, a i kuu lalau ana, pau ia'u hookahi mala, kupu ka'u mea kanu, he ipuhaole, a mahope iho kanu makou he mala ko, aole i kii mai na Konohiki ia manawa e aua i kahi a makou i kanu ai, a i ke kanu hou ana o makou i mala uala, ia manwa kii mai la na Konohiki e aua u ka mala uala a makou, penei ke ano o kona kii ana mai, ua komo pu kekahi hapa o ka poalima iloko o ka mala uala a makou; nolaila, huhu kela ia makou me na haumana, a hoopilikia mai ia makou.\n",
      "            Hele mai la keia imua o'u o W.N. Pualewa, a olelo mai la me ka leo ikaika; \"nawai i haawi ia oe i keia aina?\" olelo aku la au e nana oe ma ka Elele pepa 18, malaila kahi i haawiia ia mai ai ia makou, a ma ke kanaka ole kekahi o keia ili aina. Olelo hou aku la au, ina oe  e manao ana e hoopii i kou hakuaina, aia no ia i kou manao. Olelo mai la kela penei, \"mai noho oe a mahi hou iho maluna o kuu aina, no ka mea, ua kauoha mai o Kekauonohi i kona mau aina, aole e mahiai na kumu me na haumana,\" Alaila, olelo aku la au, ua kuhihewa paha oe ua lilo loa keia aina ia'u, ea, aole loa au i ae ia mai pela, eia wale no ka'u i ae ia mai ai, o ka mahi wale iho no a pau ka makou mea kanu i ka ai, alaila, nou no ka lepo.\n",
      "            Eia keia, o keia ili aina o Paooole, aole he kanaka, he aina waiho wale iho no, mai ka makahiki, he aina waiho wale iho no, ma Ka laupapa nei a hiki mai i ka makahiki 1848, aole au i ike ua mahi ai ia keia aina, aole loa no, aka, i ka manawa a makou i lawe ai a mahi, kii mai la, na Konohiki e aua i keia aina. I ko'u manao, he keakea maoli keia, a ua pili i kahi pauku a ke Kanawai i kauoha mai ai no ka hoonahelehele aina. Eia ka'u ia olua, ua oiaio anei ua papa o Kekauonohi i kona mau aina aole e mahi ia e na kumu me na haumana? Ina ua oiaio ua papa mai na Konohiki i ko lakou mau aina aole hiki ia makou ke mahi me na haumana.\n",
      "            Eia keia, e kukulu iho olua i mau ipuhao paila wai wela ma ka Elele, i mea hoomahanahana no ke anu o na Konohiki, malama paha no ke anu o ka lehelehe, nolaila, hemahema ka olelo ana. Eia malalo nei ka inoa o keia poe kanaka i hoopilikia mai ia makou, o Kamakee, ua hoopilikia oia ia Koa kumukula ma Kalawao, o Kaoha a me Kalahili ua hoopilikia mai oia ia makou i na keiki omo waiu ma Kalaupapa neo. Ua pau keia wahi manao.    W.N. PUALEWA.\n",
      " \n",
      "----------\n",
      " \n",
      "            Olelo paipai i na Makua mea Keiki ma ka'u hale kula ma Honuaula nei.\n",
      "Honuaula, Maui, Maraki 21, 1848\n",
      "            Aloha oe e ka Elele. Ka mea mama i ka holo mai ka akau a i ka hema, ka hikina a me ke komohana, e hai ana i a mea pilikia he nui wale.  Eia hoi keia pilikia au e wehe mai ai, no na makua hoomaloka, a hoowahawaha i ka naauao o ka lakou mau keiki.\n",
      "            Penei ke kumu o kuu ike ana i ka hoowahawaha. O ke kuai ole i palapala na ka lakou mau keiki. Hele wale mai ke keiki ma ka hale kula me ka hemahema, a makaukau ole no na mea kula. Ninau aku la au. No ke aha la ka loaa ole ana ia oukou o ka Helunaau, a me ka Helukakau? Olelo mai la ka haumana, no ke dala ole. ole he loaa mai o ke dala i ko makou mau makua I aku la au, kupanaha loa, he hapawalu wale no ke kumukuai o ka helu, a no ke aha la ka minamina i kela wahi hapawalu, i mai la kekahi haumana, olelo mai ko makou mau makua, e haawi wale mai no ka palapala, i aku la au, ina pela, i aha auanei ke ola o ke Kahunapule. Alaila, olelo hou mai ua poe haumana pakike nei, aole makou e lawe i ka palapala, ina he palapala haawi wale mai la, alaila, lawe makou. Alaila, no ka ae ole ia mai o ko'u manao paipai alu i na haumana a me na makua e imi i mea e pono ai o ke ao ana. Ua hemahema loa ko'u hale kula ma na palapala imi naauao, no ka pakike loa o na makua a me ka hoolohe ole o na keiki. Nolaila, hemahema au i ke ao aku, e hiki ia oe ke paipai mai i keia mau makua e hooikaika ma ka imi palapala na ka lakou mau keiki.\n",
      "            Eia ka mea kupanaha loa a'u i ike ai, i kekahi kula kakahiaka o makou, hele mai la na haumana i ke kula, a komo ma ke keena kula, aole nae he palapala ma ko lakou lima, a mahope iho, komo mai la he mau puaa na Kaumaea, maloko o ko'u keena kula, alaila, i aku la au. Ua like loa oukou me keia mau puaa, ka hele walemai, aole he palapala ma ko laua mau wawae, manao au ma i paio aku kekahi haumana i keia mau puaa, ma ua wehewehe mai keia mau puaa hai olelo, no ka hoomaloka o na makua o keia mau keiki. Auhea oe e ke Kuhina no ke Aopalapala, mai huhu mai oe ia'u no kuu paipa aku i na makua o keia mau keiki i mea e pono au o ke ao ana, nau no e hooikaika mai i kaeia mau makua, i ole e poho ke Aupuni. Hookahi wale no wahi helu ia'u e ao aku ai, o ka noho wale mai la no ka na haumana. Nolaila, kaumaha loa au i keia hana, a nolaila nawaliwali ke ao ana. Aloha oe me ka mahalo mau loa ia.\n",
      "                                                                                    Na S. KALAWAIA.\n",
      " \n",
      "--------------------------------------------------------------------------\n",
      " \n",
      "AHAOLELO HAWAII.\n",
      "            I ka la 29 o Apelila akoakoa ka Ahaolelo no keia Aupuni, iloko o ka luakini ma Kawaiahao, i ka hora umi. Hele mai ka Moi, mai kona hale mai, me kona poe Kuaina, a me na lii a pau, e kani ana na mea kani, a ua pau na lii i ke kahikoa i ko lakou nani.\n",
      "            Pau lakou i ke ku iluna, pale i ke Akua o Limaikaika. alaila noho nui ilalo. O ka hai aku no ia o ka Moi i kana olelo imua o ka Ahaolelo. Eia kana olelo.\n",
      " \n",
      "E na Lii o ka Ahaolelo a me ka Poeikohoia,\n",
      "            Olioli au i ka halawai hou me oukou e kukakuka pu e pono like ai na mea a pau e noho ana malalo o ko'u Alii ana\n",
      "            Ua kauoha aku au i ko'u poe Kuhina e heluhelu mai imua o oukou i ka lakou palapala hoike i na hana o ka lakou oihana no ka makahiki i hala aku nei.\n",
      "            Ke mau nei ka oluolu o ka noho pu ana o ko'u Aupuni me na Aupuni e ae a pau, a kakou e launa nei. Ua hooiaio oluolu ka Moi ke Lii o ko Farani i ke Kuikahi o ka la 26 o Maraki 1846, e like me ke ano o ka ka Moi ke Lii Wahine o Beretania Nui hooiaio ana i ke Kuikahi Beritania i kakauia ia la no.\n",
      "            Aole Kuikahi i hanaia me Amerika Huipuia a hiki i keia la.         \n",
      "            Ua hana au i Kuikahi me ke Aupuni kanaka a me ke Kulanakauhale Hanescatika Kuokoa o Hamebaga a ke manao nei au e lilo auanei ia i mea e pono ai ke kalepa ana ma ko'u Pae Aina.\n",
      "            Ua mahele oluolu ia na aina, a holo iwaena o'u a me ko'u poe Konohiki, a ma ia hana ua weheia kekahi hihia nui o ka aina. Ua hookaawale au i kekahi poe aina i waiwai no ko'u poe Alii a me na kanaka, aia no nae ia oukou ka hooholo i na rula no ka hooponopono ana. Ua hookoe no hoi au i kekahi poe aina no'u ponoi, a e ii ana i ko'u poe hooilina a mau loa aku, E manaoia nae ke kuleana o na kanaka e noho ana ma ua mau aina la. Nolaila, e pono ia oukou e kau i kanawai no ka malama ana, a no ka hooponopono ana, a no ka hoolilo ana i ua poe aina la, a e imi, e like me ka mea e hiki ai ia oukou, i wahi e lilo ai ka waiwai a me ka hana i mea e maikai ai ua mau aina nei, i mea hoi e ulu mai ai i waiwai e uku aku ai no ka waiwai o na aina e laweia mai.\n",
      "            No ka make ana o ko'u Kuhina Aopalapala, o ka mea i alohaia, ua ikea kekahi hihia ma ka hooponopono ana i ka waiwai i hookaawaleia no na kula. E pono ia oukou ke ninau, a e imi, malama paha o akaka mai ia oukou ke kokua pono no keia mea e maikai ai ke Aupuni, a e pau ai hoi i ka auhau hana; aka, i ka oukou haa a pau, e hoomanao oukou i ka manao like i oleloia no ka poe Katolika a me ka poe kue i ka Pope.\n",
      "            Ke kauoha aku nei au oukou e noonoo pono i ka pili ana o na kanawai, a e hoano e i na mea i ikeia, ma ka hoao ana he pono ke hana hou.\n",
      "            O na olelo ana mai a Beritania Nui laua o Farani, oia ka mea e hooikaika ae ia'u i kuu manao paa e hoole aku i ke keakea ana mai o ko na aina e ma ka hooponopono ana i ko'u Aupuni; aka, e hoomanao kakou i ke Akua ma na manawa a pau, oia ke kumu o na mea maikai a pau, e hoomaopopo kakou ia ai, e imi i mea e hoonani ai ia ia ma ka kakou hana a pau a me ka olelo ana; o ka aoao haipule a me ka noho pono ana, oia ke kilohana o ko'u Aupuni.\n",
      "            Na ke Lii Nui o na Aupuni a me na kanaka e alakai ia oukou i ko oukou imi ana a pau, i ko oukou kau ana i na Kanawai pono, a me ka naauao a me ka paewaewa ole, i mea e hooulu ai i ka noho pono ana o ko'u poe kanaka, i mea e hoonani ai i ke Akua, a i mea e ulu ai ka lokomaikai no na kanaka a pau.\n",
      "            A pau ka ke alii, ku iluna o Namakaeha e hai aku i kona manao. Mahalo oia i ka ke Alii olelo, a paipai hoi oia i ka Ahaolelo i imi pu i ka pono no ke Aupuni. Pau kana, ku iluna Kekino, oia kekahi o ka Poeikohoia, e hai aku i kona manao. Hoike pololei oia i ka naauao o keia wa, mamua o kela wa kahiko; maluhia keia wa; maikai na kanawai, paa ke Aupuni; oluolu ka noho ana. Aole me keia i ka wa kahiko, he ino loa ia wa. Ke ano maikai wale no keia o ka Kekino olelo. Ia Kapeau kekahi olelo uuku. Alaila i kohoia o J.Y. Kanehoa, Wana, a me J. Piikoi, e pane ae i ka ka Moi: eia ka lakou olelo,\n",
      "            Ma ka aoao o na Lii o ka Ahaolelo a me ka Poeikohoia e na Makaainana o kou Aupuni, ke noi aku nei makou e hele mai imua, ou e ka Moi, me ke aloha, a me ka hoolohe a me ka hilinai ana.\n",
      "            Ke manao nui nei makou i kau olelo ihiihi e ka Moi, a i kou noi ana aku i ka Uhane o ka Mea Mana e kuhikuhi mai a e alakai mai ia makou; ka makou hana ana.\n",
      "            Ke hoomanao nei makou i kekahi mau mea au i hoike mai ai e ka Moi i na makahiki mamua, aka, no ka pokole o ka manawa, a no ka hemahema, aole i pau i ka hanaia. I keia Ahaolelo ana, e hoao ana makou, ke hoomaikaiia mai e ke Akua e hanaia e like me ka ikaika i loaa mai ia makou.\n",
      "            Olioli makou i ka lohe ana ua nana oluolu mai na Aupuni o na aina e i keia Aupuni uuku, a i ka lohe ana i kou hooikaika mau ana e ka Moi, i alii maluna ma ke ano kuokoa, a me ka launa like ana i na aina e a pau.  E nana pono auanei makou i ka mahele aina i hooholo maikai ia iwaena ou, e ka Moi, a me kou poe Konohiki, a e hana i ka makou olelo me ka manao nui i kou pono, i ka pono o na Konohiki, a i ka pono a na Makaainana, a me na mea kuleana i na aina.\n",
      "            E hooikaika auanei makou i na mea a pau i ka hana, oia ka mea e ulu ai i ka haipule a me ke noho pono ana, e nui ai kou poe kanaka, e ka Moi, a e waiwai ai a e pomaikai hoi lakou.\n",
      "            No ka manao ana i ka pomaikai nui, a me ka hele mua o ka noho ana iwaena o na makahiki he 26 i hala aku nei, no na kula a me ka aoao Kristiano i hoolahaia mai iwaena o kakou, he mea pono ia kakou ke kokua i na Misionari a me na kula a me na kumu, i mea e pono loa ai ma keia hope aku.\n",
      "            Ua kaumaha io ke Aupuni no ka make ana o W. RIkeke ke Kuhina Aopalapala.\n",
      "            Aia no ia oe, e ka Moi, ka pani i keia hakahaka e like me kou manao.\n",
      "            E noonoo auanei makou i na hoopii no na kanawai a no ka hoopili ana, a ina he hihia io, e hana aku no makou malaila.\n",
      "            E like me ka nui o ka waiwai o ke Aupuni, e hiki no ia makou ke hooholo i ka lilo ana o na dala no na mea a pau e pono ai kou Aupuni.\n",
      "Na ke Akua e malama mau i ka Moi.\n",
      "            Ia la ae heluhelu na Kuhina i ka lakou mau olelo hoike no ka lakou hana; e paiia ma ka aoao mua o keia pepa i ka olelo hoike no ke Kuhina no ke Aopalapala.\n",
      "            I ka la elua o Mei hoomakaia ka hana maoli a ka poekau Kanawai, a ma ia hope mai ua kau pinepineia ka Hae o ko lakou hale halawai. Aole makou i hele aku malaila; aka, ua lohe wale, he nui ka olelo a he nui na hana no na aina, a no na Kanawai hou i manaoia e hooholo.\n",
      "            Ua lohe makou ua laweia'ku imua o ka Ahaolelo ka olelo hoopii o kekahi poe mea holoholona no ko lakou kaumaha i uku ana i palima ke dala no ke komo hewa ana iloko o ko hai aina, a ua hoopii mai kekahi poe he lehulehu, aole make wehe i ke Kanawai; pela, mai ka mea nana i hoike mai ia ia makou, aole nae i akaka ka mea i hooholoia e ka Ahaolelo.\n",
      "            Eia ka mea i maopopo ia makou, ua oleloia mai makou e pai, ma keia hope aku, iloko o ka Elele, i na Kanawai hou a pau ke hooholoia; a nolaila, o ka poe a pau i makemake mai e ike koke i na Kanawai hou; e pono ke lawe i ka Elele, i hiki ai ke heluhelu ae.\n",
      " \n",
      "KA ELELE HAWAII.\n",
      "HONOLULU, OAHU, MEI 7, 1848.\n",
      " \n",
      "            I ke ahiahi o ka la alua o iune nei, ua ku mai kekahi oku Hawaii, o Starling ka inoa, mai Mesiko mai, a he nui na mea hou a kupanaha hoi i loaa mai ai.\n",
      "            NO FARANI. Ua kipi ko ke kauhale alii, ko Parisa poe, a no ka lehulehu o lakou, a no ka nui loa o ka haunaele a me ka huhu, ua haalele ka Moi, o hui Pilipi i kona noho alii ana! Ua aeia oia, a o kona ohua pu kekahi e hele mai Parisa aku me ka poino ole. Ua oleloia, ua hiki aku la lakou i Enelani, o Pilipi no i koe. Ua manaoia ua mahuka aku la ia i Amerika Huipuia; aole nae akaka. Ua komo na kanaka hoohaunaele a me na koa iloko o ka hale alii, a ua hoolei lakou iwaho i na mea a pau, a puhi i ke ahi. He nui wale ke kaua maloko o Parisa, a ua hookahe nui ia ke koko. Elima haneri kanaka i make i ua kaua la. He nui hoi ke kukakuka ana o ka ahaolelo e hoomalu ai ke Aupuni. Lokahi ole ka manao. Eia no ka manao nui a ikaika loa no hoi o kanaka, e hoopau i ke Aupuni alii, a e kukulu i wahi Aupuni no lakou e like me ke Aupuni o Amerika Huipuia.\n",
      "            Eia hoi, ua pee aku la ke Kuhina nui, a ua manaoia ua pepehi maoli ia oia.\n",
      "            Eia hoi kekahi mea. Ua hooholoia ka manao e kaua pu me ko Auseturia a ua hoounaia na koa he 80,000 e kaua pu me ko laila poe.\n",
      "            NO BELEGIUMA. Oia hoi kekahi Aupuni e pili an ama ka akau o Farani. Ua oleloia, ua huiia ko laila poe me ko Farani, a ua mahuka aku la ka Moi pu me kona ohua.\n",
      "            NO GEREMANIA. Ua kipi hoi kekahi mau apana oia aina, a ua pee aku la na 'lii iloko o Holani. E like me ko Farani pela no ke Geremania, ua hoopau lakou i ke Aupuni alii, a ua hoakaka lakou i ko lakou manao paa e pani ka hakahaka me na Aupuni ano like me ko Amerika Huipuia. He nui loa ka haunaele a me ka hookahe koko.\n",
      "            NO AUSETURIA. Ua haalele ke Kuhina nui i kona Kuhina ana, aole nae akaka ke kumu. He elemakule ia He kanalima a keu aku na makahiki o kona noho alii ana e kokua i ka Moi i kela hana a i keia hana.\n",
      "            Eia hoi kekahi. Ke kaua ae la ka Moi o Auseturia me ka Pope, a ke hele ae la na koa he 150,000 ia Roma e hoopilikia ae i ka Pope. Kokua nae kekahi mau aupuni e ae i ka Pope.\n",
      "            NO BERETANIA. Ua oleloia, ua haunaele ia aina, ma Enelani kekahi, a ma Ierelani hoi kekahi, a ua mahuka aku la ka Moi wahine o Victoria. He makani wale paha keia.\n",
      "            NO MESIKO LAUA O AMERIKA HUIPUIA. Ua kuikahi laua. Ua ae ka ahaolelo Amerika i ka olelo kuikahi, ua koe ka Mesiko, a ua manaoia e ae no ia. Eia hoi na mea i aeia, ua lilo na apana elua o Mesiko Hou laua o Kalifornia-luna no Amerika Huipuia, a ua haawi ko Amerika poe i mau dala he $15,000,000 i mea e pani ae i ka hakahaka. Pomaikai loa ko Mesiko poe ke ae lakou.\n",
      "            Auhea oukou, e na'lii a me na makaainana o Hawaii nei. E hoomaikai aku i ke Akua ia Iehova, no ka maluhia o keia Pae Aina, aole haunaele, aole kaua; aole hoi he wi. E ao oukou o pau auanei keia pomaikai io ko oukou mau hewa. E noho me ka haahaa a me ka haipule, me ka imi pu i na mea e pono ai i na aupuni elua, i ke aupuni Hawaii laua pu me ke aupuni o Iesu. Pela oukou e pakele i ka poino e kau nui mai ana i keia w maluna o Europa a pau. E pule hoi i ke Akua, i lilo keia hiolo nui ana o na Aupuni kahiko i mea e piha ae i ka honua nei i kona nani.\n",
      " \n",
      "            Aloha oe e ka Elele. Ua kauoha mai ko-u mau hoahana aloha, o na misionari ia'u e hoike aku i kekahi mau mea a makou i hana ai ia i ike ai hoi ma keia ahaolelo a makou.\n",
      "            Ua hoomaka makou i ka makou ahaolelo i ka la 10 o Mei. Eia ka nui o makou ma keia halawai, 37 kane, 31 wahine, a me na keiki 10.\n",
      "            Nui na mea a makou i kuka ai, a nui hoi na manao i hooholoia ma keia ahaolelo. Eono hora a makou i ahaolelo ai i kela la i keia la; a ua halawai pinepine i ahiahi hoi. Ua haipule pinepine makou, a ua hookaawale hoi kekahi mau manawa no ia hana a no ka kuka nui ma ka ke Akua olelo.\n",
      "            Eia kekahi, ua halawai mau na keiki a makou i na kakahiaka a pau e hoolohe i ka ke Akua olelo. He halawai okoa ka na makuwahine e kuka ma na mea e pono ai i na keiki a makou a e pule i ke Akua no lakou, Ke manao makou ua lohe ke Akua i ka pule a na makua, no ka mea, ua huli mai kekahi poe keiki, i ka nana'ku. He poe huli kahiko mai kekahi, a ua hookomoia iloko o ka ekalesia he 14 i ka la hookahi. Ke hoomaikai nui nei makou ia Iehova no keia hua a ko ai kona aloha a me kona lokomaikai.\n",
      "            Eia kekahi hana a makou. Ua hooliloia o Ioane kekahi kumu ao a makou i kahuna pule. Ua kau makou i ko makou mau lima maluna ona a ua hookaawale aku a ua hoolaa aku ia ia i kahuna pule e lawelawe pu me makou i keia oihana, a ua hoonoho makou ia ia maluna o ka ekalesia ma Waioli Kauai i kahu hoahanau, a i kahuna hai olelo malaila.\n",
      "            Ua pau ka makou ahaolelo ana i ka la 3 o Iune, a ua ae like makou e halawai hou ma Honolulu nei i ka malama o Mei 1850.\n",
      "            Eia kekahi hana a makou, o ka hoololi i ka noho ana o kekahi poe a makou, a me ka hoonoho ana o Mi Kini a me kana wahine, a me Diwaita, na kumu hou.\n",
      "            Peneia ka hana. O Kalaka ma Honolulu, e pani i ka hakahaka o Limaikaika, no ka mea, e lilo ana ia i Kuhina Aopalapala. O Konede ma Wailuku, o Analu ma Lahainaluna, no ka mea, ua haalele o Mika Hana i ka makou hana. O Mika Diwaita ma Molokai, o Peguea ma Kealakekua, a o Kini ma i Kau.\n",
      " \n",
      "--------------\n",
      " \n",
      "KA ELELE HAWAII.\n",
      " \n",
      "            Eia mai keia paahana, ke hoopuka ia nei; ua ano hou ae la, a ua maikai hoi. O Kana hana, ea, e like me mamua, e hai aku i na mea hou, a e hoomanao i na kanaka Hawaii ma na mea o ke kino a me na mea o ka uhane.\n",
      "            E pono ia oukou a pau e kokua mai ia ia, e palapala mai i na mea hou ma ko oukou wahi, a e hoike mai hoi i na manao maikai e kupu ana iloko o oukou. E palapala nae ma ka pepa maemae, me na hua akaka, a me na kiko pono, a me ka noonoo nui, i pono ke pai ana. Ina hemahema ka palapala ana, oia kekahi mea e pai oleia ai.\n",
      "            Eia kekahi, e heluhelu pono i keia pepa, i ike oukou i na mea hou o kela aina keia aina. Mai waiho wale i keia pepa me ka hoowahawaha a me ka hoomaloka.\n",
      "            Eia kekahi; e ala kakou e hana i ka hana; e pau ka noho wale. Na ka Elele e paipai ia oukou e hana i na hale maikai, a me na mea e lako ai maloko, a me na pahale; e kanu laau malumalu, laau hua. Mai hoopoho manawa ma ka hiamoe, kamailio wale, puhi baka, a me ka piliwaiwai; e aho e hoopiha i na hora i na hana maikai a pau; oia ka mea e kieie ai keia lahuikanaka.\n",
      "            Eia kekahi; e paiia ana ka Elele e like me mamua, elua pepa i ka malama hookahi, a o ka uku he hapaha no ka makahiki, oia hoi no na makaainana; e uku na'lii a me na haole $1.00 no ka makahiki; a o ka poe koikoi e ae, e uku lakou i hapalua.\n",
      "            Eia kekahi, e paiia ana na Kanawai hou ma ke Elele, i ike koke na kanaka a pau.\n",
      "                                                            NA LAUKEKE, ka mea e hoopuka'ku.\n",
      "                                                            Hale Paipalapala, Kawaiahao, Mei 6, 1848-\n",
      " \n",
      "Na ke Aupuni.\n",
      " \n",
      "            Ua kohoia o ka Moi a me kona Ahakukakuka Malu, e LIMAIKAIKA, i Kuhina no ke Aopalapala no keia Aupuni, a i Kahunapule hoi no ke Alii.\n",
      "                                                                                    Honolulu, Iune 7, 1848.\n",
      "           \n",
      "He kanawai e hoololi a e hooponopono i ke kauwahi o ke Kanawai hoonohonoho i na hana i haawiia i na Kuhina o ko Hawaii Pae Aina e pili ana i ka hoohiki kupa ana o na Haole.\n",
      " \n",
      "            No ka mea, ua ikeia he mea makemakeia a he mea pono no hoi, no kekahi poe haole ano maikai i hele mai o noho maloko o keia Aupuni, ke aeia lakou e hoohiki a lilo lakou i poe kanaka o ka Moi, maloko o ka manawa e emi ana mai malalo o na makahiki elua; a no ka mea, ua pilikia ka hana ana ma ke Kanawai o ka hoohiki ana o na haole e noho nei; nolaila,\n",
      "            E hooholoia e na Lii o ka Ahaolelo a me ka Poeikohoia o ko Hawaii Pae Aina i akoakoa iloko o ka Ahaolelo; penei, o ka Pauku 10, o ka Haawina 1, o ka Mokuna 5, o ka Apana mua o ke Kanawai hoohonohono i na hana i na Kuhina o ko Hawaii Pae Aina, e hooliloia ia Pauku, a e heluheluia penei,\n",
      "            PAUKU 10. E hiki no i kela haole keia haole o ka aina e ke nonoi mai i kekahi manawa i ke Kuhina Kalaiaina, i lio oia i kanaka o keia lahui; a ina manao ke Kuhina he pono, a ina e hoike mai ka mea nana i hoopai ana o ko kekahi aina, aole he luina mahuka, aole hoi he koa, a luina koa, aole hoi he luna kolaila, alaila, hiki i ke Kuhina Kalaiaina a i kona Kakauolelo nui paha, ke haawi ia ia i ka hoohiki i kupa Hawaii.\n",
      "            E hooholoia hoi keia; o ka hapa o ka Pauku 11, o ua Haawina la, ka hapa hoi e pili ana i ka olelo hoohiki, e hoololiia oia a e heluheluia penei,\n",
      "            A e hoohiki ka haole ma keia olelo maluna o ka Euanelio Hemolele, a kau i kona inoa malalo o ka olelo hoohiki, a e kau no hoi ke Kuhina Kalaiaina, a o kona Kakauolelo nui paha, i kona inoa; a nolaila, e uku mai ka haole i ka uku i oleloia maloko o ka Apana ekolu o keia Kanawai.\n",
      "            Hooholoia hoi keia; e kauia keia Kanawai i Kanawai no keia Aupuni, mai ka la aku o kona hoolaha ia ana maloko o ka Nupepa Polynesian.\n",
      "            Hanaia a hooholia ma ka Hale Ahaolelo, ma Honolulu, i keia la elua o Iune, M.H. 1848.\n",
      "                        KEONI ANA.                                       KAMEHAMEHA.\n",
      " \n",
      "--------------\n",
      " \n",
      "HE Kanawai no ka halawai ana o ka Ahahookolokolo Kaapuni ma ka Moku helu elua.\n",
      "            E hooholia e ka poe Ahi o ka Ahaolelo a me ka Poeikohoia no ko Hawaii nei Pae Aina, i ko lakou akoakoa ana iloko o ka Ahaolelo; penei,\n",
      "            Mahope aku o ka hooholo ana o keia Kanawai, e halawai papalua makahiki ka Ahahookolokolo Kaapuni ma Lahaina, Maui, no ka Mokupuni o Maui, a o Molokai, a o Lanai; e hoomakaia ka halawai mua i ka Monede lua o Mei, a o ka halawai lua ma ka Monede lua o Novemaba.\n",
      "            Hanaia a hooholoia ma ka Hale Ahaolelo ma Honolulu, i keia la mua o Mei, 1848.\n",
      "                        KEONI ANA.                                                   KAMEHAMEHA.\n",
      "Kahi Mele.\n",
      "-----------------\n",
      " \n",
      "HE KANIKAU ALOHA NO PARISA WAHINE.\n",
      " \n",
      "E Parisa wahine e, ka elele mai ka aina Puniole Hikina mai ;\n",
      "Ka ema e hele aku la e ku imua o Iehova ;\n",
      "Ke kani hauoli nei makou nou ;\n",
      "Ke ike ia oe i ka mea hiluhilu o ko ka lani poe ;\n",
      "Ka mea a kakou i lohe ai ;\n",
      "Oia mau mea kau e ike la ;\n",
      "Pau kou ike ana i ka luhi a me  ka mai o keia ao ;\n",
      "Ke ike la oe i ke ao malama mau ;\n",
      "E hookani ana hoi oe me ka olioli ;\n",
      "I kou ike ana i na Puali o ka lani.\n",
      "E Parisa, e , he u a he aloha ia oe,\n",
      "Ua kani hauoli akou a pau nau,\n",
      "I kou ike ana ia Ierusalema hou ;\n",
      "A ua kani kauoli na manu liilii ia oe,\n",
      "Na mea no hoi a pau o ka waonahele ;\n",
      "I kou hele ana i ke ala kioula a Kane, laua o Kanaloa.\n",
      "E Parisa kane e, e u ae oe i kou iwi aoao ;\n",
      "Kouhoa pili o kau wahine,\n",
      "I piliia e olua ka ua me ka la ;\n",
      "Kou hoa ae ale o na kai ewalu,\n",
      "Ke imi nei ia i kana wahine, aole i loaa ;\n",
      "Ke halo nei kau kane ma ka moana Pakifika ;\n",
      "Aole oe i hoike mai.\n",
      "Aia ka oe i luna i ka poli o Aberahama ;\n",
      "E Parisa wahine, e, ka mea i hele aku la ;\n",
      "E nana i na Kiionohi o ka lani ;\n",
      "Mai ka aina Puniole Hikina mai ;\n",
      "E hai ana i ke ala o ke ola mau loa ;\n",
      "Oia o Iehuva o na kaua.\n",
      "Aloha ka ale kualoloa o Alenuihaha,\n",
      "Aloha ka lehua o Mokaulele,\n",
      "Aloha ka papa kahulihuli o Wailuku ;\n",
      "Aloha ke kumu ohu o na Malokana,\n",
      "Aloha ka wai halau o Wailua ;\n",
      "Aloha oe e Parisa wahine ;\n",
      "Ka mea e uolu la i ka papa holo o Kahualoa,\n",
      "E PArisa wahine e, ka pua rose nani mai ka aina Puniole Hikina mai,\n",
      "Ke oli la oe ma na Serapima o ka lani ;\n",
      "Hoano ko Ziona puu ;\n",
      "Malaila makaukau ;\n",
      "Ka noho Moi, no Iehova ;\n",
      "Aloha ka makani pahili palua o ka moana ;\n",
      "Kahi a laua i alo mai ai,\n",
      "E Parisa wahine e ;\n",
      "Ka mea aloha i hala aku la,\n",
      "E Kau e, e kanikau ae oukou no ka oukou kumu ;\n",
      "Kumalalohia e Kau ;\n",
      "Haa mai e Puna ;\n",
      "I ka make ana o ka lakou kumu aloha,\n",
      "Make ia ma ke kulanakauhale ma Hilo ;\n",
      "Waiho ke kino i ka honua ;\n",
      "Hoi ka uhane i ke ao malama mau, kahi o ka poe pono ;\n",
      "Oia o Elia, ke kaula i pii ola aku i ka lani ;\n",
      "A me Aberahama ma ;\n",
      "He wahine ia i wae ia mai,\n",
      "Noloko mai o na tausani ;\n",
      "Noloko mai o ke kulanakauhale o Hoopono ;\n",
      "Ua ike aku la ia i a kio o ka ua lani ;\n",
      "Oia na kio wai o Paretesina ;\n",
      "Na punawai momona ;\n",
      "Na punawai a ka poe pono e inu ai ;\n",
      "E Parisa wahine e ;\n",
      "Ka Elele aloha,\n",
      "Ka mea i hoi aku la i ka poli ala,\n",
      "O ka Makua mau loa,\n",
      "Oia o Iehova Sabaota o ka lani.                                Na J.T. KAAAWA.\n",
      " \n",
      " \n",
      "--------------------------\n",
      "HE MOKU KIALUA HAWAII I PAE MA KAUAI NEI.\n",
      "            Aloha oe, e ka Elele; he wahi ukana ka'u e haawi aku ia oe, a nau ia e hoolaha aku ma kela wahi keia wahi. Eia ua ukana la. Ua pao iho nei kahi moku kukui kialua Hawaii ma Waipouli i Kauai nei. E hai iki aku au i ko'u wahi lohe no kona ili ana. I ko lakou hoomaka ana e holo mai, mai ke awa o Honolulu mai, aole i loaa koke ka poino ia lakou, a hiki lakou i ka lae o Kalaeloa, loaa ia lakou ka ino nui, nou mai la ka makani hele pu mai la me ka ua a pa mai la i ka moku, kahulihuli iho la. A ike iho la ke Kapena, a me ka malama moku, a me na ohua a pau oluna o ua moku la, alaila, olelo aku la ke Kapena i na kahu moku, \"E piia'e ka pea o ka moku o kakou, no ka mea, ua nui loa ka ino.\" Pua iho la lakou i ka pea a paa, a koe ka pea hope, holo mai la a ka moana, poeleele iho la, a lanakila mai la ka ino maluna o lakou. Ike hou iho la ke kapena i ka poino nui, pua ia iho la ka  pea i koe oluna, a holo wale pela, aia hoi ka moku o lakou e huli ana i o a ia nei. Alaila olelo ae la kekahi i kekahi, \"o ko kakou make no paha keia,\" no ka mea, aohe ike ia'ku o kekahi me kekahi no ka nui loa o ka pouli maluna o lakou. Kuhi iho la ko lakou manao, aia lakou ma ka lepo o Hawaii, a i ole ia, aia lakou ma ka aoao aku o Kauai, a pau iho la ko lakou manao ola. Alaila, hoomalu ia iho la na ohua o ka moku, a noho malu lakou, alaiia, hoomana aku la lakou ia Iehova ke Akua, \"E Iehova ke Akua e hoopakele mai oe ia makou i keia ino nui. E hoopae ola aku oe ia makou i ka aina maloo.\" A i ka la 10 o Feb. 1848 alaila komo mai la keia wahi moku ma ka aoao hema o ka nalu o Makaiwa, a ike iho la lakou ua ili lakou i ka aina; alaila olelo aku la ke kapena i na ohua. \"Ua pae paha kakou uika o ka aina, no ka mea, ke kuku ae nei o lalo o ka Moku.\" Aole i liuliu iho, pae aku la lakou i ke one maloo, aohe ike ia'ku o uka no ka pouli loa. Kuhi iho la eia no lakou i kai kahi i ili ai, hoolei iho la lakou i na heleuma o ka moku ilalo o ke kai, a haule aku la i ke one maloo, alaila, olioli nui iho la na ohua o luna o ka moku no ko lakou pakele ana i keia poino nui. Nowai la keia ola ona? no Iehova no. Auhea oukou e na hoahanau mai Hawaii a Kauai, a me na makamaka a pau loa, e pono e hoomanao kakou i ka pakele ana o keia poe mai  ka lima o ka makani a me ka ua, a me ka ino nui. No ka mea, o Iehova wale no ke alakai o kahi ike ole ia, o Iehova ka paku, o Iehova ke kuhikuhi.\n",
      "            Ke ao mai nei ke Akua ia kakou, ke paipai mai nei oia e huli aku i kona aupuni hanohano. Eu! Eu pu kakou e holo maluna o Iesu, ka wai o ke ola. Ua pau ko'u wahi lohe.\n",
      "            O Kikiula no ka makau i oleloia maluna. Oia ka kialua i hanaia @ Kapana @ena ma Hanalei Kauai. Ua nui ka laau kukui maloko o ia moku, a ua hapa kona paa. Pomaikai maoli ka poe i holo maluna o ia moku mai mua mai, i ko lakou make ole ma ka moana.\n",
      "            Eia nae ka mea kupaianaha loa, ka pakele o na mea e holo ana maluna o ua moku la ia po. He oiaio no, o ko Iehova lima ka mea nana lakou i hoopakele. O ka make ko lakou manao. Okoa ko ke Akua. Haawi mai oia i ke ola, i ka wa e manao ana lakou i ka make. Aole no ka noonoo, no ke akamai, a me ka ikaika o ke kahu moku a me na mea oluna i pakele ai lakou i ka make.. No ka mea, ua pouli loa ia po. Ua ikaika loa hoi ka makani, aole pea, aohe lakou ike kahi e holo ai! Ina ua huli ae ka makani i ke Akua a i ka hewa paha, ina ua lilo lakou i ka moana loa, kahi hiki ole paha ke loaa hou kahi aina. Iloko o ko ke Akua lima lakou, a nana no lakou i malama iloko o kona poho lima.\n",
      " \n",
      " \n",
      "-----------------\n",
      "HE HOOKAHUNA ANA.\n",
      "            I ka la 29 o Mei, akoakoa ae la ka @hamisionari maloko'o ka halepule ma Kawaiahao, e hoolilo ai ia Mi. Ioane no Waioli, i Kahunapule.\n",
      "            Eia malalo iho ka Oleloao a Mi. ALekanedero ia Mi. Ioane no Waioli i Kauai, i kona hookumuia i kahunapule, ma Waiahao i ka la 29 o Mei iho nei.\n",
      "            E kuu kaikaina, he oihana nui keia i ili mai nei maluna ou. Ua lilo mai nei oe i hoalawehana pu me ke Akua, (1 Kor. 3: 9,) i alakai no kanaka ma ke alanui e hiki ai i ke ola mau loa. Nolaila, he pono ke like oe me Ioane Bapetite (Io. 5: 35) \"He kukui aa malamalama oia.\"\n",
      "            O ka ke kahunapule hana nui, oia no ka hoomalamalama aku  a me ka hoopili i ka oiaio i ka naau o kanaka. Ina e hoomalamalama aku oe ia hai, he pono ke lilo oe i kukui malamalama; ina hoi e hoopili aku oe i ka oiaio ia hai, he pono ke aa kou naau iho me ke aloha i ke Akua.\n",
      "            O ka malamalama ma na mea o ka uhane a me ke aloha hemolele, oia na ema e pau ai ka hemahema o ke kahunahaiolelo. He mau mea keia e pono ai ka haiolelo ana, ka hoponopono ana i ka ekalesia, ke kukakuka ana me na hoahanau a me na mea a pau o keia noho ana.\n",
      "            Ma kau hana nui ma ka haiolelo ana, e kuu kaikaina, he pono ke like pu oe me na mea ola eha, a Ezekiela i ike ai (mok. 1: 18) Ua paapu me na maka. He nui no ka ike e pono au kau hana ana, o ka ike ana i na kanaka, o ka ike ana i kela mea keia mea o kela hanauna keia hanauna, o na mea o ka ekalesia a me na mea o ke ao nei.\n",
      "            O ka ike ana i ke ano hemolele o ke Akua kekahi mea pili nui i kau hana, pouli ka nui o kanaka ia mea; manao wale lakou, ua like ke Akua me lakou iho, a nolaila manao lakou ua laulea lakou me ia. Eia kau hana, e hoike maopopo aku i ke ano o ke Akua, i ike ke kanaka hewa i kona ano ino, i nalo ole ia ia kona naau kue i ke Akua, o ka hoomaopopo ana i ke ano o ke Akua ka mea e puni ole au na kanaka i na kuhihewa a me na manao hoopunipuni. Ke iini nui nei kuu naau e hoike aku oe i keia malamalama; nolaila ke paipai aku nei au ia oe e hoolauna nui aku oe me ke Akua ma kahi mehameha. Aohe mea e ike nui ai kekahi i kekahi e like me ke kukakuka pinepine ana; pela oe e hoolauna pu me ke Akua i ike nui aku oe ia ia.\n",
      "            O ka ike ana'ku ia Kristo ka Uwao iwaena o ke Akua a me kanaka kekahi mea pili nui i kau hana, (Io. 17: 3) \"Eia ke ola mau loa, i ike lakou ia oe i ke Akua oiaio hookahi, a ia Iesu ka Mesia, ka mea au i hoouna mai ai.\" Nani wale ka ike ole o kanaka ia ia. \"Iloko o ke ao nei oia, aole nae i ike ke ao nei ia ia.\" O ka kakou hana nui keia, e ike aku ia ia a e hookaulana aku i kona inoa hoano.\n",
      "            O ka ike ana'ku hoi i ke ano maoli o kanaka kekahi mea e pono ai. I kinohi ua hanaia ke kanaka he pololei, aka, ua imi mai oia i na mea keekee he nui wale, e hoomaopopo mua i ke ana o ka mai i pono ka lapaau ana.\n",
      "            Aka, makehewa kou hai ana'ku i keia mau mea a pau, ke ole i pili mua mai i kou naau iho. Aole o ka hoomalamalama wale aku, o ka hoopumehana no hoi kekahi mea e pono ai. He kukui aa malamalama o Ioane. I aa hoi oe, i wela kou naau i na mea oiaio au e hai aku ai, Aole ulu na mea o keia ao ke ole ka malamalama, aole hoi e ulu ke ole ka pumehana. Holo pu mai la na mea kanu. Pehea la oe e papa aku i ka hewa, ke ole oe e inaina aku ia mea? Pehea la oe e hai aku i ka maikai o Kristo, ke ole i wela kou naau i ke aloha ia ia? Pehea la oe e hooikaika mau aku ma ka ke Akua hana, ke ole oe e makemake ia mea iloko o kou naau?\n",
      "            O ka ike ana i na mea o ke Akua a me ke aloha ia Kristo ka mea e makaukau ai oe ma ka hooponopono ana iwaena o na hoahanau o ka ekalesia. Oia ka mea e hiki ai oe ke wehewehe i na pilikia, ke kinai iho i na mea hoa i ka hakaka a hoolaulea iwaena o na hoahanau kue. E hoike mau aku oe i ka naau aloha; e pili mau i ka aoao o ke Akua, i ka aoao o ka pono a me ka pololei. E hele ae oe i kela la i keia la me he keiki la o ka malamalama.\n",
      "            Eia kekahi mau hana pono ia oe, i mahuahua mau aku keia mau lako.\n",
      "            E heluhelu i na mooolelo o na kanaka pono, na kanaka i pakela ko lakou pili ana i ke Akua, i aa ka makemake iloko ou e hoohalike me lakou. Ka mooolelo o na kanaka like me Aberahama, Iosepa, Mose, Damiela, Paulo, o Wini hoi a me Rikeke na mea a kakou i ike maka ai. E huli nui i ka olelo a ke Akua, oia ka mea e hoa ai i ke ahi o ke aloha a me ka makemake iloko o ka naau.\n",
      "            E noho haipule io oe, i akaka ke ano o ka hoomana Kristiano aole ma kau olelo wale no, aka, ma kou noho ana no hoi kekahi. E komo pinepine iloko o kou keena mehameha e halawai pu me kou Haku, i hoomalamalama i hoopumehana hoi kou naau. Me Mose la i kona noho ana i ka mauna me ke Akua, a iho mai la, alohi mai la kona mau maka e like me ka malamalama o ka la. E hoolauna nui aku oe, e like auanei oe me he aniani la, me he kilo la e hoike aku ana i na helehelena o Kristo.\n",
      "            Pela oe e hoakaka aku i kou malamalama imua o na kanaka, i ike mai ai lakou i kau hana maikai ana, i hoonana aku hoi lakou i kou Makua i ka lani.\n",
      "\n",
      "\n",
      "\n"
     ]
    }
   ],
   "source": [
    "print(npTextOne)"
   ]
  },
  {
   "cell_type": "markdown",
   "metadata": {},
   "source": [
    "## Preprocessing and Tokenizing"
   ]
  },
  {
   "cell_type": "markdown",
   "metadata": {},
   "source": [
    "We're going to make a function called cleanText() that removes punctuation and numbers from the text. We will combine this to the getText() function that we created previously and call the split() method to create a list of individual words for each newspaper."
   ]
  },
  {
   "cell_type": "code",
   "execution_count": 48,
   "metadata": {},
   "outputs": [],
   "source": [
    "import string\n",
    "\n",
    "noThanks = string.punctuation\n",
    "noThanks += \"1234567890\"\n",
    "\n",
    "def cleanText(someText):\n",
    "    someText = someText.replace('\\n',' ') # new lines\n",
    "    temp = \"\"\n",
    "    for i in someText:\n",
    "        if i in noThanks:\n",
    "            temp += \" \"\n",
    "        else:\n",
    "            temp += i\n",
    "            \n",
    "    return temp"
   ]
  },
  {
   "cell_type": "code",
   "execution_count": 49,
   "metadata": {},
   "outputs": [],
   "source": [
    "npWordListOne = cleanText(getText(\"Ka Elele Hawaii Buke 4 Pepa 1 Aoao 1 Iune 8 1848.docx\")).lower().split()"
   ]
  },
  {
   "cell_type": "code",
   "execution_count": 50,
   "metadata": {},
   "outputs": [
    {
     "data": {
      "text/plain": [
       "['ka',\n",
       " 'elele',\n",
       " 'hawaii',\n",
       " 'buke',\n",
       " 'honolulu',\n",
       " 'oahu',\n",
       " 'iune',\n",
       " 'pepa',\n",
       " 'olelo',\n",
       " 'hoike']"
      ]
     },
     "execution_count": 50,
     "metadata": {},
     "output_type": "execute_result"
    }
   ],
   "source": [
    "npWordListOne[:10]"
   ]
  },
  {
   "cell_type": "code",
   "execution_count": 51,
   "metadata": {},
   "outputs": [],
   "source": [
    "npWordListTwo = cleanText(getText(\"Ka Lama Hawaii Makahiki 1 Helu 1 Aoao 1 Feberuari 14 1834.docx\")).lower().split()"
   ]
  },
  {
   "cell_type": "code",
   "execution_count": 52,
   "metadata": {},
   "outputs": [],
   "source": [
    "npWordListThree = cleanText(getText(\"Ka Makaainana Buke 11 Helu 7 Aoao 1 Feberuari 13 1899.docx\")).lower().split()"
   ]
  },
  {
   "cell_type": "markdown",
   "metadata": {},
   "source": [
    "By the way, this issue of Ke Kiai ended in a section of English so I trimmed this before saving to the .docx"
   ]
  },
  {
   "cell_type": "code",
   "execution_count": 53,
   "metadata": {},
   "outputs": [],
   "source": [
    "npWordListFour = cleanText(getText(\"Ke Kiai Buke 1 Helu 3 Aoao 1 Sepatemaba 11 1902.docx\")).lower().split()"
   ]
  },
  {
   "cell_type": "code",
   "execution_count": 54,
   "metadata": {},
   "outputs": [],
   "source": [
    "npWordListFive = cleanText(getText(\"Nupepa Kuokoa Buke 1 Helu 1 Okakopa 1861.docx\")).lower().split()"
   ]
  },
  {
   "cell_type": "markdown",
   "metadata": {},
   "source": [
    "## Making the dataframe\n"
   ]
  },
  {
   "cell_type": "markdown",
   "metadata": {},
   "source": [
    "We're going to combine all five lists of words, count the number of occurances, place in a pandas dataframe and reset the index (and make a dummy index \"ind\" to use as our graphs' x-axis)"
   ]
  },
  {
   "cell_type": "code",
   "execution_count": 55,
   "metadata": {},
   "outputs": [],
   "source": [
    "corpusList = npWordListOne + npWordListTwo + npWordListThree + npWordListFour + npWordListFive"
   ]
  },
  {
   "cell_type": "markdown",
   "metadata": {},
   "source": [
    "Counting the number of occurances in the corpus"
   ]
  },
  {
   "cell_type": "code",
   "execution_count": 56,
   "metadata": {},
   "outputs": [],
   "source": [
    "corpusDict = {}\n",
    "\n",
    "for i in corpusList:\n",
    "    if i in corpusDict:\n",
    "        corpusDict[i] +=1\n",
    "    else:\n",
    "        corpusDict[i] = 1"
   ]
  },
  {
   "cell_type": "code",
   "execution_count": 57,
   "metadata": {
    "scrolled": false
   },
   "outputs": [
    {
     "name": "stdout",
     "output_type": "stream",
     "text": [
      "ka : 3187\n",
      "elele : 21\n",
      "hawaii : 132\n",
      "buke : 31\n",
      "honolulu : 64\n"
     ]
    }
   ],
   "source": [
    "for i in range(5):\n",
    "    print(list(corpusDict.keys())[i], \":\",corpusDict[list(corpusDict.keys())[i]])"
   ]
  },
  {
   "cell_type": "markdown",
   "metadata": {},
   "source": [
    "Making the dataframe"
   ]
  },
  {
   "cell_type": "code",
   "execution_count": 58,
   "metadata": {},
   "outputs": [],
   "source": [
    "import pandas as pd\n",
    "import numpy as np\n",
    "\n",
    "df = pd.DataFrame(data=[[i, corpusDict[i]] for i in corpusDict ], columns=[\"word\", \"freq\"])"
   ]
  },
  {
   "cell_type": "markdown",
   "metadata": {},
   "source": [
    "Ordering by frequency, setting the index, and making the dummy column"
   ]
  },
  {
   "cell_type": "code",
   "execution_count": 59,
   "metadata": {},
   "outputs": [],
   "source": [
    "df.sort_values(by=\"freq\",ascending=False, inplace=True)\n",
    "df.reset_index(drop=True, inplace=True)\n",
    "df[\"ind\"] = np.arange(0,3446)"
   ]
  },
  {
   "cell_type": "markdown",
   "metadata": {},
   "source": [
    "## Analyzing the data\n"
   ]
  },
  {
   "cell_type": "code",
   "execution_count": 60,
   "metadata": {},
   "outputs": [
    {
     "data": {
      "text/html": [
       "<div>\n",
       "<style scoped>\n",
       "    .dataframe tbody tr th:only-of-type {\n",
       "        vertical-align: middle;\n",
       "    }\n",
       "\n",
       "    .dataframe tbody tr th {\n",
       "        vertical-align: top;\n",
       "    }\n",
       "\n",
       "    .dataframe thead th {\n",
       "        text-align: right;\n",
       "    }\n",
       "</style>\n",
       "<table border=\"1\" class=\"dataframe\">\n",
       "  <thead>\n",
       "    <tr style=\"text-align: right;\">\n",
       "      <th></th>\n",
       "      <th>word</th>\n",
       "      <th>freq</th>\n",
       "      <th>ind</th>\n",
       "    </tr>\n",
       "  </thead>\n",
       "  <tbody>\n",
       "    <tr>\n",
       "      <th>0</th>\n",
       "      <td>ka</td>\n",
       "      <td>3187</td>\n",
       "      <td>0</td>\n",
       "    </tr>\n",
       "    <tr>\n",
       "      <th>1</th>\n",
       "      <td>i</td>\n",
       "      <td>2838</td>\n",
       "      <td>1</td>\n",
       "    </tr>\n",
       "    <tr>\n",
       "      <th>2</th>\n",
       "      <td>o</td>\n",
       "      <td>2584</td>\n",
       "      <td>2</td>\n",
       "    </tr>\n",
       "    <tr>\n",
       "      <th>3</th>\n",
       "      <td>a</td>\n",
       "      <td>2040</td>\n",
       "      <td>3</td>\n",
       "    </tr>\n",
       "    <tr>\n",
       "      <th>4</th>\n",
       "      <td>e</td>\n",
       "      <td>1745</td>\n",
       "      <td>4</td>\n",
       "    </tr>\n",
       "  </tbody>\n",
       "</table>\n",
       "</div>"
      ],
      "text/plain": [
       "  word  freq  ind\n",
       "0   ka  3187    0\n",
       "1    i  2838    1\n",
       "2    o  2584    2\n",
       "3    a  2040    3\n",
       "4    e  1745    4"
      ]
     },
     "execution_count": 60,
     "metadata": {},
     "output_type": "execute_result"
    }
   ],
   "source": [
    "df.head()"
   ]
  },
  {
   "cell_type": "code",
   "execution_count": 61,
   "metadata": {},
   "outputs": [
    {
     "data": {
      "text/html": [
       "<div>\n",
       "<style scoped>\n",
       "    .dataframe tbody tr th:only-of-type {\n",
       "        vertical-align: middle;\n",
       "    }\n",
       "\n",
       "    .dataframe tbody tr th {\n",
       "        vertical-align: top;\n",
       "    }\n",
       "\n",
       "    .dataframe thead th {\n",
       "        text-align: right;\n",
       "    }\n",
       "</style>\n",
       "<table border=\"1\" class=\"dataframe\">\n",
       "  <thead>\n",
       "    <tr style=\"text-align: right;\">\n",
       "      <th></th>\n",
       "      <th>word</th>\n",
       "      <th>freq</th>\n",
       "      <th>ind</th>\n",
       "    </tr>\n",
       "  </thead>\n",
       "  <tbody>\n",
       "    <tr>\n",
       "      <th>3441</th>\n",
       "      <td>haia</td>\n",
       "      <td>1</td>\n",
       "      <td>3441</td>\n",
       "    </tr>\n",
       "    <tr>\n",
       "      <th>3442</th>\n",
       "      <td>mauleule</td>\n",
       "      <td>1</td>\n",
       "      <td>3442</td>\n",
       "    </tr>\n",
       "    <tr>\n",
       "      <th>3443</th>\n",
       "      <td>hamakuapoko</td>\n",
       "      <td>1</td>\n",
       "      <td>3443</td>\n",
       "    </tr>\n",
       "    <tr>\n",
       "      <th>3444</th>\n",
       "      <td>tempsky</td>\n",
       "      <td>1</td>\n",
       "      <td>3444</td>\n",
       "    </tr>\n",
       "    <tr>\n",
       "      <th>3445</th>\n",
       "      <td>wepa</td>\n",
       "      <td>1</td>\n",
       "      <td>3445</td>\n",
       "    </tr>\n",
       "  </tbody>\n",
       "</table>\n",
       "</div>"
      ],
      "text/plain": [
       "             word  freq   ind\n",
       "3441         haia     1  3441\n",
       "3442     mauleule     1  3442\n",
       "3443  hamakuapoko     1  3443\n",
       "3444      tempsky     1  3444\n",
       "3445         wepa     1  3445"
      ]
     },
     "execution_count": 61,
     "metadata": {},
     "output_type": "execute_result"
    }
   ],
   "source": [
    "df.tail()"
   ]
  },
  {
   "cell_type": "code",
   "execution_count": 62,
   "metadata": {},
   "outputs": [
    {
     "data": {
      "image/png": "[encoded data removed]",
      "text/plain": [
       "<Figure size 432x288 with 1 Axes>"
      ]
     },
     "metadata": {
      "needs_background": "light"
     },
     "output_type": "display_data"
    }
   ],
   "source": [
    "import seaborn as sns\n",
    "\n",
    "g = sns.barplot(data=df, y=\"freq\", x=\"ind\")\n",
    "\n",
    "for ind, label in enumerate(g.get_xticklabels()):\n",
    "    if ind % 1000 == 0:  # x ticks\n",
    "        label.set_visible(True)\n",
    "    else:\n",
    "        label.set_visible(False)\n"
   ]
  },
  {
   "cell_type": "markdown",
   "metadata": {},
   "source": [
    "Let's zoom in"
   ]
  },
  {
   "cell_type": "code",
   "execution_count": 63,
   "metadata": {},
   "outputs": [
    {
     "data": {
      "text/plain": [
       "[(0, 800)]"
      ]
     },
     "execution_count": 63,
     "metadata": {},
     "output_type": "execute_result"
    },
    {
     "data": {
      "image/png": "[encoded data removed]",
      "text/plain": [
       "<Figure size 432x288 with 1 Axes>"
      ]
     },
     "metadata": {
      "needs_background": "light"
     },
     "output_type": "display_data"
    }
   ],
   "source": [
    "g = sns.barplot(data=df, y=\"freq\", x=\"ind\")\n",
    "\n",
    "for ind, label in enumerate(g.get_xticklabels()):\n",
    "    if ind % 100 == 0:  # x ticks\n",
    "        label.set_visible(True)\n",
    "    else:\n",
    "        label.set_visible(False)\n",
    "g.set(ylim=(0, 800))\n",
    "g.set(xlim=(0, 800))\n"
   ]
  },
  {
   "cell_type": "markdown",
   "metadata": {},
   "source": [
    "Somewhere around x=100 should be used as the cutoff"
   ]
  },
  {
   "cell_type": "markdown",
   "metadata": {},
   "source": [
    "## Finishing up"
   ]
  },
  {
   "cell_type": "markdown",
   "metadata": {},
   "source": [
    "Let's see which words would be included in the stopwords list with 100 as the cutoff"
   ]
  },
  {
   "cell_type": "code",
   "execution_count": 64,
   "metadata": {},
   "outputs": [
    {
     "data": {
      "text/html": [
       "<div>\n",
       "<style scoped>\n",
       "    .dataframe tbody tr th:only-of-type {\n",
       "        vertical-align: middle;\n",
       "    }\n",
       "\n",
       "    .dataframe tbody tr th {\n",
       "        vertical-align: top;\n",
       "    }\n",
       "\n",
       "    .dataframe thead th {\n",
       "        text-align: right;\n",
       "    }\n",
       "</style>\n",
       "<table border=\"1\" class=\"dataframe\">\n",
       "  <thead>\n",
       "    <tr style=\"text-align: right;\">\n",
       "      <th></th>\n",
       "      <th>word</th>\n",
       "      <th>freq</th>\n",
       "      <th>ind</th>\n",
       "    </tr>\n",
       "  </thead>\n",
       "  <tbody>\n",
       "    <tr>\n",
       "      <th>0</th>\n",
       "      <td>ka</td>\n",
       "      <td>3187</td>\n",
       "      <td>0</td>\n",
       "    </tr>\n",
       "    <tr>\n",
       "      <th>1</th>\n",
       "      <td>i</td>\n",
       "      <td>2838</td>\n",
       "      <td>1</td>\n",
       "    </tr>\n",
       "    <tr>\n",
       "      <th>2</th>\n",
       "      <td>o</td>\n",
       "      <td>2584</td>\n",
       "      <td>2</td>\n",
       "    </tr>\n",
       "    <tr>\n",
       "      <th>3</th>\n",
       "      <td>a</td>\n",
       "      <td>2040</td>\n",
       "      <td>3</td>\n",
       "    </tr>\n",
       "    <tr>\n",
       "      <th>4</th>\n",
       "      <td>e</td>\n",
       "      <td>1745</td>\n",
       "      <td>4</td>\n",
       "    </tr>\n",
       "    <tr>\n",
       "      <th>...</th>\n",
       "      <td>...</td>\n",
       "      <td>...</td>\n",
       "      <td>...</td>\n",
       "    </tr>\n",
       "    <tr>\n",
       "      <th>68</th>\n",
       "      <td>pu</td>\n",
       "      <td>112</td>\n",
       "      <td>68</td>\n",
       "    </tr>\n",
       "    <tr>\n",
       "      <th>69</th>\n",
       "      <td>maikai</td>\n",
       "      <td>110</td>\n",
       "      <td>69</td>\n",
       "    </tr>\n",
       "    <tr>\n",
       "      <th>70</th>\n",
       "      <td>make</td>\n",
       "      <td>110</td>\n",
       "      <td>70</td>\n",
       "    </tr>\n",
       "    <tr>\n",
       "      <th>71</th>\n",
       "      <td>wa</td>\n",
       "      <td>107</td>\n",
       "      <td>71</td>\n",
       "    </tr>\n",
       "    <tr>\n",
       "      <th>72</th>\n",
       "      <td>kula</td>\n",
       "      <td>106</td>\n",
       "      <td>72</td>\n",
       "    </tr>\n",
       "  </tbody>\n",
       "</table>\n",
       "<p>73 rows × 3 columns</p>\n",
       "</div>"
      ],
      "text/plain": [
       "      word  freq  ind\n",
       "0       ka  3187    0\n",
       "1        i  2838    1\n",
       "2        o  2584    2\n",
       "3        a  2040    3\n",
       "4        e  1745    4\n",
       "..     ...   ...  ...\n",
       "68      pu   112   68\n",
       "69  maikai   110   69\n",
       "70    make   110   70\n",
       "71      wa   107   71\n",
       "72    kula   106   72\n",
       "\n",
       "[73 rows x 3 columns]"
      ]
     },
     "execution_count": 64,
     "metadata": {},
     "output_type": "execute_result"
    }
   ],
   "source": [
    "df[df[\"freq\"]>100] # "
   ]
  },
  {
   "cell_type": "markdown",
   "metadata": {},
   "source": [
    "Looks pretty good but I don't want kula in the list... let's look at which words didn't make the cutoff at x=100"
   ]
  },
  {
   "cell_type": "code",
   "execution_count": 65,
   "metadata": {},
   "outputs": [
    {
     "data": {
      "text/html": [
       "<div>\n",
       "<style scoped>\n",
       "    .dataframe tbody tr th:only-of-type {\n",
       "        vertical-align: middle;\n",
       "    }\n",
       "\n",
       "    .dataframe tbody tr th {\n",
       "        vertical-align: top;\n",
       "    }\n",
       "\n",
       "    .dataframe thead th {\n",
       "        text-align: right;\n",
       "    }\n",
       "</style>\n",
       "<table border=\"1\" class=\"dataframe\">\n",
       "  <thead>\n",
       "    <tr style=\"text-align: right;\">\n",
       "      <th></th>\n",
       "      <th>word</th>\n",
       "      <th>freq</th>\n",
       "      <th>ind</th>\n",
       "    </tr>\n",
       "  </thead>\n",
       "  <tbody>\n",
       "    <tr>\n",
       "      <th>73</th>\n",
       "      <td>au</td>\n",
       "      <td>98</td>\n",
       "      <td>73</td>\n",
       "    </tr>\n",
       "    <tr>\n",
       "      <th>74</th>\n",
       "      <td>aloha</td>\n",
       "      <td>97</td>\n",
       "      <td>74</td>\n",
       "    </tr>\n",
       "    <tr>\n",
       "      <th>75</th>\n",
       "      <td>nae</td>\n",
       "      <td>97</td>\n",
       "      <td>75</td>\n",
       "    </tr>\n",
       "    <tr>\n",
       "      <th>76</th>\n",
       "      <td>nana</td>\n",
       "      <td>92</td>\n",
       "      <td>76</td>\n",
       "    </tr>\n",
       "    <tr>\n",
       "      <th>77</th>\n",
       "      <td>aohe</td>\n",
       "      <td>90</td>\n",
       "      <td>77</td>\n",
       "    </tr>\n",
       "    <tr>\n",
       "      <th>78</th>\n",
       "      <td>maluna</td>\n",
       "      <td>88</td>\n",
       "      <td>78</td>\n",
       "    </tr>\n",
       "    <tr>\n",
       "      <th>79</th>\n",
       "      <td>nupepa</td>\n",
       "      <td>81</td>\n",
       "      <td>79</td>\n",
       "    </tr>\n",
       "    <tr>\n",
       "      <th>80</th>\n",
       "      <td>kana</td>\n",
       "      <td>81</td>\n",
       "      <td>80</td>\n",
       "    </tr>\n",
       "    <tr>\n",
       "      <th>81</th>\n",
       "      <td>kau</td>\n",
       "      <td>81</td>\n",
       "      <td>81</td>\n",
       "    </tr>\n",
       "    <tr>\n",
       "      <th>82</th>\n",
       "      <td>wahine</td>\n",
       "      <td>79</td>\n",
       "      <td>82</td>\n",
       "    </tr>\n",
       "    <tr>\n",
       "      <th>83</th>\n",
       "      <td>ola</td>\n",
       "      <td>79</td>\n",
       "      <td>83</td>\n",
       "    </tr>\n",
       "    <tr>\n",
       "      <th>84</th>\n",
       "      <td>holo</td>\n",
       "      <td>77</td>\n",
       "      <td>84</td>\n",
       "    </tr>\n",
       "    <tr>\n",
       "      <th>85</th>\n",
       "      <td>hoike</td>\n",
       "      <td>76</td>\n",
       "      <td>85</td>\n",
       "    </tr>\n",
       "    <tr>\n",
       "      <th>86</th>\n",
       "      <td>kaua</td>\n",
       "      <td>76</td>\n",
       "      <td>86</td>\n",
       "    </tr>\n",
       "    <tr>\n",
       "      <th>87</th>\n",
       "      <td>mamua</td>\n",
       "      <td>75</td>\n",
       "      <td>87</td>\n",
       "    </tr>\n",
       "    <tr>\n",
       "      <th>88</th>\n",
       "      <td>keiki</td>\n",
       "      <td>74</td>\n",
       "      <td>88</td>\n",
       "    </tr>\n",
       "    <tr>\n",
       "      <th>89</th>\n",
       "      <td>aoao</td>\n",
       "      <td>73</td>\n",
       "      <td>89</td>\n",
       "    </tr>\n",
       "    <tr>\n",
       "      <th>90</th>\n",
       "      <td>pepa</td>\n",
       "      <td>73</td>\n",
       "      <td>90</td>\n",
       "    </tr>\n",
       "    <tr>\n",
       "      <th>91</th>\n",
       "      <td>mua</td>\n",
       "      <td>72</td>\n",
       "      <td>91</td>\n",
       "    </tr>\n",
       "    <tr>\n",
       "      <th>92</th>\n",
       "      <td>makahiki</td>\n",
       "      <td>72</td>\n",
       "      <td>92</td>\n",
       "    </tr>\n",
       "  </tbody>\n",
       "</table>\n",
       "</div>"
      ],
      "text/plain": [
       "        word  freq  ind\n",
       "73        au    98   73\n",
       "74     aloha    97   74\n",
       "75       nae    97   75\n",
       "76      nana    92   76\n",
       "77      aohe    90   77\n",
       "78    maluna    88   78\n",
       "79    nupepa    81   79\n",
       "80      kana    81   80\n",
       "81       kau    81   81\n",
       "82    wahine    79   82\n",
       "83       ola    79   83\n",
       "84      holo    77   84\n",
       "85     hoike    76   85\n",
       "86      kaua    76   86\n",
       "87     mamua    75   87\n",
       "88     keiki    74   88\n",
       "89      aoao    73   89\n",
       "90      pepa    73   90\n",
       "91       mua    72   91\n",
       "92  makahiki    72   92"
      ]
     },
     "execution_count": 65,
     "metadata": {},
     "output_type": "execute_result"
    }
   ],
   "source": [
    "df[df[\"freq\"]<100].head(20) #"
   ]
  },
  {
   "cell_type": "markdown",
   "metadata": {},
   "source": [
    "Ok so using my domain knowledge I'm going to make the cutoff at 79 because I don't want wahine (woman) to be a stopword. I will also now manually remove kula (school) and also nupepa (newspaper). I will add kaua (us) to the list of stopwords."
   ]
  },
  {
   "cell_type": "code",
   "execution_count": 66,
   "metadata": {},
   "outputs": [],
   "source": [
    "stopwords = list(df[df[\"freq\"]>79][\"word\"])"
   ]
  },
  {
   "cell_type": "code",
   "execution_count": 67,
   "metadata": {},
   "outputs": [],
   "source": [
    "stopwords.remove(\"kula\")\n",
    "\n",
    "stopwords.remove(\"nupepa\")\n",
    "\n",
    "stopwords.append(\"kaua\")"
   ]
  },
  {
   "cell_type": "markdown",
   "metadata": {},
   "source": [
    "The full list of stopwords"
   ]
  },
  {
   "cell_type": "code",
   "execution_count": 68,
   "metadata": {},
   "outputs": [
    {
     "data": {
      "text/plain": [
       "['ka',\n",
       " 'i',\n",
       " 'o',\n",
       " 'a',\n",
       " 'e',\n",
       " 'na',\n",
       " 'ke',\n",
       " 'no',\n",
       " 'ia',\n",
       " 'ua',\n",
       " 'ana',\n",
       " 'me',\n",
       " 'mai',\n",
       " 'ma',\n",
       " 'he',\n",
       " 'mea',\n",
       " 'la',\n",
       " 'aku',\n",
       " 'ai',\n",
       " 'hoi',\n",
       " 'keia',\n",
       " 'nei',\n",
       " 'mau',\n",
       " 'ko',\n",
       " 'kona',\n",
       " 'lakou',\n",
       " 'nui',\n",
       " 'poe',\n",
       " 'kekahi',\n",
       " 'loa',\n",
       " 'ae',\n",
       " 'oia',\n",
       " 'iho',\n",
       " 'pono',\n",
       " 'hana',\n",
       " 'aole',\n",
       " 'kahi',\n",
       " 'pau',\n",
       " 'ole',\n",
       " 'hiki',\n",
       " 'ike',\n",
       " 'kakou',\n",
       " 'kanaka',\n",
       " 'hou',\n",
       " 'olelo',\n",
       " 'aina',\n",
       " 'ano',\n",
       " 'noho',\n",
       " 'makou',\n",
       " 'manao',\n",
       " 'loaa',\n",
       " 'wale',\n",
       " 'hele',\n",
       " 'hale',\n",
       " 'like',\n",
       " 'wahi',\n",
       " 'hawaii',\n",
       " 'ina',\n",
       " 'iloko',\n",
       " 'paha',\n",
       " 'aupuni',\n",
       " 'eia',\n",
       " 'oukou',\n",
       " 'oe',\n",
       " 'kela',\n",
       " 'u',\n",
       " 'moku',\n",
       " 'ku',\n",
       " 'pu',\n",
       " 'maikai',\n",
       " 'make',\n",
       " 'wa',\n",
       " 'au',\n",
       " 'aloha',\n",
       " 'nae',\n",
       " 'nana',\n",
       " 'aohe',\n",
       " 'maluna',\n",
       " 'kana',\n",
       " 'kau',\n",
       " 'kaua']"
      ]
     },
     "execution_count": 68,
     "metadata": {},
     "output_type": "execute_result"
    }
   ],
   "source": [
    "stopwords"
   ]
  },
  {
   "cell_type": "markdown",
   "metadata": {},
   "source": [
    "The length of the list"
   ]
  },
  {
   "cell_type": "code",
   "execution_count": 69,
   "metadata": {},
   "outputs": [
    {
     "data": {
      "text/plain": [
       "81"
      ]
     },
     "execution_count": 69,
     "metadata": {},
     "output_type": "execute_result"
    }
   ],
   "source": [
    "len(stopwords)"
   ]
  },
  {
   "cell_type": "markdown",
   "metadata": {},
   "source": [
    "## Conclusion\n"
   ]
  },
  {
   "cell_type": "markdown",
   "metadata": {},
   "source": [
    "The stopwords of a language are powerful. Knowing them can amplify algorithms like Cosine Similarity and Malik Summarization ( See my Project 3 to see a text summarization technique). That said, I'm pleased with the list of stopwords. The final product validates the approach I used, but it could be even better.  For instance, we could increase the number of newspapers used, using more modern texts, or even trying out TF - IDF (Term Frequency - Inverse Document Frequency) to select words. I am open to feedback about the approach."
   ]
  }
 ],
 "metadata": {
  "kernelspec": {
   "display_name": "Python 3",
   "language": "python",
   "name": "python3"
  },
  "language_info": {
   "codemirror_mode": {
    "name": "ipython",
    "version": 3
   },
   "file_extension": ".py",
   "mimetype": "text/x-python",
   "name": "python",
   "nbconvert_exporter": "python",
   "pygments_lexer": "ipython3",
   "version": "3.7.6"
  }
 },
 "nbformat": 4,
 "nbformat_minor": 4
}

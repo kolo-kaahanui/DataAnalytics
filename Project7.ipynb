{
 "cells": [
  {
   "cell_type": "markdown",
   "metadata": {},
   "source": [
    "# Hawaiian Stopwords"
   ]
  },
  {
   "cell_type": "markdown",
   "metadata": {},
   "source": [
    "This goal of this project is to create a list of stopwords for the Hawaiian language. In NLP (Natural Language Processing), stopwords are the most commonly used words. In English, these are words like \"and\" and \"the\" - filtering a text of these words can help reduce noise and improve NLP algorithms' accuracy.\n",
    "\n",
    "This project will arbitrarily use five different Hawaiian language newspapers to create the list. First, I will tokenize the words from the newspapers. Then, I will count each term's frequency of occurrence and place them in a data frame. Finally, I will graph the data to find cutoff points based on a presumed geometric asymptote convergence location. I will ultimately use the discretion of my language domain knowledge to supersede what makes the cutoff. Here are the assumptions:\n",
    "1. That five newspapers is a large enough corpus\n",
    "2. That the language used in these periodicals is still relevant to today (the dates of the newspapers will be varied and range from 1834 through 1902)\n",
    "3. That the word count graph is negative exponential"
   ]
  },
  {
   "cell_type": "markdown",
   "metadata": {},
   "source": [
    "## The Distribution"
   ]
  },
  {
   "cell_type": "markdown",
   "metadata": {},
   "source": [
    "It would be nice to later justify our findings somehow. Below is a graph of ordered word frequency for a corpus of english newspapers. This list of words is void of stopwords as defined by the nltk corpus, so, we can remove stopwords from our hawaiian corpus and hope the distribution is similar."
   ]
  },
  {
   "cell_type": "code",
   "execution_count": 1,
   "metadata": {},
   "outputs": [
    {
     "data": {
      "image/png": "[encoded data removed]",
      "text/plain": [
       "<Figure size 432x288 with 1 Axes>"
      ]
     },
     "metadata": {
      "needs_background": "light"
     },
     "output_type": "display_data"
    }
   ],
   "source": [
    "import project7Sup"
   ]
  },
  {
   "cell_type": "markdown",
   "metadata": {},
   "source": [
    "## Extraction\n"
   ]
  },
  {
   "cell_type": "markdown",
   "metadata": {},
   "source": [
    "Let's use pythons docx library which will allow us to manipulate word document text with python code."
   ]
  },
  {
   "cell_type": "code",
   "execution_count": 1,
   "metadata": {},
   "outputs": [],
   "source": [
    "import docx\n",
    "\n",
    "def getText(filename):\n",
    "    doc = docx.Document(filename)\n",
    "    fullText = []\n",
    "    for para in doc.paragraphs:\n",
    "        fullText.append(para.text)\n",
    "    return '\\n'.join(fullText)\n",
    "\n",
    "npTextOne = getText(\"Ka Elele Hawaii Buke 4 Pepa 1 Aoao 1 Iune 8 1848.docx\")"
   ]
  },
  {
   "cell_type": "code",
   "execution_count": 3,
   "metadata": {},
   "outputs": [
    {
     "name": "stdout",
     "output_type": "stream",
     "text": [
      "KA ELELE HAWAII.\n",
      " \n",
      "BUKE 4. Honolulu, Oahu, Iune 8, 1848. PEPA 1.\n",
      " \n",
      "Olelo Hoike na ke Kuhina no ke Ao\n"
     ]
    }
   ],
   "source": [
    "print(npTextOne[:100])"
   ]
  },
  {
   "cell_type": "markdown",
   "metadata": {},
   "source": [
    "## Preprocessing and Tokenizing"
   ]
  },
  {
   "cell_type": "markdown",
   "metadata": {},
   "source": [
    "We're going to make a function called cleanText() that removes punctuation and numbers from the text. We will combine this to the getText() function that we created previously and call the split() method to create a list of individual words for each newspaper."
   ]
  },
  {
   "cell_type": "code",
   "execution_count": 4,
   "metadata": {},
   "outputs": [],
   "source": [
    "import string\n",
    "\n",
    "noThanks = string.punctuation\n",
    "noThanks += \"1234567890\"\n",
    "\n",
    "def cleanText(someText):\n",
    "    someText = someText.replace('\\n',' ') # new lines\n",
    "    temp = \"\"\n",
    "    for i in someText:\n",
    "        if i in noThanks:\n",
    "            temp += \" \"\n",
    "        else:\n",
    "            temp += i\n",
    "            \n",
    "    return temp"
   ]
  },
  {
   "cell_type": "code",
   "execution_count": 5,
   "metadata": {},
   "outputs": [],
   "source": [
    "npWordListOne = cleanText(getText(\"Ka Elele Hawaii Buke 4 Pepa 1 Aoao 1 Iune 8 1848.docx\")).lower().split()"
   ]
  },
  {
   "cell_type": "code",
   "execution_count": 6,
   "metadata": {},
   "outputs": [
    {
     "data": {
      "text/plain": [
       "['ka',\n",
       " 'elele',\n",
       " 'hawaii',\n",
       " 'buke',\n",
       " 'honolulu',\n",
       " 'oahu',\n",
       " 'iune',\n",
       " 'pepa',\n",
       " 'olelo',\n",
       " 'hoike']"
      ]
     },
     "execution_count": 6,
     "metadata": {},
     "output_type": "execute_result"
    }
   ],
   "source": [
    "npWordListOne[:10]"
   ]
  },
  {
   "cell_type": "code",
   "execution_count": 7,
   "metadata": {},
   "outputs": [],
   "source": [
    "npWordListTwo = cleanText(getText(\"Ka Lama Hawaii Makahiki 1 Helu 1 Aoao 1 Feberuari 14 1834.docx\")).lower().split()"
   ]
  },
  {
   "cell_type": "code",
   "execution_count": 8,
   "metadata": {},
   "outputs": [],
   "source": [
    "npWordListThree = cleanText(getText(\"Ka Makaainana Buke 11 Helu 7 Aoao 1 Feberuari 13 1899.docx\")).lower().split()"
   ]
  },
  {
   "cell_type": "markdown",
   "metadata": {},
   "source": [
    "By the way, this issue of Ke Kiai ended in a section of English so I trimmed this before saving to the .docx"
   ]
  },
  {
   "cell_type": "code",
   "execution_count": 9,
   "metadata": {},
   "outputs": [],
   "source": [
    "npWordListFour = cleanText(getText(\"Ke Kiai Buke 1 Helu 3 Aoao 1 Sepatemaba 11 1902.docx\")).lower().split()"
   ]
  },
  {
   "cell_type": "code",
   "execution_count": 10,
   "metadata": {},
   "outputs": [],
   "source": [
    "npWordListFive = cleanText(getText(\"Nupepa Kuokoa Buke 1 Helu 1 Okakopa 1861.docx\")).lower().split()"
   ]
  },
  {
   "cell_type": "markdown",
   "metadata": {},
   "source": [
    "## Making the dataframe\n"
   ]
  },
  {
   "cell_type": "markdown",
   "metadata": {},
   "source": [
    "We're going to combine all five lists of words, count the number of occurances, place in a pandas dataframe and reset the index (and make a dummy index \"ind\" to use as our graphs' x-axis)"
   ]
  },
  {
   "cell_type": "code",
   "execution_count": 11,
   "metadata": {},
   "outputs": [],
   "source": [
    "corpusList = npWordListOne + npWordListTwo + npWordListThree + npWordListFour + npWordListFive"
   ]
  },
  {
   "cell_type": "markdown",
   "metadata": {},
   "source": [
    "Counting the number of occurances in the corpus"
   ]
  },
  {
   "cell_type": "code",
   "execution_count": 12,
   "metadata": {},
   "outputs": [],
   "source": [
    "corpusDict = {}\n",
    "\n",
    "for i in corpusList:\n",
    "    if i in corpusDict:\n",
    "        corpusDict[i] +=1\n",
    "    else:\n",
    "        corpusDict[i] = 1"
   ]
  },
  {
   "cell_type": "code",
   "execution_count": 13,
   "metadata": {
    "scrolled": false
   },
   "outputs": [
    {
     "name": "stdout",
     "output_type": "stream",
     "text": [
      "ka : 3187\n",
      "elele : 21\n",
      "hawaii : 132\n",
      "buke : 31\n",
      "honolulu : 64\n"
     ]
    }
   ],
   "source": [
    "for i in range(5):\n",
    "    print(list(corpusDict.keys())[i], \":\",corpusDict[list(corpusDict.keys())[i]])"
   ]
  },
  {
   "cell_type": "markdown",
   "metadata": {},
   "source": [
    "Making the dataframe"
   ]
  },
  {
   "cell_type": "code",
   "execution_count": 14,
   "metadata": {},
   "outputs": [],
   "source": [
    "import pandas as pd\n",
    "import numpy as np\n",
    "\n",
    "df = pd.DataFrame(data=[[i, corpusDict[i]] for i in corpusDict ], columns=[\"word\", \"freq\"])"
   ]
  },
  {
   "cell_type": "markdown",
   "metadata": {},
   "source": [
    "Ordering by frequency, setting the index, and making the dummy column"
   ]
  },
  {
   "cell_type": "code",
   "execution_count": 15,
   "metadata": {},
   "outputs": [],
   "source": [
    "df.sort_values(by=\"freq\",ascending=False, inplace=True)\n",
    "df.reset_index(drop=True, inplace=True)\n",
    "df[\"ind\"] = np.arange(0,3446)"
   ]
  },
  {
   "cell_type": "markdown",
   "metadata": {},
   "source": [
    "## Analyzing the data\n"
   ]
  },
  {
   "cell_type": "code",
   "execution_count": 16,
   "metadata": {},
   "outputs": [
    {
     "data": {
      "text/html": [
       "<div>\n",
       "<style scoped>\n",
       "    .dataframe tbody tr th:only-of-type {\n",
       "        vertical-align: middle;\n",
       "    }\n",
       "\n",
       "    .dataframe tbody tr th {\n",
       "        vertical-align: top;\n",
       "    }\n",
       "\n",
       "    .dataframe thead th {\n",
       "        text-align: right;\n",
       "    }\n",
       "</style>\n",
       "<table border=\"1\" class=\"dataframe\">\n",
       "  <thead>\n",
       "    <tr style=\"text-align: right;\">\n",
       "      <th></th>\n",
       "      <th>word</th>\n",
       "      <th>freq</th>\n",
       "      <th>ind</th>\n",
       "    </tr>\n",
       "  </thead>\n",
       "  <tbody>\n",
       "    <tr>\n",
       "      <th>0</th>\n",
       "      <td>ka</td>\n",
       "      <td>3187</td>\n",
       "      <td>0</td>\n",
       "    </tr>\n",
       "    <tr>\n",
       "      <th>1</th>\n",
       "      <td>i</td>\n",
       "      <td>2838</td>\n",
       "      <td>1</td>\n",
       "    </tr>\n",
       "    <tr>\n",
       "      <th>2</th>\n",
       "      <td>o</td>\n",
       "      <td>2584</td>\n",
       "      <td>2</td>\n",
       "    </tr>\n",
       "    <tr>\n",
       "      <th>3</th>\n",
       "      <td>a</td>\n",
       "      <td>2040</td>\n",
       "      <td>3</td>\n",
       "    </tr>\n",
       "    <tr>\n",
       "      <th>4</th>\n",
       "      <td>e</td>\n",
       "      <td>1745</td>\n",
       "      <td>4</td>\n",
       "    </tr>\n",
       "  </tbody>\n",
       "</table>\n",
       "</div>"
      ],
      "text/plain": [
       "  word  freq  ind\n",
       "0   ka  3187    0\n",
       "1    i  2838    1\n",
       "2    o  2584    2\n",
       "3    a  2040    3\n",
       "4    e  1745    4"
      ]
     },
     "execution_count": 16,
     "metadata": {},
     "output_type": "execute_result"
    }
   ],
   "source": [
    "df.head()"
   ]
  },
  {
   "cell_type": "code",
   "execution_count": 17,
   "metadata": {},
   "outputs": [
    {
     "data": {
      "text/html": [
       "<div>\n",
       "<style scoped>\n",
       "    .dataframe tbody tr th:only-of-type {\n",
       "        vertical-align: middle;\n",
       "    }\n",
       "\n",
       "    .dataframe tbody tr th {\n",
       "        vertical-align: top;\n",
       "    }\n",
       "\n",
       "    .dataframe thead th {\n",
       "        text-align: right;\n",
       "    }\n",
       "</style>\n",
       "<table border=\"1\" class=\"dataframe\">\n",
       "  <thead>\n",
       "    <tr style=\"text-align: right;\">\n",
       "      <th></th>\n",
       "      <th>word</th>\n",
       "      <th>freq</th>\n",
       "      <th>ind</th>\n",
       "    </tr>\n",
       "  </thead>\n",
       "  <tbody>\n",
       "    <tr>\n",
       "      <th>3441</th>\n",
       "      <td>haia</td>\n",
       "      <td>1</td>\n",
       "      <td>3441</td>\n",
       "    </tr>\n",
       "    <tr>\n",
       "      <th>3442</th>\n",
       "      <td>mauleule</td>\n",
       "      <td>1</td>\n",
       "      <td>3442</td>\n",
       "    </tr>\n",
       "    <tr>\n",
       "      <th>3443</th>\n",
       "      <td>hamakuapoko</td>\n",
       "      <td>1</td>\n",
       "      <td>3443</td>\n",
       "    </tr>\n",
       "    <tr>\n",
       "      <th>3444</th>\n",
       "      <td>tempsky</td>\n",
       "      <td>1</td>\n",
       "      <td>3444</td>\n",
       "    </tr>\n",
       "    <tr>\n",
       "      <th>3445</th>\n",
       "      <td>wepa</td>\n",
       "      <td>1</td>\n",
       "      <td>3445</td>\n",
       "    </tr>\n",
       "  </tbody>\n",
       "</table>\n",
       "</div>"
      ],
      "text/plain": [
       "             word  freq   ind\n",
       "3441         haia     1  3441\n",
       "3442     mauleule     1  3442\n",
       "3443  hamakuapoko     1  3443\n",
       "3444      tempsky     1  3444\n",
       "3445         wepa     1  3445"
      ]
     },
     "execution_count": 17,
     "metadata": {},
     "output_type": "execute_result"
    }
   ],
   "source": [
    "df.tail()"
   ]
  },
  {
   "cell_type": "code",
   "execution_count": 18,
   "metadata": {},
   "outputs": [
    {
     "data": {
      "image/png": "[encoded data removed]",
      "text/plain": [
       "<Figure size 432x288 with 1 Axes>"
      ]
     },
     "metadata": {
      "needs_background": "light"
     },
     "output_type": "display_data"
    }
   ],
   "source": [
    "import seaborn as sns\n",
    "\n",
    "g = sns.barplot(data=df, y=\"freq\", x=\"ind\")\n",
    "\n",
    "for ind, label in enumerate(g.get_xticklabels()):\n",
    "    if ind % 500 == 0:  # x ticks\n",
    "        label.set_visible(True)\n",
    "    else:\n",
    "        label.set_visible(False)\n"
   ]
  },
  {
   "cell_type": "markdown",
   "metadata": {},
   "source": [
    "Let's zoom in"
   ]
  },
  {
   "cell_type": "code",
   "execution_count": 19,
   "metadata": {},
   "outputs": [
    {
     "data": {
      "text/plain": [
       "[(0, 800)]"
      ]
     },
     "execution_count": 19,
     "metadata": {},
     "output_type": "execute_result"
    },
    {
     "data": {
      "image/png": "[encoded data removed]",
      "text/plain": [
       "<Figure size 432x288 with 1 Axes>"
      ]
     },
     "metadata": {
      "needs_background": "light"
     },
     "output_type": "display_data"
    }
   ],
   "source": [
    "g = sns.barplot(data=df, y=\"freq\", x=\"ind\")\n",
    "\n",
    "for ind, label in enumerate(g.get_xticklabels()):\n",
    "    if ind % 100 == 0:  # x ticks\n",
    "        label.set_visible(True)\n",
    "    else:\n",
    "        label.set_visible(False)\n",
    "g.set(ylim=(0, 800))\n",
    "g.set(xlim=(0, 800))\n"
   ]
  },
  {
   "cell_type": "markdown",
   "metadata": {},
   "source": [
    "## Finishing up"
   ]
  },
  {
   "cell_type": "markdown",
   "metadata": {},
   "source": [
    "So the cutoff point is the final decider in what does and doesn't make the list. After playing around with the values I finalized the cutoff at a frequency of 110. I tried values between 80 and 200 and determined that 110 gives me a graph that is most similar to the validation graph (located at the introduction of the project). "
   ]
  },
  {
   "cell_type": "code",
   "execution_count": 20,
   "metadata": {},
   "outputs": [
    {
     "data": {
      "text/plain": [
       "[(0, 2000)]"
      ]
     },
     "execution_count": 20,
     "metadata": {},
     "output_type": "execute_result"
    },
    {
     "data": {
      "image/png": "[encoded data removed]",
      "text/plain": [
       "<Figure size 432x288 with 1 Axes>"
      ]
     },
     "metadata": {
      "needs_background": "light"
     },
     "output_type": "display_data"
    }
   ],
   "source": [
    "finalDF = df[df[\"freq\"]<=110]\n",
    "\n",
    "g = sns.barplot(data=finalDF, y=\"freq\", x=\"ind\")\n",
    "\n",
    "for ind, label in enumerate(g.get_xticklabels()):\n",
    "    if ind % 200 == 0:  # x ticks\n",
    "        label.set_visible(True)\n",
    "    else:\n",
    "        label.set_visible(False)\n",
    "g.set(ylim=(0, 150))\n",
    "#g.set(xlim=(0, 3500))\n",
    "g.set(xlim=(0, 2000))\n"
   ]
  },
  {
   "cell_type": "code",
   "execution_count": 21,
   "metadata": {},
   "outputs": [
    {
     "data": {
      "text/html": [
       "<div>\n",
       "<style scoped>\n",
       "    .dataframe tbody tr th:only-of-type {\n",
       "        vertical-align: middle;\n",
       "    }\n",
       "\n",
       "    .dataframe tbody tr th {\n",
       "        vertical-align: top;\n",
       "    }\n",
       "\n",
       "    .dataframe thead th {\n",
       "        text-align: right;\n",
       "    }\n",
       "</style>\n",
       "<table border=\"1\" class=\"dataframe\">\n",
       "  <thead>\n",
       "    <tr style=\"text-align: right;\">\n",
       "      <th></th>\n",
       "      <th>word</th>\n",
       "      <th>freq</th>\n",
       "      <th>ind</th>\n",
       "    </tr>\n",
       "  </thead>\n",
       "  <tbody>\n",
       "    <tr>\n",
       "      <th>69</th>\n",
       "      <td>maikai</td>\n",
       "      <td>110</td>\n",
       "      <td>69</td>\n",
       "    </tr>\n",
       "    <tr>\n",
       "      <th>70</th>\n",
       "      <td>make</td>\n",
       "      <td>110</td>\n",
       "      <td>70</td>\n",
       "    </tr>\n",
       "    <tr>\n",
       "      <th>71</th>\n",
       "      <td>wa</td>\n",
       "      <td>107</td>\n",
       "      <td>71</td>\n",
       "    </tr>\n",
       "    <tr>\n",
       "      <th>72</th>\n",
       "      <td>kula</td>\n",
       "      <td>106</td>\n",
       "      <td>72</td>\n",
       "    </tr>\n",
       "    <tr>\n",
       "      <th>73</th>\n",
       "      <td>au</td>\n",
       "      <td>98</td>\n",
       "      <td>73</td>\n",
       "    </tr>\n",
       "    <tr>\n",
       "      <th>...</th>\n",
       "      <td>...</td>\n",
       "      <td>...</td>\n",
       "      <td>...</td>\n",
       "    </tr>\n",
       "    <tr>\n",
       "      <th>3441</th>\n",
       "      <td>haia</td>\n",
       "      <td>1</td>\n",
       "      <td>3441</td>\n",
       "    </tr>\n",
       "    <tr>\n",
       "      <th>3442</th>\n",
       "      <td>mauleule</td>\n",
       "      <td>1</td>\n",
       "      <td>3442</td>\n",
       "    </tr>\n",
       "    <tr>\n",
       "      <th>3443</th>\n",
       "      <td>hamakuapoko</td>\n",
       "      <td>1</td>\n",
       "      <td>3443</td>\n",
       "    </tr>\n",
       "    <tr>\n",
       "      <th>3444</th>\n",
       "      <td>tempsky</td>\n",
       "      <td>1</td>\n",
       "      <td>3444</td>\n",
       "    </tr>\n",
       "    <tr>\n",
       "      <th>3445</th>\n",
       "      <td>wepa</td>\n",
       "      <td>1</td>\n",
       "      <td>3445</td>\n",
       "    </tr>\n",
       "  </tbody>\n",
       "</table>\n",
       "<p>3377 rows × 3 columns</p>\n",
       "</div>"
      ],
      "text/plain": [
       "             word  freq   ind\n",
       "69         maikai   110    69\n",
       "70           make   110    70\n",
       "71             wa   107    71\n",
       "72           kula   106    72\n",
       "73             au    98    73\n",
       "...           ...   ...   ...\n",
       "3441         haia     1  3441\n",
       "3442     mauleule     1  3442\n",
       "3443  hamakuapoko     1  3443\n",
       "3444      tempsky     1  3444\n",
       "3445         wepa     1  3445\n",
       "\n",
       "[3377 rows x 3 columns]"
      ]
     },
     "execution_count": 21,
     "metadata": {},
     "output_type": "execute_result"
    }
   ],
   "source": [
    "df[df[\"freq\"]<=110]"
   ]
  },
  {
   "cell_type": "code",
   "execution_count": 22,
   "metadata": {},
   "outputs": [],
   "source": [
    "stopwords = list(df[df[\"freq\"]>110][\"word\"])"
   ]
  },
  {
   "cell_type": "markdown",
   "metadata": {},
   "source": [
    "Our list of stopwords"
   ]
  },
  {
   "cell_type": "code",
   "execution_count": 23,
   "metadata": {},
   "outputs": [
    {
     "data": {
      "text/plain": [
       "['ka',\n",
       " 'i',\n",
       " 'o',\n",
       " 'a',\n",
       " 'e',\n",
       " 'na',\n",
       " 'ke',\n",
       " 'no',\n",
       " 'ia',\n",
       " 'ua',\n",
       " 'ana',\n",
       " 'me',\n",
       " 'mai',\n",
       " 'ma',\n",
       " 'he',\n",
       " 'mea',\n",
       " 'la',\n",
       " 'aku',\n",
       " 'ai',\n",
       " 'hoi',\n",
       " 'keia',\n",
       " 'nei',\n",
       " 'mau',\n",
       " 'ko',\n",
       " 'kona',\n",
       " 'lakou',\n",
       " 'nui',\n",
       " 'poe',\n",
       " 'kekahi',\n",
       " 'loa',\n",
       " 'ae',\n",
       " 'oia',\n",
       " 'iho',\n",
       " 'pono',\n",
       " 'hana',\n",
       " 'aole',\n",
       " 'kahi',\n",
       " 'pau',\n",
       " 'ole',\n",
       " 'hiki',\n",
       " 'ike',\n",
       " 'kakou',\n",
       " 'kanaka',\n",
       " 'hou',\n",
       " 'olelo',\n",
       " 'aina',\n",
       " 'ano',\n",
       " 'noho',\n",
       " 'makou',\n",
       " 'manao',\n",
       " 'loaa',\n",
       " 'wale',\n",
       " 'hele',\n",
       " 'hale',\n",
       " 'like',\n",
       " 'wahi',\n",
       " 'hawaii',\n",
       " 'ina',\n",
       " 'iloko',\n",
       " 'paha',\n",
       " 'aupuni',\n",
       " 'eia',\n",
       " 'oukou',\n",
       " 'oe',\n",
       " 'kela',\n",
       " 'u',\n",
       " 'moku',\n",
       " 'ku',\n",
       " 'pu']"
      ]
     },
     "execution_count": 23,
     "metadata": {},
     "output_type": "execute_result"
    }
   ],
   "source": [
    "stopwords"
   ]
  },
  {
   "cell_type": "markdown",
   "metadata": {},
   "source": [
    "The length of the list"
   ]
  },
  {
   "cell_type": "code",
   "execution_count": 24,
   "metadata": {},
   "outputs": [
    {
     "data": {
      "text/plain": [
       "69"
      ]
     },
     "execution_count": 24,
     "metadata": {},
     "output_type": "execute_result"
    }
   ],
   "source": [
    "len(stopwords)"
   ]
  },
  {
   "cell_type": "markdown",
   "metadata": {},
   "source": [
    "## Conclusion\n"
   ]
  },
  {
   "cell_type": "markdown",
   "metadata": {},
   "source": [
    "The Stopwords of a language are powerful. Knowing a languages' Stopwords can amplify algorithms like Cosine Similarity and Malik Summarization ( See my Project 3 to see a text summarization technique). To create a list of Stopwords for the Hawaiian language, we chose a cutoff of our word/freq list based on two graphs. The final vs. validation graphs' compared word/freq void of stop words (one for Hawaiian and one for the control - English). The similarity of the graphs validated the cutoff point that we chose of frequency 110 for this corpus.\n",
    "\n",
    "To run through what we did, we preprocessed the corpus by removing punctuation, numbers and made it case insensitive. We tokenized, found word frequency, and put the data in a data frame. This data frame helped us to sort the values and create graphs easily. I did extra work on the back end in a file called project7Sup.py that delivers the validation word/freq graph for an English corpus (void of stopwords). This served as the control that helped find the cutoff point where too much frequency decided the stopword list. However, there are other things we could have done.\n",
    "\n",
    "Some words like Kaua (us two), maikai (good), and au (me) did not make our list. After analyzing the data frame, a cutoff point of frequency 79 intuitively makes a better list (though it defies the validation graph). To improve upon the list, we could have increased the number of newspapers used, used more modern texts, or compared Stopword/frequency graphs. We might even have asked for help from Hawaiian language experts to better validate the list, used TF - IDF (Term Frequency - Inverse Document Frequency) to somehow select words, or simply translated the list of English stopwords into Hawaiian. Using my domain knowledge of the Hawaiian language, I intuitively validated the Stopwords list and found it a decent list and a good starting point for better lists'. I am open to continuing the project if a better list of Stopwords is needed by myself or others interested in NLP on the Hawaiian language."
   ]
  }
 ],
 "metadata": {
  "kernelspec": {
   "display_name": "Python 3",
   "language": "python",
   "name": "python3"
  },
  "language_info": {
   "codemirror_mode": {
    "name": "ipython",
    "version": 3
   },
   "file_extension": ".py",
   "mimetype": "text/x-python",
   "name": "python",
   "nbconvert_exporter": "python",
   "pygments_lexer": "ipython3",
   "version": "3.7.6"
  }
 },
 "nbformat": 4,
 "nbformat_minor": 4
}
